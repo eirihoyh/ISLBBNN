{
 "cells": [
  {
   "cell_type": "markdown",
   "metadata": {},
   "source": [
    "__NOTE:__ The networks are not available in this github page. This notebook is provided to make it easier to see the results ran in the thesis."
   ]
  },
  {
   "cell_type": "markdown",
   "metadata": {},
   "source": [
    "# WBC"
   ]
  },
  {
   "cell_type": "code",
   "execution_count": 8,
   "metadata": {},
   "outputs": [],
   "source": [
    "import copy\n",
    "import numpy as np\n",
    "import torch\n",
    "import torch.optim as optim\n",
    "from sklearn.model_selection import train_test_split\n",
    "from sklearn.datasets import load_breast_cancer\n",
    "from sklearn.preprocessing import MinMaxScaler\n",
    "from config import config\n",
    "import sys\n",
    "import plot_functions as pf\n",
    "import pipeline_functions as pip_func\n",
    "sys.path.append('networks')\n",
    "from lrt_net import BayesianNetwork\n",
    "import torch.nn.functional as F"
   ]
  },
  {
   "cell_type": "code",
   "execution_count": 10,
   "metadata": {},
   "outputs": [
    {
     "name": "stdout",
     "output_type": "stream",
     "text": [
      "{'Prob I0 from I': 0, 'Prob I1 from I': 0, 'Prob I2 from I': 0, 'Prob I3 from I': 0, 'Prob I4 from I': 0, 'Prob I5 from I': 0, 'Prob I6 from I': 0, 'Prob I7 from I': 0, 'Prob I8 from I': 0, 'Prob I9 from I': 0, 'Prob I10 from I': 0, 'Prob I11 from I': 0, 'Prob I12 from I': 0, 'Prob I13 from I': 0, 'Prob I14 from I': 0, 'Prob I15 from I': 0, 'Prob I16 from I': 0, 'Prob I17 from I': 0, 'Prob I18 from I': 0, 'Prob I19 from I': 0, 'Prob I20 from I': 0, 'Prob I21 from I': 0, 'Prob I22 from I': 0, 'Prob I23 from I': 0, 'Prob I24 from I': 0, 'Prob I25 from I': 0, 'Prob I26 from I': 0, 'Prob I27 from I': 0, 'Prob I28 from I': 0, 'Prob I29 from I': 0, 'Prob I0 from H1': 0, 'Prob I1 from H1': 0, 'Prob I2 from H1': 0, 'Prob I3 from H1': 0, 'Prob I4 from H1': 0, 'Prob I5 from H1': 0, 'Prob I6 from H1': 0, 'Prob I7 from H1': 0, 'Prob I8 from H1': 0, 'Prob I9 from H1': 0, 'Prob I10 from H1': 0, 'Prob I11 from H1': 0, 'Prob I12 from H1': 0, 'Prob I13 from H1': 0, 'Prob I14 from H1': 0, 'Prob I15 from H1': 0, 'Prob I16 from H1': 0, 'Prob I17 from H1': 0, 'Prob I18 from H1': 0, 'Prob I19 from H1': 0, 'Prob I20 from H1': 0, 'Prob I21 from H1': 0, 'Prob I22 from H1': 0, 'Prob I23 from H1': 0, 'Prob I24 from H1': 0, 'Prob I25 from H1': 0, 'Prob I26 from H1': 0, 'Prob I27 from H1': 0, 'Prob I28 from H1': 0, 'Prob I29 from H1': 0, 'Prob I0 from H2': 0, 'Prob I1 from H2': 0, 'Prob I2 from H2': 0, 'Prob I3 from H2': 0, 'Prob I4 from H2': 0, 'Prob I5 from H2': 0, 'Prob I6 from H2': 0, 'Prob I7 from H2': 0, 'Prob I8 from H2': 0, 'Prob I9 from H2': 0, 'Prob I10 from H2': 0, 'Prob I11 from H2': 0, 'Prob I12 from H2': 0, 'Prob I13 from H2': 0, 'Prob I14 from H2': 0, 'Prob I15 from H2': 0, 'Prob I16 from H2': 0, 'Prob I17 from H2': 0, 'Prob I18 from H2': 0, 'Prob I19 from H2': 0, 'Prob I20 from H2': 0, 'Prob I21 from H2': 0, 'Prob I22 from H2': 0, 'Prob I23 from H2': 0, 'Prob I24 from H2': 0, 'Prob I25 from H2': 0, 'Prob I26 from H2': 0, 'Prob I27 from H2': 0, 'Prob I28 from H2': 0, 'Prob I29 from H2': 0}\n",
      "H2\n",
      "{'Prob I0 from I': 0, 'Prob I1 from I': 0, 'Prob I2 from I': 0, 'Prob I3 from I': 0, 'Prob I4 from I': 0, 'Prob I5 from I': 0, 'Prob I6 from I': 0, 'Prob I7 from I': 0, 'Prob I8 from I': 0, 'Prob I9 from I': 0, 'Prob I10 from I': 0, 'Prob I11 from I': 0, 'Prob I12 from I': 0, 'Prob I13 from I': 0, 'Prob I14 from I': 0, 'Prob I15 from I': 0, 'Prob I16 from I': 0, 'Prob I17 from I': 0, 'Prob I18 from I': 0, 'Prob I19 from I': 0, 'Prob I20 from I': 0, 'Prob I21 from I': 0, 'Prob I22 from I': 0, 'Prob I23 from I': 0, 'Prob I24 from I': 0, 'Prob I25 from I': 0, 'Prob I26 from I': 0, 'Prob I27 from I': 0, 'Prob I28 from I': 0, 'Prob I29 from I': 0, 'Prob I0 from H1': 0, 'Prob I1 from H1': 0, 'Prob I2 from H1': 0, 'Prob I3 from H1': 0, 'Prob I4 from H1': 0, 'Prob I5 from H1': 0, 'Prob I6 from H1': 0, 'Prob I7 from H1': 0, 'Prob I8 from H1': 0, 'Prob I9 from H1': 0, 'Prob I10 from H1': 0, 'Prob I11 from H1': 0, 'Prob I12 from H1': 0, 'Prob I13 from H1': 0, 'Prob I14 from H1': 0, 'Prob I15 from H1': 0, 'Prob I16 from H1': 0, 'Prob I17 from H1': 0, 'Prob I18 from H1': 0, 'Prob I19 from H1': 0, 'Prob I20 from H1': 0, 'Prob I21 from H1': 0, 'Prob I22 from H1': 0, 'Prob I23 from H1': 0, 'Prob I24 from H1': 0, 'Prob I25 from H1': 0, 'Prob I26 from H1': 0, 'Prob I27 from H1': 0, 'Prob I28 from H1': 0, 'Prob I29 from H1': 0, 'Prob I0 from H2': 0, 'Prob I1 from H2': 0, 'Prob I2 from H2': 0, 'Prob I3 from H2': 0, 'Prob I4 from H2': 0, 'Prob I5 from H2': 0, 'Prob I6 from H2': 0, 'Prob I7 from H2': 0, 'Prob I8 from H2': 0, 'Prob I9 from H2': 0, 'Prob I10 from H2': 0, 'Prob I11 from H2': 0, 'Prob I12 from H2': 0, 'Prob I13 from H2': 0, 'Prob I14 from H2': 0, 'Prob I15 from H2': 0, 'Prob I16 from H2': 0, 'Prob I17 from H2': 0, 'Prob I18 from H2': 0, 'Prob I19 from H2': 0, 'Prob I20 from H2': 0, 'Prob I21 from H2': 0, 'Prob I22 from H2': 0, 'Prob I23 from H2': 0, 'Prob I24 from H2': 0, 'Prob I25 from H2': 0, 'Prob I26 from H2': 0, 'Prob I27 from H2': 0, 'Prob I28 from H2': 0, 'Prob I29 from H2': 0}\n",
      "H2\n",
      "{'Prob I0 from I': 0, 'Prob I1 from I': 0, 'Prob I2 from I': 0, 'Prob I3 from I': 0, 'Prob I4 from I': 0, 'Prob I5 from I': 0, 'Prob I6 from I': 0, 'Prob I7 from I': 0, 'Prob I8 from I': 0, 'Prob I9 from I': 0, 'Prob I10 from I': 0, 'Prob I11 from I': 0, 'Prob I12 from I': 0, 'Prob I13 from I': 0, 'Prob I14 from I': 0, 'Prob I15 from I': 0, 'Prob I16 from I': 0, 'Prob I17 from I': 0, 'Prob I18 from I': 0, 'Prob I19 from I': 0, 'Prob I20 from I': 0, 'Prob I21 from I': 0, 'Prob I22 from I': 0, 'Prob I23 from I': 0, 'Prob I24 from I': 0, 'Prob I25 from I': 0, 'Prob I26 from I': 0, 'Prob I27 from I': 0, 'Prob I28 from I': 0, 'Prob I29 from I': 0, 'Prob I0 from H1': 0, 'Prob I1 from H1': 0, 'Prob I2 from H1': 0, 'Prob I3 from H1': 0, 'Prob I4 from H1': 0, 'Prob I5 from H1': 0, 'Prob I6 from H1': 0, 'Prob I7 from H1': 0, 'Prob I8 from H1': 0, 'Prob I9 from H1': 0, 'Prob I10 from H1': 0, 'Prob I11 from H1': 0, 'Prob I12 from H1': 0, 'Prob I13 from H1': 0, 'Prob I14 from H1': 0, 'Prob I15 from H1': 0, 'Prob I16 from H1': 0, 'Prob I17 from H1': 0, 'Prob I18 from H1': 0, 'Prob I19 from H1': 0, 'Prob I20 from H1': 0, 'Prob I21 from H1': 0, 'Prob I22 from H1': 0, 'Prob I23 from H1': 0, 'Prob I24 from H1': 0, 'Prob I25 from H1': 0, 'Prob I26 from H1': 0, 'Prob I27 from H1': 0, 'Prob I28 from H1': 0, 'Prob I29 from H1': 0, 'Prob I0 from H2': 0, 'Prob I1 from H2': 0, 'Prob I2 from H2': 0, 'Prob I3 from H2': 0, 'Prob I4 from H2': 0, 'Prob I5 from H2': 0, 'Prob I6 from H2': 0, 'Prob I7 from H2': 0, 'Prob I8 from H2': 0, 'Prob I9 from H2': 0, 'Prob I10 from H2': 0, 'Prob I11 from H2': 0, 'Prob I12 from H2': 0, 'Prob I13 from H2': 0, 'Prob I14 from H2': 0, 'Prob I15 from H2': 0, 'Prob I16 from H2': 0, 'Prob I17 from H2': 0, 'Prob I18 from H2': 0, 'Prob I19 from H2': 0, 'Prob I20 from H2': 0, 'Prob I21 from H2': 0, 'Prob I22 from H2': 0, 'Prob I23 from H2': 0, 'Prob I24 from H2': 0, 'Prob I25 from H2': 0, 'Prob I26 from H2': 0, 'Prob I27 from H2': 0, 'Prob I28 from H2': 0, 'Prob I29 from H2': 0}\n",
      "H2\n",
      "{'Prob I0 from I': 0, 'Prob I1 from I': 0, 'Prob I2 from I': 0, 'Prob I3 from I': 0, 'Prob I4 from I': 0, 'Prob I5 from I': 0, 'Prob I6 from I': 0, 'Prob I7 from I': 0, 'Prob I8 from I': 0, 'Prob I9 from I': 0, 'Prob I10 from I': 0, 'Prob I11 from I': 0, 'Prob I12 from I': 0, 'Prob I13 from I': 0, 'Prob I14 from I': 0, 'Prob I15 from I': 0, 'Prob I16 from I': 0, 'Prob I17 from I': 0, 'Prob I18 from I': 0, 'Prob I19 from I': 0, 'Prob I20 from I': 0, 'Prob I21 from I': 0, 'Prob I22 from I': 0, 'Prob I23 from I': 0, 'Prob I24 from I': 0, 'Prob I25 from I': 0, 'Prob I26 from I': 0, 'Prob I27 from I': 0, 'Prob I28 from I': 0, 'Prob I29 from I': 0, 'Prob I0 from H1': 0, 'Prob I1 from H1': 0, 'Prob I2 from H1': 0, 'Prob I3 from H1': 0, 'Prob I4 from H1': 0, 'Prob I5 from H1': 0, 'Prob I6 from H1': 0, 'Prob I7 from H1': 0, 'Prob I8 from H1': 0, 'Prob I9 from H1': 0, 'Prob I10 from H1': 0, 'Prob I11 from H1': 0, 'Prob I12 from H1': 0, 'Prob I13 from H1': 0, 'Prob I14 from H1': 0, 'Prob I15 from H1': 0, 'Prob I16 from H1': 0, 'Prob I17 from H1': 0, 'Prob I18 from H1': 0, 'Prob I19 from H1': 0, 'Prob I20 from H1': 0, 'Prob I21 from H1': 0, 'Prob I22 from H1': 0, 'Prob I23 from H1': 0, 'Prob I24 from H1': 0, 'Prob I25 from H1': 0, 'Prob I26 from H1': 0, 'Prob I27 from H1': 0, 'Prob I28 from H1': 0, 'Prob I29 from H1': 0, 'Prob I0 from H2': 0, 'Prob I1 from H2': 0, 'Prob I2 from H2': 0, 'Prob I3 from H2': 0, 'Prob I4 from H2': 0, 'Prob I5 from H2': 0, 'Prob I6 from H2': 0, 'Prob I7 from H2': 0, 'Prob I8 from H2': 0, 'Prob I9 from H2': 0, 'Prob I10 from H2': 0, 'Prob I11 from H2': 0, 'Prob I12 from H2': 0, 'Prob I13 from H2': 0, 'Prob I14 from H2': 0, 'Prob I15 from H2': 0, 'Prob I16 from H2': 0, 'Prob I17 from H2': 0, 'Prob I18 from H2': 0, 'Prob I19 from H2': 0, 'Prob I20 from H2': 0, 'Prob I21 from H2': 0, 'Prob I22 from H2': 0, 'Prob I23 from H2': 0, 'Prob I24 from H2': 0, 'Prob I25 from H2': 0, 'Prob I26 from H2': 0, 'Prob I27 from H2': 0, 'Prob I28 from H2': 0, 'Prob I29 from H2': 0}\n",
      "H2\n",
      "{'Prob I0 from I': 0, 'Prob I1 from I': 0, 'Prob I2 from I': 0, 'Prob I3 from I': 0, 'Prob I4 from I': 0, 'Prob I5 from I': 0, 'Prob I6 from I': 0, 'Prob I7 from I': 0, 'Prob I8 from I': 0, 'Prob I9 from I': 0, 'Prob I10 from I': 0, 'Prob I11 from I': 0, 'Prob I12 from I': 0, 'Prob I13 from I': 0, 'Prob I14 from I': 0, 'Prob I15 from I': 0, 'Prob I16 from I': 0, 'Prob I17 from I': 0, 'Prob I18 from I': 0, 'Prob I19 from I': 0, 'Prob I20 from I': 0, 'Prob I21 from I': 0, 'Prob I22 from I': 0, 'Prob I23 from I': 0, 'Prob I24 from I': 0, 'Prob I25 from I': 0, 'Prob I26 from I': 0, 'Prob I27 from I': 0, 'Prob I28 from I': 0, 'Prob I29 from I': 0, 'Prob I0 from H1': 0, 'Prob I1 from H1': 0, 'Prob I2 from H1': 0, 'Prob I3 from H1': 0, 'Prob I4 from H1': 0, 'Prob I5 from H1': 0, 'Prob I6 from H1': 0, 'Prob I7 from H1': 0, 'Prob I8 from H1': 0, 'Prob I9 from H1': 0, 'Prob I10 from H1': 0, 'Prob I11 from H1': 0, 'Prob I12 from H1': 0, 'Prob I13 from H1': 0, 'Prob I14 from H1': 0, 'Prob I15 from H1': 0, 'Prob I16 from H1': 0, 'Prob I17 from H1': 0, 'Prob I18 from H1': 0, 'Prob I19 from H1': 0, 'Prob I20 from H1': 0, 'Prob I21 from H1': 0, 'Prob I22 from H1': 0, 'Prob I23 from H1': 0, 'Prob I24 from H1': 0, 'Prob I25 from H1': 0, 'Prob I26 from H1': 0, 'Prob I27 from H1': 0, 'Prob I28 from H1': 0, 'Prob I29 from H1': 0, 'Prob I0 from H2': 0, 'Prob I1 from H2': 0, 'Prob I2 from H2': 0, 'Prob I3 from H2': 0, 'Prob I4 from H2': 0, 'Prob I5 from H2': 0, 'Prob I6 from H2': 0, 'Prob I7 from H2': 0, 'Prob I8 from H2': 0, 'Prob I9 from H2': 0, 'Prob I10 from H2': 0, 'Prob I11 from H2': 0, 'Prob I12 from H2': 0, 'Prob I13 from H2': 0, 'Prob I14 from H2': 0, 'Prob I15 from H2': 0, 'Prob I16 from H2': 0, 'Prob I17 from H2': 0, 'Prob I18 from H2': 0, 'Prob I19 from H2': 0, 'Prob I20 from H2': 0, 'Prob I21 from H2': 0, 'Prob I22 from H2': 0, 'Prob I23 from H2': 0, 'Prob I24 from H2': 0, 'Prob I25 from H2': 0, 'Prob I26 from H2': 0, 'Prob I27 from H2': 0, 'Prob I28 from H2': 0, 'Prob I29 from H2': 0}\n",
      "H2\n",
      "{'Prob I0 from I': 0, 'Prob I1 from I': 0, 'Prob I2 from I': 0, 'Prob I3 from I': 0, 'Prob I4 from I': 0, 'Prob I5 from I': 0, 'Prob I6 from I': 0, 'Prob I7 from I': 0, 'Prob I8 from I': 0, 'Prob I9 from I': 0, 'Prob I10 from I': 0, 'Prob I11 from I': 0, 'Prob I12 from I': 0, 'Prob I13 from I': 0, 'Prob I14 from I': 0, 'Prob I15 from I': 0, 'Prob I16 from I': 0, 'Prob I17 from I': 0, 'Prob I18 from I': 0, 'Prob I19 from I': 0, 'Prob I20 from I': 0, 'Prob I21 from I': 0, 'Prob I22 from I': 0, 'Prob I23 from I': 0, 'Prob I24 from I': 0, 'Prob I25 from I': 0, 'Prob I26 from I': 0, 'Prob I27 from I': 0, 'Prob I28 from I': 0, 'Prob I29 from I': 0, 'Prob I0 from H1': 0, 'Prob I1 from H1': 0, 'Prob I2 from H1': 0, 'Prob I3 from H1': 0, 'Prob I4 from H1': 0, 'Prob I5 from H1': 0, 'Prob I6 from H1': 0, 'Prob I7 from H1': 0, 'Prob I8 from H1': 0, 'Prob I9 from H1': 0, 'Prob I10 from H1': 0, 'Prob I11 from H1': 0, 'Prob I12 from H1': 0, 'Prob I13 from H1': 0, 'Prob I14 from H1': 0, 'Prob I15 from H1': 0, 'Prob I16 from H1': 0, 'Prob I17 from H1': 0, 'Prob I18 from H1': 0, 'Prob I19 from H1': 0, 'Prob I20 from H1': 0, 'Prob I21 from H1': 0, 'Prob I22 from H1': 0, 'Prob I23 from H1': 0, 'Prob I24 from H1': 0, 'Prob I25 from H1': 0, 'Prob I26 from H1': 0, 'Prob I27 from H1': 0, 'Prob I28 from H1': 0, 'Prob I29 from H1': 0, 'Prob I0 from H2': 0, 'Prob I1 from H2': 0, 'Prob I2 from H2': 0, 'Prob I3 from H2': 0, 'Prob I4 from H2': 0, 'Prob I5 from H2': 0, 'Prob I6 from H2': 0, 'Prob I7 from H2': 0, 'Prob I8 from H2': 0, 'Prob I9 from H2': 0, 'Prob I10 from H2': 0, 'Prob I11 from H2': 0, 'Prob I12 from H2': 0, 'Prob I13 from H2': 0, 'Prob I14 from H2': 0, 'Prob I15 from H2': 0, 'Prob I16 from H2': 0, 'Prob I17 from H2': 0, 'Prob I18 from H2': 0, 'Prob I19 from H2': 0, 'Prob I20 from H2': 0, 'Prob I21 from H2': 0, 'Prob I22 from H2': 0, 'Prob I23 from H2': 0, 'Prob I24 from H2': 0, 'Prob I25 from H2': 0, 'Prob I26 from H2': 0, 'Prob I27 from H2': 0, 'Prob I28 from H2': 0, 'Prob I29 from H2': 0}\n",
      "H2\n",
      "{'Prob I0 from I': 0, 'Prob I1 from I': 0, 'Prob I2 from I': 0, 'Prob I3 from I': 0, 'Prob I4 from I': 0, 'Prob I5 from I': 0, 'Prob I6 from I': 0, 'Prob I7 from I': 0, 'Prob I8 from I': 0, 'Prob I9 from I': 0, 'Prob I10 from I': 0, 'Prob I11 from I': 0, 'Prob I12 from I': 0, 'Prob I13 from I': 0, 'Prob I14 from I': 0, 'Prob I15 from I': 0, 'Prob I16 from I': 0, 'Prob I17 from I': 0, 'Prob I18 from I': 0, 'Prob I19 from I': 0, 'Prob I20 from I': 0, 'Prob I21 from I': 0, 'Prob I22 from I': 0, 'Prob I23 from I': 0, 'Prob I24 from I': 0, 'Prob I25 from I': 0, 'Prob I26 from I': 0, 'Prob I27 from I': 0, 'Prob I28 from I': 0, 'Prob I29 from I': 0, 'Prob I0 from H1': 0, 'Prob I1 from H1': 0, 'Prob I2 from H1': 0, 'Prob I3 from H1': 0, 'Prob I4 from H1': 0, 'Prob I5 from H1': 0, 'Prob I6 from H1': 0, 'Prob I7 from H1': 0, 'Prob I8 from H1': 0, 'Prob I9 from H1': 0, 'Prob I10 from H1': 0, 'Prob I11 from H1': 0, 'Prob I12 from H1': 0, 'Prob I13 from H1': 0, 'Prob I14 from H1': 0, 'Prob I15 from H1': 0, 'Prob I16 from H1': 0, 'Prob I17 from H1': 0, 'Prob I18 from H1': 0, 'Prob I19 from H1': 0, 'Prob I20 from H1': 0, 'Prob I21 from H1': 0, 'Prob I22 from H1': 0, 'Prob I23 from H1': 0, 'Prob I24 from H1': 0, 'Prob I25 from H1': 0, 'Prob I26 from H1': 0, 'Prob I27 from H1': 0, 'Prob I28 from H1': 0, 'Prob I29 from H1': 0, 'Prob I0 from H2': 0, 'Prob I1 from H2': 0, 'Prob I2 from H2': 0, 'Prob I3 from H2': 0, 'Prob I4 from H2': 0, 'Prob I5 from H2': 0, 'Prob I6 from H2': 0, 'Prob I7 from H2': 0, 'Prob I8 from H2': 0, 'Prob I9 from H2': 0, 'Prob I10 from H2': 0, 'Prob I11 from H2': 0, 'Prob I12 from H2': 0, 'Prob I13 from H2': 0, 'Prob I14 from H2': 0, 'Prob I15 from H2': 0, 'Prob I16 from H2': 0, 'Prob I17 from H2': 0, 'Prob I18 from H2': 0, 'Prob I19 from H2': 0, 'Prob I20 from H2': 0, 'Prob I21 from H2': 0, 'Prob I22 from H2': 0, 'Prob I23 from H2': 0, 'Prob I24 from H2': 0, 'Prob I25 from H2': 0, 'Prob I26 from H2': 0, 'Prob I27 from H2': 0, 'Prob I28 from H2': 0, 'Prob I29 from H2': 0}\n",
      "H2\n",
      "{'Prob I0 from I': 0, 'Prob I1 from I': 0, 'Prob I2 from I': 0, 'Prob I3 from I': 0, 'Prob I4 from I': 0, 'Prob I5 from I': 0, 'Prob I6 from I': 0, 'Prob I7 from I': 0, 'Prob I8 from I': 0, 'Prob I9 from I': 0, 'Prob I10 from I': 0, 'Prob I11 from I': 0, 'Prob I12 from I': 0, 'Prob I13 from I': 0, 'Prob I14 from I': 0, 'Prob I15 from I': 0, 'Prob I16 from I': 0, 'Prob I17 from I': 0, 'Prob I18 from I': 0, 'Prob I19 from I': 0, 'Prob I20 from I': 0, 'Prob I21 from I': 0, 'Prob I22 from I': 0, 'Prob I23 from I': 0, 'Prob I24 from I': 0, 'Prob I25 from I': 0, 'Prob I26 from I': 0, 'Prob I27 from I': 0, 'Prob I28 from I': 0, 'Prob I29 from I': 0, 'Prob I0 from H1': 0, 'Prob I1 from H1': 0, 'Prob I2 from H1': 0, 'Prob I3 from H1': 0, 'Prob I4 from H1': 0, 'Prob I5 from H1': 0, 'Prob I6 from H1': 0, 'Prob I7 from H1': 0, 'Prob I8 from H1': 0, 'Prob I9 from H1': 0, 'Prob I10 from H1': 0, 'Prob I11 from H1': 0, 'Prob I12 from H1': 0, 'Prob I13 from H1': 0, 'Prob I14 from H1': 0, 'Prob I15 from H1': 0, 'Prob I16 from H1': 0, 'Prob I17 from H1': 0, 'Prob I18 from H1': 0, 'Prob I19 from H1': 0, 'Prob I20 from H1': 0, 'Prob I21 from H1': 0, 'Prob I22 from H1': 0, 'Prob I23 from H1': 0, 'Prob I24 from H1': 0, 'Prob I25 from H1': 0, 'Prob I26 from H1': 0, 'Prob I27 from H1': 0, 'Prob I28 from H1': 0, 'Prob I29 from H1': 0, 'Prob I0 from H2': 0, 'Prob I1 from H2': 0, 'Prob I2 from H2': 0, 'Prob I3 from H2': 0, 'Prob I4 from H2': 0, 'Prob I5 from H2': 0, 'Prob I6 from H2': 0, 'Prob I7 from H2': 0, 'Prob I8 from H2': 0, 'Prob I9 from H2': 0, 'Prob I10 from H2': 0, 'Prob I11 from H2': 0, 'Prob I12 from H2': 0, 'Prob I13 from H2': 0, 'Prob I14 from H2': 0, 'Prob I15 from H2': 0, 'Prob I16 from H2': 0, 'Prob I17 from H2': 0, 'Prob I18 from H2': 0, 'Prob I19 from H2': 0, 'Prob I20 from H2': 0, 'Prob I21 from H2': 0, 'Prob I22 from H2': 0, 'Prob I23 from H2': 0, 'Prob I24 from H2': 0, 'Prob I25 from H2': 0, 'Prob I26 from H2': 0, 'Prob I27 from H2': 0, 'Prob I28 from H2': 0, 'Prob I29 from H2': 0}\n",
      "H2\n",
      "{'Prob I0 from I': 0, 'Prob I1 from I': 0, 'Prob I2 from I': 0, 'Prob I3 from I': 0, 'Prob I4 from I': 0, 'Prob I5 from I': 0, 'Prob I6 from I': 0, 'Prob I7 from I': 0, 'Prob I8 from I': 0, 'Prob I9 from I': 0, 'Prob I10 from I': 0, 'Prob I11 from I': 0, 'Prob I12 from I': 0, 'Prob I13 from I': 0, 'Prob I14 from I': 0, 'Prob I15 from I': 0, 'Prob I16 from I': 0, 'Prob I17 from I': 0, 'Prob I18 from I': 0, 'Prob I19 from I': 0, 'Prob I20 from I': 0, 'Prob I21 from I': 0, 'Prob I22 from I': 0, 'Prob I23 from I': 0, 'Prob I24 from I': 0, 'Prob I25 from I': 0, 'Prob I26 from I': 0, 'Prob I27 from I': 0, 'Prob I28 from I': 0, 'Prob I29 from I': 0, 'Prob I0 from H1': 0, 'Prob I1 from H1': 0, 'Prob I2 from H1': 0, 'Prob I3 from H1': 0, 'Prob I4 from H1': 0, 'Prob I5 from H1': 0, 'Prob I6 from H1': 0, 'Prob I7 from H1': 0, 'Prob I8 from H1': 0, 'Prob I9 from H1': 0, 'Prob I10 from H1': 0, 'Prob I11 from H1': 0, 'Prob I12 from H1': 0, 'Prob I13 from H1': 0, 'Prob I14 from H1': 0, 'Prob I15 from H1': 0, 'Prob I16 from H1': 0, 'Prob I17 from H1': 0, 'Prob I18 from H1': 0, 'Prob I19 from H1': 0, 'Prob I20 from H1': 0, 'Prob I21 from H1': 0, 'Prob I22 from H1': 0, 'Prob I23 from H1': 0, 'Prob I24 from H1': 0, 'Prob I25 from H1': 0, 'Prob I26 from H1': 0, 'Prob I27 from H1': 0, 'Prob I28 from H1': 0, 'Prob I29 from H1': 0, 'Prob I0 from H2': 0, 'Prob I1 from H2': 0, 'Prob I2 from H2': 0, 'Prob I3 from H2': 0, 'Prob I4 from H2': 0, 'Prob I5 from H2': 0, 'Prob I6 from H2': 0, 'Prob I7 from H2': 0, 'Prob I8 from H2': 0, 'Prob I9 from H2': 0, 'Prob I10 from H2': 0, 'Prob I11 from H2': 0, 'Prob I12 from H2': 0, 'Prob I13 from H2': 0, 'Prob I14 from H2': 0, 'Prob I15 from H2': 0, 'Prob I16 from H2': 0, 'Prob I17 from H2': 0, 'Prob I18 from H2': 0, 'Prob I19 from H2': 0, 'Prob I20 from H2': 0, 'Prob I21 from H2': 0, 'Prob I22 from H2': 0, 'Prob I23 from H2': 0, 'Prob I24 from H2': 0, 'Prob I25 from H2': 0, 'Prob I26 from H2': 0, 'Prob I27 from H2': 0, 'Prob I28 from H2': 0, 'Prob I29 from H2': 0}\n",
      "H2\n",
      "{'Prob I0 from I': 0, 'Prob I1 from I': 0, 'Prob I2 from I': 0, 'Prob I3 from I': 0, 'Prob I4 from I': 0, 'Prob I5 from I': 0, 'Prob I6 from I': 0, 'Prob I7 from I': 0, 'Prob I8 from I': 0, 'Prob I9 from I': 0, 'Prob I10 from I': 0, 'Prob I11 from I': 0, 'Prob I12 from I': 0, 'Prob I13 from I': 0, 'Prob I14 from I': 0, 'Prob I15 from I': 0, 'Prob I16 from I': 0, 'Prob I17 from I': 0, 'Prob I18 from I': 0, 'Prob I19 from I': 0, 'Prob I20 from I': 0, 'Prob I21 from I': 0, 'Prob I22 from I': 0, 'Prob I23 from I': 0, 'Prob I24 from I': 0, 'Prob I25 from I': 0, 'Prob I26 from I': 0, 'Prob I27 from I': 0, 'Prob I28 from I': 0, 'Prob I29 from I': 0, 'Prob I0 from H1': 0, 'Prob I1 from H1': 0, 'Prob I2 from H1': 0, 'Prob I3 from H1': 0, 'Prob I4 from H1': 0, 'Prob I5 from H1': 0, 'Prob I6 from H1': 0, 'Prob I7 from H1': 0, 'Prob I8 from H1': 0, 'Prob I9 from H1': 0, 'Prob I10 from H1': 0, 'Prob I11 from H1': 0, 'Prob I12 from H1': 0, 'Prob I13 from H1': 0, 'Prob I14 from H1': 0, 'Prob I15 from H1': 0, 'Prob I16 from H1': 0, 'Prob I17 from H1': 0, 'Prob I18 from H1': 0, 'Prob I19 from H1': 0, 'Prob I20 from H1': 0, 'Prob I21 from H1': 0, 'Prob I22 from H1': 0, 'Prob I23 from H1': 0, 'Prob I24 from H1': 0, 'Prob I25 from H1': 0, 'Prob I26 from H1': 0, 'Prob I27 from H1': 0, 'Prob I28 from H1': 0, 'Prob I29 from H1': 0, 'Prob I0 from H2': 0, 'Prob I1 from H2': 0, 'Prob I2 from H2': 0, 'Prob I3 from H2': 0, 'Prob I4 from H2': 0, 'Prob I5 from H2': 0, 'Prob I6 from H2': 0, 'Prob I7 from H2': 0, 'Prob I8 from H2': 0, 'Prob I9 from H2': 0, 'Prob I10 from H2': 0, 'Prob I11 from H2': 0, 'Prob I12 from H2': 0, 'Prob I13 from H2': 0, 'Prob I14 from H2': 0, 'Prob I15 from H2': 0, 'Prob I16 from H2': 0, 'Prob I17 from H2': 0, 'Prob I18 from H2': 0, 'Prob I19 from H2': 0, 'Prob I20 from H2': 0, 'Prob I21 from H2': 0, 'Prob I22 from H2': 0, 'Prob I23 from H2': 0, 'Prob I24 from H2': 0, 'Prob I25 from H2': 0, 'Prob I26 from H2': 0, 'Prob I27 from H2': 0, 'Prob I28 from H2': 0, 'Prob I29 from H2': 0}\n",
      "H2\n",
      "{'Prob I0 from I': 0, 'Prob I1 from I': 0, 'Prob I2 from I': 0, 'Prob I3 from I': 0, 'Prob I4 from I': 0, 'Prob I5 from I': 0, 'Prob I6 from I': 0, 'Prob I7 from I': 0, 'Prob I8 from I': 0, 'Prob I9 from I': 0, 'Prob I10 from I': 0, 'Prob I11 from I': 0, 'Prob I12 from I': 0, 'Prob I13 from I': 0, 'Prob I14 from I': 0, 'Prob I15 from I': 0, 'Prob I16 from I': 0, 'Prob I17 from I': 0, 'Prob I18 from I': 0, 'Prob I19 from I': 0, 'Prob I20 from I': 0, 'Prob I21 from I': 0, 'Prob I22 from I': 0, 'Prob I23 from I': 0, 'Prob I24 from I': 0, 'Prob I25 from I': 0, 'Prob I26 from I': 0, 'Prob I27 from I': 0, 'Prob I28 from I': 0, 'Prob I29 from I': 0, 'Prob I0 from H1': 0, 'Prob I1 from H1': 0, 'Prob I2 from H1': 0, 'Prob I3 from H1': 0, 'Prob I4 from H1': 0, 'Prob I5 from H1': 0, 'Prob I6 from H1': 0, 'Prob I7 from H1': 0, 'Prob I8 from H1': 0, 'Prob I9 from H1': 0, 'Prob I10 from H1': 0, 'Prob I11 from H1': 0, 'Prob I12 from H1': 0, 'Prob I13 from H1': 0, 'Prob I14 from H1': 0, 'Prob I15 from H1': 0, 'Prob I16 from H1': 0, 'Prob I17 from H1': 0, 'Prob I18 from H1': 0, 'Prob I19 from H1': 0, 'Prob I20 from H1': 0, 'Prob I21 from H1': 0, 'Prob I22 from H1': 0, 'Prob I23 from H1': 0, 'Prob I24 from H1': 0, 'Prob I25 from H1': 0, 'Prob I26 from H1': 0, 'Prob I27 from H1': 0, 'Prob I28 from H1': 0, 'Prob I29 from H1': 0, 'Prob I0 from H2': 0, 'Prob I1 from H2': 0, 'Prob I2 from H2': 0, 'Prob I3 from H2': 0, 'Prob I4 from H2': 0, 'Prob I5 from H2': 0, 'Prob I6 from H2': 0, 'Prob I7 from H2': 0, 'Prob I8 from H2': 0, 'Prob I9 from H2': 0, 'Prob I10 from H2': 0, 'Prob I11 from H2': 0, 'Prob I12 from H2': 0, 'Prob I13 from H2': 0, 'Prob I14 from H2': 0, 'Prob I15 from H2': 0, 'Prob I16 from H2': 0, 'Prob I17 from H2': 0, 'Prob I18 from H2': 0, 'Prob I19 from H2': 0, 'Prob I20 from H2': 0, 'Prob I21 from H2': 0, 'Prob I22 from H2': 0, 'Prob I23 from H2': 0, 'Prob I24 from H2': 0, 'Prob I25 from H2': 0, 'Prob I26 from H2': 0, 'Prob I27 from H2': 0, 'Prob I28 from H2': 0, 'Prob I29 from H2': 0}\n",
      "H2\n",
      "{'Prob I0 from I': 0, 'Prob I1 from I': 0, 'Prob I2 from I': 0, 'Prob I3 from I': 0, 'Prob I4 from I': 0, 'Prob I5 from I': 0, 'Prob I6 from I': 0, 'Prob I7 from I': 0, 'Prob I8 from I': 0, 'Prob I9 from I': 0, 'Prob I10 from I': 0, 'Prob I11 from I': 0, 'Prob I12 from I': 0, 'Prob I13 from I': 0, 'Prob I14 from I': 0, 'Prob I15 from I': 0, 'Prob I16 from I': 0, 'Prob I17 from I': 0, 'Prob I18 from I': 0, 'Prob I19 from I': 0, 'Prob I20 from I': 0, 'Prob I21 from I': 0, 'Prob I22 from I': 0, 'Prob I23 from I': 0, 'Prob I24 from I': 0, 'Prob I25 from I': 0, 'Prob I26 from I': 0, 'Prob I27 from I': 0, 'Prob I28 from I': 0, 'Prob I29 from I': 0, 'Prob I0 from H1': 0, 'Prob I1 from H1': 0, 'Prob I2 from H1': 0, 'Prob I3 from H1': 0, 'Prob I4 from H1': 0, 'Prob I5 from H1': 0, 'Prob I6 from H1': 0, 'Prob I7 from H1': 0, 'Prob I8 from H1': 0, 'Prob I9 from H1': 0, 'Prob I10 from H1': 0, 'Prob I11 from H1': 0, 'Prob I12 from H1': 0, 'Prob I13 from H1': 0, 'Prob I14 from H1': 0, 'Prob I15 from H1': 0, 'Prob I16 from H1': 0, 'Prob I17 from H1': 0, 'Prob I18 from H1': 0, 'Prob I19 from H1': 0, 'Prob I20 from H1': 0, 'Prob I21 from H1': 0, 'Prob I22 from H1': 0, 'Prob I23 from H1': 0, 'Prob I24 from H1': 0, 'Prob I25 from H1': 0, 'Prob I26 from H1': 0, 'Prob I27 from H1': 0, 'Prob I28 from H1': 0, 'Prob I29 from H1': 0, 'Prob I0 from H2': 0, 'Prob I1 from H2': 0, 'Prob I2 from H2': 0, 'Prob I3 from H2': 0, 'Prob I4 from H2': 0, 'Prob I5 from H2': 0, 'Prob I6 from H2': 0, 'Prob I7 from H2': 0, 'Prob I8 from H2': 0, 'Prob I9 from H2': 0, 'Prob I10 from H2': 0, 'Prob I11 from H2': 0, 'Prob I12 from H2': 0, 'Prob I13 from H2': 0, 'Prob I14 from H2': 0, 'Prob I15 from H2': 0, 'Prob I16 from H2': 0, 'Prob I17 from H2': 0, 'Prob I18 from H2': 0, 'Prob I19 from H2': 0, 'Prob I20 from H2': 0, 'Prob I21 from H2': 0, 'Prob I22 from H2': 0, 'Prob I23 from H2': 0, 'Prob I24 from H2': 0, 'Prob I25 from H2': 0, 'Prob I26 from H2': 0, 'Prob I27 from H2': 0, 'Prob I28 from H2': 0, 'Prob I29 from H2': 0}\n",
      "H2\n",
      "{'Prob I0 from I': 0, 'Prob I1 from I': 0, 'Prob I2 from I': 0, 'Prob I3 from I': 0, 'Prob I4 from I': 0, 'Prob I5 from I': 0, 'Prob I6 from I': 0, 'Prob I7 from I': 0, 'Prob I8 from I': 0, 'Prob I9 from I': 0, 'Prob I10 from I': 0, 'Prob I11 from I': 0, 'Prob I12 from I': 0, 'Prob I13 from I': 0, 'Prob I14 from I': 0, 'Prob I15 from I': 0, 'Prob I16 from I': 0, 'Prob I17 from I': 0, 'Prob I18 from I': 0, 'Prob I19 from I': 0, 'Prob I20 from I': 0, 'Prob I21 from I': 0, 'Prob I22 from I': 0, 'Prob I23 from I': 0, 'Prob I24 from I': 0, 'Prob I25 from I': 0, 'Prob I26 from I': 0, 'Prob I27 from I': 0, 'Prob I28 from I': 0, 'Prob I29 from I': 0, 'Prob I0 from H1': 0, 'Prob I1 from H1': 0, 'Prob I2 from H1': 0, 'Prob I3 from H1': 0, 'Prob I4 from H1': 0, 'Prob I5 from H1': 0, 'Prob I6 from H1': 0, 'Prob I7 from H1': 0, 'Prob I8 from H1': 0, 'Prob I9 from H1': 0, 'Prob I10 from H1': 0, 'Prob I11 from H1': 0, 'Prob I12 from H1': 0, 'Prob I13 from H1': 0, 'Prob I14 from H1': 0, 'Prob I15 from H1': 0, 'Prob I16 from H1': 0, 'Prob I17 from H1': 0, 'Prob I18 from H1': 0, 'Prob I19 from H1': 0, 'Prob I20 from H1': 0, 'Prob I21 from H1': 0, 'Prob I22 from H1': 0, 'Prob I23 from H1': 0, 'Prob I24 from H1': 0, 'Prob I25 from H1': 0, 'Prob I26 from H1': 0, 'Prob I27 from H1': 0, 'Prob I28 from H1': 0, 'Prob I29 from H1': 0, 'Prob I0 from H2': 0, 'Prob I1 from H2': 0, 'Prob I2 from H2': 0, 'Prob I3 from H2': 0, 'Prob I4 from H2': 0, 'Prob I5 from H2': 0, 'Prob I6 from H2': 0, 'Prob I7 from H2': 0, 'Prob I8 from H2': 0, 'Prob I9 from H2': 0, 'Prob I10 from H2': 0, 'Prob I11 from H2': 0, 'Prob I12 from H2': 0, 'Prob I13 from H2': 0, 'Prob I14 from H2': 0, 'Prob I15 from H2': 0, 'Prob I16 from H2': 0, 'Prob I17 from H2': 0, 'Prob I18 from H2': 0, 'Prob I19 from H2': 0, 'Prob I20 from H2': 0, 'Prob I21 from H2': 0, 'Prob I22 from H2': 0, 'Prob I23 from H2': 0, 'Prob I24 from H2': 0, 'Prob I25 from H2': 0, 'Prob I26 from H2': 0, 'Prob I27 from H2': 0, 'Prob I28 from H2': 0, 'Prob I29 from H2': 0}\n",
      "H2\n",
      "{'Prob I0 from I': 0, 'Prob I1 from I': 0, 'Prob I2 from I': 0, 'Prob I3 from I': 0, 'Prob I4 from I': 0, 'Prob I5 from I': 0, 'Prob I6 from I': 0, 'Prob I7 from I': 0, 'Prob I8 from I': 0, 'Prob I9 from I': 0, 'Prob I10 from I': 0, 'Prob I11 from I': 0, 'Prob I12 from I': 0, 'Prob I13 from I': 0, 'Prob I14 from I': 0, 'Prob I15 from I': 0, 'Prob I16 from I': 0, 'Prob I17 from I': 0, 'Prob I18 from I': 0, 'Prob I19 from I': 0, 'Prob I20 from I': 0, 'Prob I21 from I': 0, 'Prob I22 from I': 0, 'Prob I23 from I': 0, 'Prob I24 from I': 0, 'Prob I25 from I': 0, 'Prob I26 from I': 0, 'Prob I27 from I': 0, 'Prob I28 from I': 0, 'Prob I29 from I': 0, 'Prob I0 from H1': 0, 'Prob I1 from H1': 0, 'Prob I2 from H1': 0, 'Prob I3 from H1': 0, 'Prob I4 from H1': 0, 'Prob I5 from H1': 0, 'Prob I6 from H1': 0, 'Prob I7 from H1': 0, 'Prob I8 from H1': 0, 'Prob I9 from H1': 0, 'Prob I10 from H1': 0, 'Prob I11 from H1': 0, 'Prob I12 from H1': 0, 'Prob I13 from H1': 0, 'Prob I14 from H1': 0, 'Prob I15 from H1': 0, 'Prob I16 from H1': 0, 'Prob I17 from H1': 0, 'Prob I18 from H1': 0, 'Prob I19 from H1': 0, 'Prob I20 from H1': 0, 'Prob I21 from H1': 0, 'Prob I22 from H1': 0, 'Prob I23 from H1': 0, 'Prob I24 from H1': 0, 'Prob I25 from H1': 0, 'Prob I26 from H1': 0, 'Prob I27 from H1': 0, 'Prob I28 from H1': 0, 'Prob I29 from H1': 0, 'Prob I0 from H2': 0, 'Prob I1 from H2': 0, 'Prob I2 from H2': 0, 'Prob I3 from H2': 0, 'Prob I4 from H2': 0, 'Prob I5 from H2': 0, 'Prob I6 from H2': 0, 'Prob I7 from H2': 0, 'Prob I8 from H2': 0, 'Prob I9 from H2': 0, 'Prob I10 from H2': 0, 'Prob I11 from H2': 0, 'Prob I12 from H2': 0, 'Prob I13 from H2': 0, 'Prob I14 from H2': 0, 'Prob I15 from H2': 0, 'Prob I16 from H2': 0, 'Prob I17 from H2': 0, 'Prob I18 from H2': 0, 'Prob I19 from H2': 0, 'Prob I20 from H2': 0, 'Prob I21 from H2': 0, 'Prob I22 from H2': 0, 'Prob I23 from H2': 0, 'Prob I24 from H2': 0, 'Prob I25 from H2': 0, 'Prob I26 from H2': 0, 'Prob I27 from H2': 0, 'Prob I28 from H2': 0, 'Prob I29 from H2': 0}\n",
      "H2\n",
      "{'Prob I0 from I': 0, 'Prob I1 from I': 0, 'Prob I2 from I': 0, 'Prob I3 from I': 0, 'Prob I4 from I': 0, 'Prob I5 from I': 0, 'Prob I6 from I': 0, 'Prob I7 from I': 0, 'Prob I8 from I': 0, 'Prob I9 from I': 0, 'Prob I10 from I': 0, 'Prob I11 from I': 0, 'Prob I12 from I': 0, 'Prob I13 from I': 0, 'Prob I14 from I': 0, 'Prob I15 from I': 0, 'Prob I16 from I': 0, 'Prob I17 from I': 0, 'Prob I18 from I': 0, 'Prob I19 from I': 0, 'Prob I20 from I': 0, 'Prob I21 from I': 0, 'Prob I22 from I': 0, 'Prob I23 from I': 0, 'Prob I24 from I': 0, 'Prob I25 from I': 0, 'Prob I26 from I': 0, 'Prob I27 from I': 0, 'Prob I28 from I': 0, 'Prob I29 from I': 0, 'Prob I0 from H1': 0, 'Prob I1 from H1': 0, 'Prob I2 from H1': 0, 'Prob I3 from H1': 0, 'Prob I4 from H1': 0, 'Prob I5 from H1': 0, 'Prob I6 from H1': 0, 'Prob I7 from H1': 0, 'Prob I8 from H1': 0, 'Prob I9 from H1': 0, 'Prob I10 from H1': 0, 'Prob I11 from H1': 0, 'Prob I12 from H1': 0, 'Prob I13 from H1': 0, 'Prob I14 from H1': 0, 'Prob I15 from H1': 0, 'Prob I16 from H1': 0, 'Prob I17 from H1': 0, 'Prob I18 from H1': 0, 'Prob I19 from H1': 0, 'Prob I20 from H1': 0, 'Prob I21 from H1': 0, 'Prob I22 from H1': 0, 'Prob I23 from H1': 0, 'Prob I24 from H1': 0, 'Prob I25 from H1': 0, 'Prob I26 from H1': 0, 'Prob I27 from H1': 0, 'Prob I28 from H1': 0, 'Prob I29 from H1': 0, 'Prob I0 from H2': 0, 'Prob I1 from H2': 0, 'Prob I2 from H2': 0, 'Prob I3 from H2': 0, 'Prob I4 from H2': 0, 'Prob I5 from H2': 0, 'Prob I6 from H2': 0, 'Prob I7 from H2': 0, 'Prob I8 from H2': 0, 'Prob I9 from H2': 0, 'Prob I10 from H2': 0, 'Prob I11 from H2': 0, 'Prob I12 from H2': 0, 'Prob I13 from H2': 0, 'Prob I14 from H2': 0, 'Prob I15 from H2': 0, 'Prob I16 from H2': 0, 'Prob I17 from H2': 0, 'Prob I18 from H2': 0, 'Prob I19 from H2': 0, 'Prob I20 from H2': 0, 'Prob I21 from H2': 0, 'Prob I22 from H2': 0, 'Prob I23 from H2': 0, 'Prob I24 from H2': 0, 'Prob I25 from H2': 0, 'Prob I26 from H2': 0, 'Prob I27 from H2': 0, 'Prob I28 from H2': 0, 'Prob I29 from H2': 0}\n",
      "H2\n",
      "{'Prob I0 from I': 0, 'Prob I1 from I': 0, 'Prob I2 from I': 0, 'Prob I3 from I': 0, 'Prob I4 from I': 0, 'Prob I5 from I': 0, 'Prob I6 from I': 0, 'Prob I7 from I': 0, 'Prob I8 from I': 0, 'Prob I9 from I': 0, 'Prob I10 from I': 0, 'Prob I11 from I': 0, 'Prob I12 from I': 0, 'Prob I13 from I': 0, 'Prob I14 from I': 0, 'Prob I15 from I': 0, 'Prob I16 from I': 0, 'Prob I17 from I': 0, 'Prob I18 from I': 0, 'Prob I19 from I': 0, 'Prob I20 from I': 0, 'Prob I21 from I': 0, 'Prob I22 from I': 0, 'Prob I23 from I': 0, 'Prob I24 from I': 0, 'Prob I25 from I': 0, 'Prob I26 from I': 0, 'Prob I27 from I': 0, 'Prob I28 from I': 0, 'Prob I29 from I': 0, 'Prob I0 from H1': 0, 'Prob I1 from H1': 0, 'Prob I2 from H1': 0, 'Prob I3 from H1': 0, 'Prob I4 from H1': 0, 'Prob I5 from H1': 0, 'Prob I6 from H1': 0, 'Prob I7 from H1': 0, 'Prob I8 from H1': 0, 'Prob I9 from H1': 0, 'Prob I10 from H1': 0, 'Prob I11 from H1': 0, 'Prob I12 from H1': 0, 'Prob I13 from H1': 0, 'Prob I14 from H1': 0, 'Prob I15 from H1': 0, 'Prob I16 from H1': 0, 'Prob I17 from H1': 0, 'Prob I18 from H1': 0, 'Prob I19 from H1': 0, 'Prob I20 from H1': 0, 'Prob I21 from H1': 0, 'Prob I22 from H1': 0, 'Prob I23 from H1': 0, 'Prob I24 from H1': 0, 'Prob I25 from H1': 0, 'Prob I26 from H1': 0, 'Prob I27 from H1': 0, 'Prob I28 from H1': 0, 'Prob I29 from H1': 0, 'Prob I0 from H2': 0, 'Prob I1 from H2': 0, 'Prob I2 from H2': 0, 'Prob I3 from H2': 0, 'Prob I4 from H2': 0, 'Prob I5 from H2': 0, 'Prob I6 from H2': 0, 'Prob I7 from H2': 0, 'Prob I8 from H2': 0, 'Prob I9 from H2': 0, 'Prob I10 from H2': 0, 'Prob I11 from H2': 0, 'Prob I12 from H2': 0, 'Prob I13 from H2': 0, 'Prob I14 from H2': 0, 'Prob I15 from H2': 0, 'Prob I16 from H2': 0, 'Prob I17 from H2': 0, 'Prob I18 from H2': 0, 'Prob I19 from H2': 0, 'Prob I20 from H2': 0, 'Prob I21 from H2': 0, 'Prob I22 from H2': 0, 'Prob I23 from H2': 0, 'Prob I24 from H2': 0, 'Prob I25 from H2': 0, 'Prob I26 from H2': 0, 'Prob I27 from H2': 0, 'Prob I28 from H2': 0, 'Prob I29 from H2': 0}\n",
      "H2\n",
      "{'Prob I0 from I': 0, 'Prob I1 from I': 0, 'Prob I2 from I': 0, 'Prob I3 from I': 0, 'Prob I4 from I': 0, 'Prob I5 from I': 0, 'Prob I6 from I': 0, 'Prob I7 from I': 0, 'Prob I8 from I': 0, 'Prob I9 from I': 0, 'Prob I10 from I': 0, 'Prob I11 from I': 0, 'Prob I12 from I': 0, 'Prob I13 from I': 0, 'Prob I14 from I': 0, 'Prob I15 from I': 0, 'Prob I16 from I': 0, 'Prob I17 from I': 0, 'Prob I18 from I': 0, 'Prob I19 from I': 0, 'Prob I20 from I': 0, 'Prob I21 from I': 0, 'Prob I22 from I': 0, 'Prob I23 from I': 0, 'Prob I24 from I': 0, 'Prob I25 from I': 0, 'Prob I26 from I': 0, 'Prob I27 from I': 0, 'Prob I28 from I': 0, 'Prob I29 from I': 0, 'Prob I0 from H1': 0, 'Prob I1 from H1': 0, 'Prob I2 from H1': 0, 'Prob I3 from H1': 0, 'Prob I4 from H1': 0, 'Prob I5 from H1': 0, 'Prob I6 from H1': 0, 'Prob I7 from H1': 0, 'Prob I8 from H1': 0, 'Prob I9 from H1': 0, 'Prob I10 from H1': 0, 'Prob I11 from H1': 0, 'Prob I12 from H1': 0, 'Prob I13 from H1': 0, 'Prob I14 from H1': 0, 'Prob I15 from H1': 0, 'Prob I16 from H1': 0, 'Prob I17 from H1': 0, 'Prob I18 from H1': 0, 'Prob I19 from H1': 0, 'Prob I20 from H1': 0, 'Prob I21 from H1': 0, 'Prob I22 from H1': 0, 'Prob I23 from H1': 0, 'Prob I24 from H1': 0, 'Prob I25 from H1': 0, 'Prob I26 from H1': 0, 'Prob I27 from H1': 0, 'Prob I28 from H1': 0, 'Prob I29 from H1': 0, 'Prob I0 from H2': 0, 'Prob I1 from H2': 0, 'Prob I2 from H2': 0, 'Prob I3 from H2': 0, 'Prob I4 from H2': 0, 'Prob I5 from H2': 0, 'Prob I6 from H2': 0, 'Prob I7 from H2': 0, 'Prob I8 from H2': 0, 'Prob I9 from H2': 0, 'Prob I10 from H2': 0, 'Prob I11 from H2': 0, 'Prob I12 from H2': 0, 'Prob I13 from H2': 0, 'Prob I14 from H2': 0, 'Prob I15 from H2': 0, 'Prob I16 from H2': 0, 'Prob I17 from H2': 0, 'Prob I18 from H2': 0, 'Prob I19 from H2': 0, 'Prob I20 from H2': 0, 'Prob I21 from H2': 0, 'Prob I22 from H2': 0, 'Prob I23 from H2': 0, 'Prob I24 from H2': 0, 'Prob I25 from H2': 0, 'Prob I26 from H2': 0, 'Prob I27 from H2': 0, 'Prob I28 from H2': 0, 'Prob I29 from H2': 0}\n",
      "H2\n",
      "{'Prob I0 from I': 0, 'Prob I1 from I': 0, 'Prob I2 from I': 0, 'Prob I3 from I': 0, 'Prob I4 from I': 0, 'Prob I5 from I': 0, 'Prob I6 from I': 0, 'Prob I7 from I': 0, 'Prob I8 from I': 0, 'Prob I9 from I': 0, 'Prob I10 from I': 0, 'Prob I11 from I': 0, 'Prob I12 from I': 0, 'Prob I13 from I': 0, 'Prob I14 from I': 0, 'Prob I15 from I': 0, 'Prob I16 from I': 0, 'Prob I17 from I': 0, 'Prob I18 from I': 0, 'Prob I19 from I': 0, 'Prob I20 from I': 0, 'Prob I21 from I': 0, 'Prob I22 from I': 0, 'Prob I23 from I': 0, 'Prob I24 from I': 0, 'Prob I25 from I': 0, 'Prob I26 from I': 0, 'Prob I27 from I': 0, 'Prob I28 from I': 0, 'Prob I29 from I': 0, 'Prob I0 from H1': 0, 'Prob I1 from H1': 0, 'Prob I2 from H1': 0, 'Prob I3 from H1': 0, 'Prob I4 from H1': 0, 'Prob I5 from H1': 0, 'Prob I6 from H1': 0, 'Prob I7 from H1': 0, 'Prob I8 from H1': 0, 'Prob I9 from H1': 0, 'Prob I10 from H1': 0, 'Prob I11 from H1': 0, 'Prob I12 from H1': 0, 'Prob I13 from H1': 0, 'Prob I14 from H1': 0, 'Prob I15 from H1': 0, 'Prob I16 from H1': 0, 'Prob I17 from H1': 0, 'Prob I18 from H1': 0, 'Prob I19 from H1': 0, 'Prob I20 from H1': 0, 'Prob I21 from H1': 0, 'Prob I22 from H1': 0, 'Prob I23 from H1': 0, 'Prob I24 from H1': 0, 'Prob I25 from H1': 0, 'Prob I26 from H1': 0, 'Prob I27 from H1': 0, 'Prob I28 from H1': 0, 'Prob I29 from H1': 0, 'Prob I0 from H2': 0, 'Prob I1 from H2': 0, 'Prob I2 from H2': 0, 'Prob I3 from H2': 0, 'Prob I4 from H2': 0, 'Prob I5 from H2': 0, 'Prob I6 from H2': 0, 'Prob I7 from H2': 0, 'Prob I8 from H2': 0, 'Prob I9 from H2': 0, 'Prob I10 from H2': 0, 'Prob I11 from H2': 0, 'Prob I12 from H2': 0, 'Prob I13 from H2': 0, 'Prob I14 from H2': 0, 'Prob I15 from H2': 0, 'Prob I16 from H2': 0, 'Prob I17 from H2': 0, 'Prob I18 from H2': 0, 'Prob I19 from H2': 0, 'Prob I20 from H2': 0, 'Prob I21 from H2': 0, 'Prob I22 from H2': 0, 'Prob I23 from H2': 0, 'Prob I24 from H2': 0, 'Prob I25 from H2': 0, 'Prob I26 from H2': 0, 'Prob I27 from H2': 0, 'Prob I28 from H2': 0, 'Prob I29 from H2': 0}\n",
      "H2\n",
      "{'Prob I0 from I': 0, 'Prob I1 from I': 0, 'Prob I2 from I': 0, 'Prob I3 from I': 0, 'Prob I4 from I': 0, 'Prob I5 from I': 0, 'Prob I6 from I': 0, 'Prob I7 from I': 0, 'Prob I8 from I': 0, 'Prob I9 from I': 0, 'Prob I10 from I': 0, 'Prob I11 from I': 0, 'Prob I12 from I': 0, 'Prob I13 from I': 0, 'Prob I14 from I': 0, 'Prob I15 from I': 0, 'Prob I16 from I': 0, 'Prob I17 from I': 0, 'Prob I18 from I': 0, 'Prob I19 from I': 0, 'Prob I20 from I': 0, 'Prob I21 from I': 0, 'Prob I22 from I': 0, 'Prob I23 from I': 0, 'Prob I24 from I': 0, 'Prob I25 from I': 0, 'Prob I26 from I': 0, 'Prob I27 from I': 0, 'Prob I28 from I': 0, 'Prob I29 from I': 0, 'Prob I0 from H1': 0, 'Prob I1 from H1': 0, 'Prob I2 from H1': 0, 'Prob I3 from H1': 0, 'Prob I4 from H1': 0, 'Prob I5 from H1': 0, 'Prob I6 from H1': 0, 'Prob I7 from H1': 0, 'Prob I8 from H1': 0, 'Prob I9 from H1': 0, 'Prob I10 from H1': 0, 'Prob I11 from H1': 0, 'Prob I12 from H1': 0, 'Prob I13 from H1': 0, 'Prob I14 from H1': 0, 'Prob I15 from H1': 0, 'Prob I16 from H1': 0, 'Prob I17 from H1': 0, 'Prob I18 from H1': 0, 'Prob I19 from H1': 0, 'Prob I20 from H1': 0, 'Prob I21 from H1': 0, 'Prob I22 from H1': 0, 'Prob I23 from H1': 0, 'Prob I24 from H1': 0, 'Prob I25 from H1': 0, 'Prob I26 from H1': 0, 'Prob I27 from H1': 0, 'Prob I28 from H1': 0, 'Prob I29 from H1': 0, 'Prob I0 from H2': 0, 'Prob I1 from H2': 0, 'Prob I2 from H2': 0, 'Prob I3 from H2': 0, 'Prob I4 from H2': 0, 'Prob I5 from H2': 0, 'Prob I6 from H2': 0, 'Prob I7 from H2': 0, 'Prob I8 from H2': 0, 'Prob I9 from H2': 0, 'Prob I10 from H2': 0, 'Prob I11 from H2': 0, 'Prob I12 from H2': 0, 'Prob I13 from H2': 0, 'Prob I14 from H2': 0, 'Prob I15 from H2': 0, 'Prob I16 from H2': 0, 'Prob I17 from H2': 0, 'Prob I18 from H2': 0, 'Prob I19 from H2': 0, 'Prob I20 from H2': 0, 'Prob I21 from H2': 0, 'Prob I22 from H2': 0, 'Prob I23 from H2': 0, 'Prob I24 from H2': 0, 'Prob I25 from H2': 0, 'Prob I26 from H2': 0, 'Prob I27 from H2': 0, 'Prob I28 from H2': 0, 'Prob I29 from H2': 0}\n",
      "H2\n",
      "{'Prob I0 from I': 0, 'Prob I1 from I': 0, 'Prob I2 from I': 0, 'Prob I3 from I': 0, 'Prob I4 from I': 0, 'Prob I5 from I': 0, 'Prob I6 from I': 0, 'Prob I7 from I': 0, 'Prob I8 from I': 0, 'Prob I9 from I': 0, 'Prob I10 from I': 0, 'Prob I11 from I': 0, 'Prob I12 from I': 0, 'Prob I13 from I': 0, 'Prob I14 from I': 0, 'Prob I15 from I': 0, 'Prob I16 from I': 0, 'Prob I17 from I': 0, 'Prob I18 from I': 0, 'Prob I19 from I': 0, 'Prob I20 from I': 0, 'Prob I21 from I': 0, 'Prob I22 from I': 0, 'Prob I23 from I': 0, 'Prob I24 from I': 0, 'Prob I25 from I': 0, 'Prob I26 from I': 0, 'Prob I27 from I': 0, 'Prob I28 from I': 0, 'Prob I29 from I': 0, 'Prob I0 from H1': 0, 'Prob I1 from H1': 0, 'Prob I2 from H1': 0, 'Prob I3 from H1': 0, 'Prob I4 from H1': 0, 'Prob I5 from H1': 0, 'Prob I6 from H1': 0, 'Prob I7 from H1': 0, 'Prob I8 from H1': 0, 'Prob I9 from H1': 0, 'Prob I10 from H1': 0, 'Prob I11 from H1': 0, 'Prob I12 from H1': 0, 'Prob I13 from H1': 0, 'Prob I14 from H1': 0, 'Prob I15 from H1': 0, 'Prob I16 from H1': 0, 'Prob I17 from H1': 0, 'Prob I18 from H1': 0, 'Prob I19 from H1': 0, 'Prob I20 from H1': 0, 'Prob I21 from H1': 0, 'Prob I22 from H1': 0, 'Prob I23 from H1': 0, 'Prob I24 from H1': 0, 'Prob I25 from H1': 0, 'Prob I26 from H1': 0, 'Prob I27 from H1': 0, 'Prob I28 from H1': 0, 'Prob I29 from H1': 0, 'Prob I0 from H2': 0, 'Prob I1 from H2': 0, 'Prob I2 from H2': 0, 'Prob I3 from H2': 0, 'Prob I4 from H2': 0, 'Prob I5 from H2': 0, 'Prob I6 from H2': 0, 'Prob I7 from H2': 0, 'Prob I8 from H2': 0, 'Prob I9 from H2': 0, 'Prob I10 from H2': 0, 'Prob I11 from H2': 0, 'Prob I12 from H2': 0, 'Prob I13 from H2': 0, 'Prob I14 from H2': 0, 'Prob I15 from H2': 0, 'Prob I16 from H2': 0, 'Prob I17 from H2': 0, 'Prob I18 from H2': 0, 'Prob I19 from H2': 0, 'Prob I20 from H2': 0, 'Prob I21 from H2': 0, 'Prob I22 from H2': 0, 'Prob I23 from H2': 0, 'Prob I24 from H2': 0, 'Prob I25 from H2': 0, 'Prob I26 from H2': 0, 'Prob I27 from H2': 0, 'Prob I28 from H2': 0, 'Prob I29 from H2': 0}\n",
      "H2\n"
     ]
    }
   ],
   "source": [
    "# importlib.reload(pf)\n",
    "for i in range(10):\n",
    "    net = torch.load(f\"trained_nets/wbc/flow/net{i}\", map_location=torch.device('cpu'))\n",
    "    pf.save_metrics(net, path=f\"results/wbc/flow/net{i}\")\n",
    "    pf.run_path_graph(net, threshold=0.5, save_path=f\"path_graphs/wbc/flow/net{i}\", show=False)"
   ]
  },
  {
   "cell_type": "code",
   "execution_count": 11,
   "metadata": {},
   "outputs": [
    {
     "data": {
      "text/plain": [
       "{'median_acc_full': 0.9026315789473685,\n",
       " 'min_acc_full': 0.6947368421052631,\n",
       " 'max_acc_full': 0.9263157894736842,\n",
       " 'median_acc_median': 0.9473684210526315,\n",
       " 'min_acc_median': 0.9087719298245613,\n",
       " 'max_acc_median': 0.963157894736842,\n",
       " 'median_density': 0.0014336917083710432,\n",
       " 'min_density': 0.0008960572886280715,\n",
       " 'max_density': 0.001792114577256143,\n",
       " 'median_used_weights': 8.0,\n",
       " 'min_used_weights': 5.0,\n",
       " 'max_used_weights': 10.0}"
      ]
     },
     "execution_count": 11,
     "metadata": {},
     "output_type": "execute_result"
    }
   ],
   "source": [
    "import numpy as np\n",
    "\n",
    "res = {}\n",
    "data = np.loadtxt(f\"results/flow_class_skip_2_hidden_50_dim_20000_epochs_0.005_lr_wbc_full.txt\", delimiter=\",\")\n",
    "data_median = np.loadtxt(f\"results/flow_class_skip_2_hidden_50_dim_20000_epochs_0.005_lr_wbc_median.txt\", delimiter=\",\")\n",
    "res[\"median_acc_full\"] = np.median(data, 0)[0]\n",
    "res[\"min_acc_full\"] = np.min(data, 0)[0]\n",
    "res[\"max_acc_full\"] = np.max(data, 0)[0]\n",
    "\n",
    "res[\"median_acc_median\"] = np.median(data_median, 0)[0]\n",
    "res[\"min_acc_median\"] = np.min(data_median, 0)[0]\n",
    "res[\"max_acc_median\"] = np.max(data_median, 0)[0]\n",
    "\n",
    "res[\"median_density\"] = np.median(data, 0)[1]\n",
    "res[\"min_density\"] = np.min(data, 0)[1]\n",
    "res[\"max_density\"] = np.max(data, 0)[1]\n",
    "\n",
    "res[\"median_used_weights\"] = np.median(data_median, 0)[1]\n",
    "res[\"min_used_weights\"] = np.min(data_median, 0)[1]\n",
    "res[\"max_used_weights\"] = np.max(data_median, 0)[1]\n",
    "\n",
    "res"
   ]
  },
  {
   "cell_type": "code",
   "execution_count": 12,
   "metadata": {},
   "outputs": [
    {
     "name": "stdout",
     "output_type": "stream",
     "text": [
      "USED WEIGHTS:\n",
      "median: 8.0\n",
      "min: 5\n",
      "max: 10\n",
      "\n"
     ]
    }
   ],
   "source": [
    "import numpy as np\n",
    "import matplotlib.pyplot as plt\n",
    "\n",
    "from scipy import stats\n",
    "\n",
    "import os\n",
    "import sys\n",
    "current_dir = os.getcwd()\n",
    "sys.path.append('layers')\n",
    "from config import config\n",
    "\n",
    "# Parameters from config file\n",
    "HIDDEN_LAYERS = config['n_layers'] - 2 \n",
    "epochs = config['num_epochs']\n",
    "dim = config['hidden_dim']\n",
    "n_nets = config['n_nets']\n",
    "\n",
    "path = \"results/wbc/flow/\"\n",
    "res = {}\n",
    "\n",
    "\n",
    "res[\"used_weights\"] = []\n",
    "\n",
    "for n in range(n_nets):\n",
    "    median_info = np.load(path+f\"net{n}_median.npy\", allow_pickle=True).item()\n",
    "    res[\"used_weights\"].append(median_info[\"used_weights\"])\n",
    "\n",
    "print(\"USED WEIGHTS:\")\n",
    "m = (res[\"used_weights\"])\n",
    "print(f\"median: {np.median(m)}\")\n",
    "print(f\"min: {np.min(m)}\")\n",
    "print(f\"max: {np.max(m)}\\n\")"
   ]
  },
  {
   "cell_type": "code",
   "execution_count": 13,
   "metadata": {},
   "outputs": [
    {
     "name": "stdout",
     "output_type": "stream",
     "text": [
      "Avg. depth\n",
      "1.1339285714285714\n",
      "1.0\n",
      "1.4285714285714286\n",
      "\n",
      "Max depth\n",
      "2.0\n",
      "1\n",
      "2\n",
      "\n"
     ]
    }
   ],
   "source": [
    "import numpy as np\n",
    "import matplotlib.pyplot as plt\n",
    "\n",
    "from scipy import stats\n",
    "\n",
    "import os\n",
    "import sys\n",
    "current_dir = os.getcwd()\n",
    "sys.path.append('layers')\n",
    "from config import config\n",
    "\n",
    "# Parameters from config file\n",
    "HIDDEN_LAYERS = config['n_layers'] - 2 \n",
    "epochs = config['num_epochs']\n",
    "dim = config['hidden_dim']\n",
    "n_nets = config['n_nets']\n",
    "\n",
    "path = \"results/wbc/flow/\"\n",
    "res = {}\n",
    "res[\"median_depth\"] = []\n",
    "res[\"max_width\"] = []\n",
    "\n",
    "for n in range(n_nets):\n",
    "    median_info = np.load(path+f\"net{n}_median.npy\", allow_pickle=True).item()\n",
    "    res[\"median_depth\"].append(median_info[\"avg_path_length\"])\n",
    "    search = True\n",
    "    i = 0\n",
    "    while search:\n",
    "        search = np.sum(median_info[\"include_inputs\"][i]) == 0\n",
    "        i += 1\n",
    "\n",
    "    res[\"max_width\"].append(HIDDEN_LAYERS-i+2)\n",
    "\n",
    "print(\"Avg. depth\")\n",
    "print(np.median(res[\"median_depth\"]))\n",
    "print(np.min(res[\"median_depth\"]))\n",
    "print(np.max(res[\"median_depth\"]))\n",
    "print(\"\")\n",
    "\n",
    "print(\"Max depth\")\n",
    "print(np.median(res[\"max_width\"]))\n",
    "print(np.min(res[\"max_width\"]))\n",
    "print(np.max(res[\"max_width\"]))\n",
    "print(\"\")"
   ]
  },
  {
   "cell_type": "code",
   "execution_count": 8,
   "metadata": {},
   "outputs": [
    {
     "data": {
      "text/plain": [
       "{'x1_inclution_rate': 0.6,\n",
       " 'x2_inclution_rate': 0.0,\n",
       " 'x3_inclution_rate': 0.2,\n",
       " 'x4_inclution_rate': 0.0,\n",
       " 'x5_inclution_rate': 0.0,\n",
       " 'x6_inclution_rate': 0.0,\n",
       " 'x7_inclution_rate': 0.0,\n",
       " 'x8_inclution_rate': 1.0,\n",
       " 'x9_inclution_rate': 0.0,\n",
       " 'x10_inclution_rate': 0.0,\n",
       " 'x11_inclution_rate': 0.1,\n",
       " 'x12_inclution_rate': 0.0,\n",
       " 'x13_inclution_rate': 0.0,\n",
       " 'x14_inclution_rate': 0.0,\n",
       " 'x15_inclution_rate': 0.0,\n",
       " 'x16_inclution_rate': 0.0,\n",
       " 'x17_inclution_rate': 0.0,\n",
       " 'x18_inclution_rate': 0.0,\n",
       " 'x19_inclution_rate': 0.0,\n",
       " 'x20_inclution_rate': 0.0,\n",
       " 'x21_inclution_rate': 0.8,\n",
       " 'x22_inclution_rate': 1.0,\n",
       " 'x23_inclution_rate': 0.9,\n",
       " 'x24_inclution_rate': 0.4,\n",
       " 'x25_inclution_rate': 0.0,\n",
       " 'x26_inclution_rate': 0.0,\n",
       " 'x27_inclution_rate': 0.0,\n",
       " 'x28_inclution_rate': 1.0,\n",
       " 'x29_inclution_rate': 0.0,\n",
       " 'x30_inclution_rate': 0.0}"
      ]
     },
     "execution_count": 8,
     "metadata": {},
     "output_type": "execute_result"
    }
   ],
   "source": [
    "import numpy as np\n",
    "\n",
    "\n",
    "import os\n",
    "import sys\n",
    "current_dir = os.getcwd()\n",
    "sys.path.append('layers')\n",
    "from config import config\n",
    "\n",
    "# Parameters from config file\n",
    "HIDDEN_LAYERS = config['n_layers'] - 2 \n",
    "epochs = config['num_epochs']\n",
    "dim = config['hidden_dim']\n",
    "n_nets = config['n_nets']\n",
    "\n",
    "path = \"results/wbc/flow/\"\n",
    "res = {}\n",
    "for i in range(p):\n",
    "    res[f\"x{i+1}_inclution_rate\"] = 0\n",
    "    \n",
    "    for n in range(n_nets):\n",
    "        median_info = np.load(path+f\"net{n}_median.npy\", allow_pickle=True).item()\n",
    "        #res[d][f\"x{i+1}_inclution_rate\"] += (median_info[\"expected_depth_input\"][i]>0)\n",
    "        count = 0\n",
    "        for j in median_info[\"include_inputs\"]:\n",
    "            count += j[i]\n",
    "\n",
    "        res[f\"x{i+1}_inclution_rate\"] += (count>0)\n",
    "    res[f\"x{i+1}_inclution_rate\"] /= n_nets\n",
    "\n",
    "res"
   ]
  },
  {
   "cell_type": "code",
   "execution_count": 4,
   "metadata": {},
   "outputs": [
    {
     "data": {
      "text/plain": [
       "array(['mean radius', 'mean texture', 'mean perimeter', 'mean concavity',\n",
       "       'mean concave points', 'worst radius', 'worst texture',\n",
       "       'worst perimeter', 'worst area', 'worst concavity',\n",
       "       'worst concave points'], dtype='<U23')"
      ]
     },
     "execution_count": 4,
     "metadata": {},
     "output_type": "execute_result"
    }
   ],
   "source": [
    "load_breast_cancer().feature_names[[0,1,2,6,7,20,21,22,23,26,27]]"
   ]
  },
  {
   "cell_type": "markdown",
   "metadata": {},
   "source": [
    "# Abalone"
   ]
  },
  {
   "cell_type": "code",
   "execution_count": 2,
   "metadata": {},
   "outputs": [
    {
     "name": "stdout",
     "output_type": "stream",
     "text": [
      "CPUs are used!\n"
     ]
    }
   ],
   "source": [
    "import copy\n",
    "import numpy as np\n",
    "import pandas as pd\n",
    "import torch\n",
    "import torch.optim as optim\n",
    "from sklearn.model_selection import train_test_split\n",
    "from config import config\n",
    "import sys\n",
    "import plot_functions as pf\n",
    "import pipeline_functions as pip_func\n",
    "sys.path.append('networks')\n",
    "from flow_net import BayesianNetwork\n",
    "import torch.nn.functional as F"
   ]
  },
  {
   "cell_type": "code",
   "execution_count": 5,
   "metadata": {},
   "outputs": [
    {
     "name": "stdout",
     "output_type": "stream",
     "text": [
      "{'Prob I0 from I': 0, 'Prob I1 from I': 0, 'Prob I2 from I': 0, 'Prob I3 from I': 0, 'Prob I4 from I': 0, 'Prob I5 from I': 0, 'Prob I6 from I': 0, 'Prob I7 from I': 0, 'Prob I8 from I': 0, 'Prob I0 from H1': 0, 'Prob I1 from H1': 0, 'Prob I2 from H1': 0, 'Prob I3 from H1': 0, 'Prob I4 from H1': 0, 'Prob I5 from H1': 0, 'Prob I6 from H1': 0, 'Prob I7 from H1': 0, 'Prob I8 from H1': 0, 'Prob I0 from H2': 0, 'Prob I1 from H2': 0, 'Prob I2 from H2': 0, 'Prob I3 from H2': 0, 'Prob I4 from H2': 0, 'Prob I5 from H2': 0, 'Prob I6 from H2': 0, 'Prob I7 from H2': 0, 'Prob I8 from H2': 0}\n",
      "H2\n",
      "{'Prob I0 from I': 0, 'Prob I1 from I': 0, 'Prob I2 from I': 0, 'Prob I3 from I': 0, 'Prob I4 from I': 0, 'Prob I5 from I': 0, 'Prob I6 from I': 0, 'Prob I7 from I': 0, 'Prob I8 from I': 0, 'Prob I0 from H1': 0, 'Prob I1 from H1': 0, 'Prob I2 from H1': 0, 'Prob I3 from H1': 0, 'Prob I4 from H1': 0, 'Prob I5 from H1': 0, 'Prob I6 from H1': 0, 'Prob I7 from H1': 0, 'Prob I8 from H1': 0, 'Prob I0 from H2': 0, 'Prob I1 from H2': 0, 'Prob I2 from H2': 0, 'Prob I3 from H2': 0, 'Prob I4 from H2': 0, 'Prob I5 from H2': 0, 'Prob I6 from H2': 0, 'Prob I7 from H2': 0, 'Prob I8 from H2': 0}\n",
      "H2\n",
      "{'Prob I0 from I': 0, 'Prob I1 from I': 0, 'Prob I2 from I': 0, 'Prob I3 from I': 0, 'Prob I4 from I': 0, 'Prob I5 from I': 0, 'Prob I6 from I': 0, 'Prob I7 from I': 0, 'Prob I8 from I': 0, 'Prob I0 from H1': 0, 'Prob I1 from H1': 0, 'Prob I2 from H1': 0, 'Prob I3 from H1': 0, 'Prob I4 from H1': 0, 'Prob I5 from H1': 0, 'Prob I6 from H1': 0, 'Prob I7 from H1': 0, 'Prob I8 from H1': 0, 'Prob I0 from H2': 0, 'Prob I1 from H2': 0, 'Prob I2 from H2': 0, 'Prob I3 from H2': 0, 'Prob I4 from H2': 0, 'Prob I5 from H2': 0, 'Prob I6 from H2': 0, 'Prob I7 from H2': 0, 'Prob I8 from H2': 0}\n",
      "H2\n",
      "{'Prob I0 from I': 0, 'Prob I1 from I': 0, 'Prob I2 from I': 0, 'Prob I3 from I': 0, 'Prob I4 from I': 0, 'Prob I5 from I': 0, 'Prob I6 from I': 0, 'Prob I7 from I': 0, 'Prob I8 from I': 0, 'Prob I0 from H1': 0, 'Prob I1 from H1': 0, 'Prob I2 from H1': 0, 'Prob I3 from H1': 0, 'Prob I4 from H1': 0, 'Prob I5 from H1': 0, 'Prob I6 from H1': 0, 'Prob I7 from H1': 0, 'Prob I8 from H1': 0, 'Prob I0 from H2': 0, 'Prob I1 from H2': 0, 'Prob I2 from H2': 0, 'Prob I3 from H2': 0, 'Prob I4 from H2': 0, 'Prob I5 from H2': 0, 'Prob I6 from H2': 0, 'Prob I7 from H2': 0, 'Prob I8 from H2': 0}\n",
      "H2\n",
      "{'Prob I0 from I': 0, 'Prob I1 from I': 0, 'Prob I2 from I': 0, 'Prob I3 from I': 0, 'Prob I4 from I': 0, 'Prob I5 from I': 0, 'Prob I6 from I': 0, 'Prob I7 from I': 0, 'Prob I8 from I': 0, 'Prob I0 from H1': 0, 'Prob I1 from H1': 0, 'Prob I2 from H1': 0, 'Prob I3 from H1': 0, 'Prob I4 from H1': 0, 'Prob I5 from H1': 0, 'Prob I6 from H1': 0, 'Prob I7 from H1': 0, 'Prob I8 from H1': 0, 'Prob I0 from H2': 0, 'Prob I1 from H2': 0, 'Prob I2 from H2': 0, 'Prob I3 from H2': 0, 'Prob I4 from H2': 0, 'Prob I5 from H2': 0, 'Prob I6 from H2': 0, 'Prob I7 from H2': 0, 'Prob I8 from H2': 0}\n",
      "H2\n",
      "{'Prob I0 from I': 0, 'Prob I1 from I': 0, 'Prob I2 from I': 0, 'Prob I3 from I': 0, 'Prob I4 from I': 0, 'Prob I5 from I': 0, 'Prob I6 from I': 0, 'Prob I7 from I': 0, 'Prob I8 from I': 0, 'Prob I0 from H1': 0, 'Prob I1 from H1': 0, 'Prob I2 from H1': 0, 'Prob I3 from H1': 0, 'Prob I4 from H1': 0, 'Prob I5 from H1': 0, 'Prob I6 from H1': 0, 'Prob I7 from H1': 0, 'Prob I8 from H1': 0, 'Prob I0 from H2': 0, 'Prob I1 from H2': 0, 'Prob I2 from H2': 0, 'Prob I3 from H2': 0, 'Prob I4 from H2': 0, 'Prob I5 from H2': 0, 'Prob I6 from H2': 0, 'Prob I7 from H2': 0, 'Prob I8 from H2': 0}\n",
      "H2\n",
      "{'Prob I0 from I': 0, 'Prob I1 from I': 0, 'Prob I2 from I': 0, 'Prob I3 from I': 0, 'Prob I4 from I': 0, 'Prob I5 from I': 0, 'Prob I6 from I': 0, 'Prob I7 from I': 0, 'Prob I8 from I': 0, 'Prob I0 from H1': 0, 'Prob I1 from H1': 0, 'Prob I2 from H1': 0, 'Prob I3 from H1': 0, 'Prob I4 from H1': 0, 'Prob I5 from H1': 0, 'Prob I6 from H1': 0, 'Prob I7 from H1': 0, 'Prob I8 from H1': 0, 'Prob I0 from H2': 0, 'Prob I1 from H2': 0, 'Prob I2 from H2': 0, 'Prob I3 from H2': 0, 'Prob I4 from H2': 0, 'Prob I5 from H2': 0, 'Prob I6 from H2': 0, 'Prob I7 from H2': 0, 'Prob I8 from H2': 0}\n",
      "H2\n",
      "{'Prob I0 from I': 0, 'Prob I1 from I': 0, 'Prob I2 from I': 0, 'Prob I3 from I': 0, 'Prob I4 from I': 0, 'Prob I5 from I': 0, 'Prob I6 from I': 0, 'Prob I7 from I': 0, 'Prob I8 from I': 0, 'Prob I0 from H1': 0, 'Prob I1 from H1': 0, 'Prob I2 from H1': 0, 'Prob I3 from H1': 0, 'Prob I4 from H1': 0, 'Prob I5 from H1': 0, 'Prob I6 from H1': 0, 'Prob I7 from H1': 0, 'Prob I8 from H1': 0, 'Prob I0 from H2': 0, 'Prob I1 from H2': 0, 'Prob I2 from H2': 0, 'Prob I3 from H2': 0, 'Prob I4 from H2': 0, 'Prob I5 from H2': 0, 'Prob I6 from H2': 0, 'Prob I7 from H2': 0, 'Prob I8 from H2': 0}\n",
      "H2\n",
      "{'Prob I0 from I': 0, 'Prob I1 from I': 0, 'Prob I2 from I': 0, 'Prob I3 from I': 0, 'Prob I4 from I': 0, 'Prob I5 from I': 0, 'Prob I6 from I': 0, 'Prob I7 from I': 0, 'Prob I8 from I': 0, 'Prob I0 from H1': 0, 'Prob I1 from H1': 0, 'Prob I2 from H1': 0, 'Prob I3 from H1': 0, 'Prob I4 from H1': 0, 'Prob I5 from H1': 0, 'Prob I6 from H1': 0, 'Prob I7 from H1': 0, 'Prob I8 from H1': 0, 'Prob I0 from H2': 0, 'Prob I1 from H2': 0, 'Prob I2 from H2': 0, 'Prob I3 from H2': 0, 'Prob I4 from H2': 0, 'Prob I5 from H2': 0, 'Prob I6 from H2': 0, 'Prob I7 from H2': 0, 'Prob I8 from H2': 0}\n",
      "H2\n",
      "{'Prob I0 from I': 0, 'Prob I1 from I': 0, 'Prob I2 from I': 0, 'Prob I3 from I': 0, 'Prob I4 from I': 0, 'Prob I5 from I': 0, 'Prob I6 from I': 0, 'Prob I7 from I': 0, 'Prob I8 from I': 0, 'Prob I0 from H1': 0, 'Prob I1 from H1': 0, 'Prob I2 from H1': 0, 'Prob I3 from H1': 0, 'Prob I4 from H1': 0, 'Prob I5 from H1': 0, 'Prob I6 from H1': 0, 'Prob I7 from H1': 0, 'Prob I8 from H1': 0, 'Prob I0 from H2': 0, 'Prob I1 from H2': 0, 'Prob I2 from H2': 0, 'Prob I3 from H2': 0, 'Prob I4 from H2': 0, 'Prob I5 from H2': 0, 'Prob I6 from H2': 0, 'Prob I7 from H2': 0, 'Prob I8 from H2': 0}\n",
      "H2\n",
      "{'Prob I0 from I': 0, 'Prob I1 from I': 0, 'Prob I2 from I': 0, 'Prob I3 from I': 0, 'Prob I4 from I': 0, 'Prob I5 from I': 0, 'Prob I6 from I': 0, 'Prob I7 from I': 0, 'Prob I8 from I': 0, 'Prob I0 from H1': 0, 'Prob I1 from H1': 0, 'Prob I2 from H1': 0, 'Prob I3 from H1': 0, 'Prob I4 from H1': 0, 'Prob I5 from H1': 0, 'Prob I6 from H1': 0, 'Prob I7 from H1': 0, 'Prob I8 from H1': 0, 'Prob I0 from H2': 0, 'Prob I1 from H2': 0, 'Prob I2 from H2': 0, 'Prob I3 from H2': 0, 'Prob I4 from H2': 0, 'Prob I5 from H2': 0, 'Prob I6 from H2': 0, 'Prob I7 from H2': 0, 'Prob I8 from H2': 0}\n",
      "H2\n",
      "{'Prob I0 from I': 0, 'Prob I1 from I': 0, 'Prob I2 from I': 0, 'Prob I3 from I': 0, 'Prob I4 from I': 0, 'Prob I5 from I': 0, 'Prob I6 from I': 0, 'Prob I7 from I': 0, 'Prob I8 from I': 0, 'Prob I0 from H1': 0, 'Prob I1 from H1': 0, 'Prob I2 from H1': 0, 'Prob I3 from H1': 0, 'Prob I4 from H1': 0, 'Prob I5 from H1': 0, 'Prob I6 from H1': 0, 'Prob I7 from H1': 0, 'Prob I8 from H1': 0, 'Prob I0 from H2': 0, 'Prob I1 from H2': 0, 'Prob I2 from H2': 0, 'Prob I3 from H2': 0, 'Prob I4 from H2': 0, 'Prob I5 from H2': 0, 'Prob I6 from H2': 0, 'Prob I7 from H2': 0, 'Prob I8 from H2': 0}\n",
      "H2\n",
      "{'Prob I0 from I': 0, 'Prob I1 from I': 0, 'Prob I2 from I': 0, 'Prob I3 from I': 0, 'Prob I4 from I': 0, 'Prob I5 from I': 0, 'Prob I6 from I': 0, 'Prob I7 from I': 0, 'Prob I8 from I': 0, 'Prob I0 from H1': 0, 'Prob I1 from H1': 0, 'Prob I2 from H1': 0, 'Prob I3 from H1': 0, 'Prob I4 from H1': 0, 'Prob I5 from H1': 0, 'Prob I6 from H1': 0, 'Prob I7 from H1': 0, 'Prob I8 from H1': 0, 'Prob I0 from H2': 0, 'Prob I1 from H2': 0, 'Prob I2 from H2': 0, 'Prob I3 from H2': 0, 'Prob I4 from H2': 0, 'Prob I5 from H2': 0, 'Prob I6 from H2': 0, 'Prob I7 from H2': 0, 'Prob I8 from H2': 0}\n",
      "H2\n",
      "{'Prob I0 from I': 0, 'Prob I1 from I': 0, 'Prob I2 from I': 0, 'Prob I3 from I': 0, 'Prob I4 from I': 0, 'Prob I5 from I': 0, 'Prob I6 from I': 0, 'Prob I7 from I': 0, 'Prob I8 from I': 0, 'Prob I0 from H1': 0, 'Prob I1 from H1': 0, 'Prob I2 from H1': 0, 'Prob I3 from H1': 0, 'Prob I4 from H1': 0, 'Prob I5 from H1': 0, 'Prob I6 from H1': 0, 'Prob I7 from H1': 0, 'Prob I8 from H1': 0, 'Prob I0 from H2': 0, 'Prob I1 from H2': 0, 'Prob I2 from H2': 0, 'Prob I3 from H2': 0, 'Prob I4 from H2': 0, 'Prob I5 from H2': 0, 'Prob I6 from H2': 0, 'Prob I7 from H2': 0, 'Prob I8 from H2': 0}\n",
      "H2\n",
      "{'Prob I0 from I': 0, 'Prob I1 from I': 0, 'Prob I2 from I': 0, 'Prob I3 from I': 0, 'Prob I4 from I': 0, 'Prob I5 from I': 0, 'Prob I6 from I': 0, 'Prob I7 from I': 0, 'Prob I8 from I': 0, 'Prob I0 from H1': 0, 'Prob I1 from H1': 0, 'Prob I2 from H1': 0, 'Prob I3 from H1': 0, 'Prob I4 from H1': 0, 'Prob I5 from H1': 0, 'Prob I6 from H1': 0, 'Prob I7 from H1': 0, 'Prob I8 from H1': 0, 'Prob I0 from H2': 0, 'Prob I1 from H2': 0, 'Prob I2 from H2': 0, 'Prob I3 from H2': 0, 'Prob I4 from H2': 0, 'Prob I5 from H2': 0, 'Prob I6 from H2': 0, 'Prob I7 from H2': 0, 'Prob I8 from H2': 0}\n",
      "H2\n",
      "{'Prob I0 from I': 0, 'Prob I1 from I': 0, 'Prob I2 from I': 0, 'Prob I3 from I': 0, 'Prob I4 from I': 0, 'Prob I5 from I': 0, 'Prob I6 from I': 0, 'Prob I7 from I': 0, 'Prob I8 from I': 0, 'Prob I0 from H1': 0, 'Prob I1 from H1': 0, 'Prob I2 from H1': 0, 'Prob I3 from H1': 0, 'Prob I4 from H1': 0, 'Prob I5 from H1': 0, 'Prob I6 from H1': 0, 'Prob I7 from H1': 0, 'Prob I8 from H1': 0, 'Prob I0 from H2': 0, 'Prob I1 from H2': 0, 'Prob I2 from H2': 0, 'Prob I3 from H2': 0, 'Prob I4 from H2': 0, 'Prob I5 from H2': 0, 'Prob I6 from H2': 0, 'Prob I7 from H2': 0, 'Prob I8 from H2': 0}\n",
      "H2\n",
      "{'Prob I0 from I': 0, 'Prob I1 from I': 0, 'Prob I2 from I': 0, 'Prob I3 from I': 0, 'Prob I4 from I': 0, 'Prob I5 from I': 0, 'Prob I6 from I': 0, 'Prob I7 from I': 0, 'Prob I8 from I': 0, 'Prob I0 from H1': 0, 'Prob I1 from H1': 0, 'Prob I2 from H1': 0, 'Prob I3 from H1': 0, 'Prob I4 from H1': 0, 'Prob I5 from H1': 0, 'Prob I6 from H1': 0, 'Prob I7 from H1': 0, 'Prob I8 from H1': 0, 'Prob I0 from H2': 0, 'Prob I1 from H2': 0, 'Prob I2 from H2': 0, 'Prob I3 from H2': 0, 'Prob I4 from H2': 0, 'Prob I5 from H2': 0, 'Prob I6 from H2': 0, 'Prob I7 from H2': 0, 'Prob I8 from H2': 0}\n",
      "H2\n",
      "{'Prob I0 from I': 0, 'Prob I1 from I': 0, 'Prob I2 from I': 0, 'Prob I3 from I': 0, 'Prob I4 from I': 0, 'Prob I5 from I': 0, 'Prob I6 from I': 0, 'Prob I7 from I': 0, 'Prob I8 from I': 0, 'Prob I0 from H1': 0, 'Prob I1 from H1': 0, 'Prob I2 from H1': 0, 'Prob I3 from H1': 0, 'Prob I4 from H1': 0, 'Prob I5 from H1': 0, 'Prob I6 from H1': 0, 'Prob I7 from H1': 0, 'Prob I8 from H1': 0, 'Prob I0 from H2': 0, 'Prob I1 from H2': 0, 'Prob I2 from H2': 0, 'Prob I3 from H2': 0, 'Prob I4 from H2': 0, 'Prob I5 from H2': 0, 'Prob I6 from H2': 0, 'Prob I7 from H2': 0, 'Prob I8 from H2': 0}\n",
      "H2\n",
      "{'Prob I0 from I': 0, 'Prob I1 from I': 0, 'Prob I2 from I': 0, 'Prob I3 from I': 0, 'Prob I4 from I': 0, 'Prob I5 from I': 0, 'Prob I6 from I': 0, 'Prob I7 from I': 0, 'Prob I8 from I': 0, 'Prob I0 from H1': 0, 'Prob I1 from H1': 0, 'Prob I2 from H1': 0, 'Prob I3 from H1': 0, 'Prob I4 from H1': 0, 'Prob I5 from H1': 0, 'Prob I6 from H1': 0, 'Prob I7 from H1': 0, 'Prob I8 from H1': 0, 'Prob I0 from H2': 0, 'Prob I1 from H2': 0, 'Prob I2 from H2': 0, 'Prob I3 from H2': 0, 'Prob I4 from H2': 0, 'Prob I5 from H2': 0, 'Prob I6 from H2': 0, 'Prob I7 from H2': 0, 'Prob I8 from H2': 0}\n",
      "H2\n",
      "{'Prob I0 from I': 0, 'Prob I1 from I': 0, 'Prob I2 from I': 0, 'Prob I3 from I': 0, 'Prob I4 from I': 0, 'Prob I5 from I': 0, 'Prob I6 from I': 0, 'Prob I7 from I': 0, 'Prob I8 from I': 0, 'Prob I0 from H1': 0, 'Prob I1 from H1': 0, 'Prob I2 from H1': 0, 'Prob I3 from H1': 0, 'Prob I4 from H1': 0, 'Prob I5 from H1': 0, 'Prob I6 from H1': 0, 'Prob I7 from H1': 0, 'Prob I8 from H1': 0, 'Prob I0 from H2': 0, 'Prob I1 from H2': 0, 'Prob I2 from H2': 0, 'Prob I3 from H2': 0, 'Prob I4 from H2': 0, 'Prob I5 from H2': 0, 'Prob I6 from H2': 0, 'Prob I7 from H2': 0, 'Prob I8 from H2': 0}\n",
      "H2\n"
     ]
    }
   ],
   "source": [
    "# importlib.reload(pf)\n",
    "for i in range(10):\n",
    "    net = torch.load(f\"trained_nets/abalone/flow/net{i}\", map_location=torch.device('cpu'))\n",
    "    pf.save_metrics(net, path=f\"results/abalone/flow/net{i}\")\n",
    "    pf.run_path_graph(net, threshold=0.5, save_path=f\"path_graphs/abalone/flow/net{i}\", show=False)"
   ]
  },
  {
   "cell_type": "code",
   "execution_count": 23,
   "metadata": {},
   "outputs": [
    {
     "data": {
      "text/plain": [
       "{'median_rmse_full': 2.1400747299194336,\n",
       " 'min_rmse_full': 2.1222639083862305,\n",
       " 'max_rmse_full': 2.182795763015747,\n",
       " 'median_rmse_median': 2.114986300468445,\n",
       " 'min_rmse_median': 2.1052451133728027,\n",
       " 'max_rmse_median': 2.186708450317383,\n",
       " 'median_density': 0.0005934853106737137,\n",
       " 'min_density': 0.00034239538945257664,\n",
       " 'max_density': 0.0008217489230446517,\n",
       " 'median_used_weights': 26.0,\n",
       " 'min_used_weights': 15.0,\n",
       " 'max_used_weights': 36.0,\n",
       " 'median_r2_full': 0.5926642417907715,\n",
       " 'min_r2_full': 0.5762367248535156,\n",
       " 'max_r2_full': 0.5994216203689575,\n",
       " 'median_r2_median': 0.6021612882614136,\n",
       " 'min_r2_median': 0.5747120976448059,\n",
       " 'max_r2_median': 0.6058254837989807,\n",
       " 'median_corr_full': 0.7698462375702895,\n",
       " 'min_corr_full': 0.7591025786107669,\n",
       " 'max_corr_full': 0.7742232367792622,\n",
       " 'median_corr_median': 0.7759905079284137,\n",
       " 'min_corr_median': 0.7580976834450861,\n",
       " 'max_corr_median': 0.7783479195057829}"
      ]
     },
     "execution_count": 23,
     "metadata": {},
     "output_type": "execute_result"
    }
   ],
   "source": [
    "import numpy as np\n",
    "\n",
    "res = {}\n",
    "data = np.loadtxt(f\"results/flow_reg_skip_2_hidden_200_dim_3000_epochs_0.005_lr_abalone_full.txt\", delimiter=\",\")\n",
    "data_median = np.loadtxt(f\"results/flow_reg_skip_2_hidden_200_dim_3000_epochs_0.005_lr_abalone_median.txt\", delimiter=\",\")\n",
    "res[\"median_rmse_full\"] = np.median(data, 0)[0]\n",
    "res[\"min_rmse_full\"] = np.min(data, 0)[0]\n",
    "res[\"max_rmse_full\"] = np.max(data, 0)[0]\n",
    "\n",
    "res[\"median_rmse_median\"] = np.median(data_median, 0)[0]\n",
    "res[\"min_rmse_median\"] = np.min(data_median, 0)[0]\n",
    "res[\"max_rmse_median\"] = np.max(data_median, 0)[0]\n",
    "\n",
    "res[\"median_density\"] = np.median(data, 0)[1]\n",
    "res[\"min_density\"] = np.min(data, 0)[1]\n",
    "res[\"max_density\"] = np.max(data, 0)[1]\n",
    "\n",
    "res[\"median_used_weights\"] = np.median(data_median, 0)[1]\n",
    "res[\"min_used_weights\"] = np.min(data_median, 0)[1]\n",
    "res[\"max_used_weights\"] = np.max(data_median, 0)[1]\n",
    "\n",
    "res[\"median_r2_full\"] = np.median(data, 0)[2]\n",
    "res[\"min_r2_full\"] = np.min(data, 0)[2]\n",
    "res[\"max_r2_full\"] = np.max(data, 0)[2]\n",
    "\n",
    "res[\"median_r2_median\"] = np.median(data_median, 0)[2]\n",
    "res[\"min_r2_median\"] = np.min(data_median, 0)[2]\n",
    "res[\"max_r2_median\"] = np.max(data_median, 0)[2]\n",
    "\n",
    "res[\"median_corr_full\"] = np.median(np.sqrt(data), 0)[2]\n",
    "res[\"min_corr_full\"] = np.min(np.sqrt(data), 0)[2]\n",
    "res[\"max_corr_full\"] = np.max(np.sqrt(data), 0)[2]\n",
    "\n",
    "res[\"median_corr_median\"] = np.median(np.sqrt(data_median), 0)[2]\n",
    "res[\"min_corr_median\"] = np.min(np.sqrt(data_median), 0)[2]\n",
    "res[\"max_corr_median\"] = np.max(np.sqrt(data_median), 0)[2]\n",
    "\n",
    "res"
   ]
  },
  {
   "cell_type": "code",
   "execution_count": 6,
   "metadata": {},
   "outputs": [
    {
     "name": "stdout",
     "output_type": "stream",
     "text": [
      "USED WEIGHTS:\n",
      "median: 26.0\n",
      "min: 15\n",
      "max: 36\n",
      "\n"
     ]
    }
   ],
   "source": [
    "import numpy as np\n",
    "import matplotlib.pyplot as plt\n",
    "\n",
    "from scipy import stats\n",
    "\n",
    "import os\n",
    "import sys\n",
    "current_dir = os.getcwd()\n",
    "sys.path.append('layers')\n",
    "from config import config\n",
    "\n",
    "# Parameters from config file\n",
    "HIDDEN_LAYERS = config['n_layers'] - 2 \n",
    "epochs = config['num_epochs']\n",
    "dim = config['hidden_dim']\n",
    "n_nets = config['n_nets']\n",
    "\n",
    "path = \"results/abalone/flow/\"\n",
    "res = {}\n",
    "\n",
    "\n",
    "res[\"used_weights\"] = []\n",
    "\n",
    "for n in range(n_nets):\n",
    "    median_info = np.load(path+f\"net{n}_median.npy\", allow_pickle=True).item()\n",
    "    res[\"used_weights\"].append(median_info[\"used_weights\"])\n",
    "\n",
    "print(\"USED WEIGHTS:\")\n",
    "m = (res[\"used_weights\"])\n",
    "print(f\"median: {np.median(m)}\")\n",
    "print(f\"min: {np.min(m)}\")\n",
    "print(f\"max: {np.max(m)}\\n\")"
   ]
  },
  {
   "cell_type": "code",
   "execution_count": 7,
   "metadata": {},
   "outputs": [
    {
     "name": "stdout",
     "output_type": "stream",
     "text": [
      "Avg. depth\n",
      "1.8571428571428572\n",
      "1.6363636363636365\n",
      "1.9285714285714286\n",
      "\n",
      "Max depth\n",
      "2.0\n",
      "2\n",
      "3\n",
      "\n"
     ]
    }
   ],
   "source": [
    "import numpy as np\n",
    "import matplotlib.pyplot as plt\n",
    "\n",
    "from scipy import stats\n",
    "\n",
    "import os\n",
    "import sys\n",
    "current_dir = os.getcwd()\n",
    "sys.path.append('layers')\n",
    "from config import config\n",
    "\n",
    "# Parameters from config file\n",
    "HIDDEN_LAYERS = config['n_layers'] - 2 \n",
    "epochs = config['num_epochs']\n",
    "dim = config['hidden_dim']\n",
    "n_nets = config['n_nets']\n",
    "\n",
    "path = \"results/abalone/flow/\"\n",
    "res = {}\n",
    "res[\"median_depth\"] = []\n",
    "res[\"max_width\"] = []\n",
    "\n",
    "for n in range(n_nets):\n",
    "    median_info = np.load(path+f\"net{n}_median.npy\", allow_pickle=True).item()\n",
    "    res[\"median_depth\"].append(median_info[\"avg_path_length\"])\n",
    "    search = True\n",
    "    i = 0\n",
    "    while search:\n",
    "        search = np.sum(median_info[\"include_inputs\"][i]) == 0\n",
    "        i += 1\n",
    "\n",
    "    res[\"max_width\"].append(HIDDEN_LAYERS-i+2)\n",
    "\n",
    "print(\"Avg. depth\")\n",
    "print(np.median(res[\"median_depth\"]))\n",
    "print(np.min(res[\"median_depth\"]))\n",
    "print(np.max(res[\"median_depth\"]))\n",
    "print(\"\")\n",
    "\n",
    "print(\"Max depth\")\n",
    "print(np.median(res[\"max_width\"]))\n",
    "print(np.min(res[\"max_width\"]))\n",
    "print(np.max(res[\"max_width\"]))\n",
    "print(\"\")"
   ]
  },
  {
   "cell_type": "code",
   "execution_count": 26,
   "metadata": {},
   "outputs": [
    {
     "data": {
      "text/plain": [
       "{'x1_inclution_rate': 0.0,\n",
       " 'x2_inclution_rate': 0.0,\n",
       " 'x3_inclution_rate': 0.7,\n",
       " 'x4_inclution_rate': 1.0,\n",
       " 'x5_inclution_rate': 1.0,\n",
       " 'x6_inclution_rate': 0.0,\n",
       " 'x7_inclution_rate': 1.0,\n",
       " 'x8_inclution_rate': 1.0,\n",
       " 'x9_inclution_rate': 0.0}"
      ]
     },
     "execution_count": 26,
     "metadata": {},
     "output_type": "execute_result"
    }
   ],
   "source": [
    "import numpy as np\n",
    "\n",
    "\n",
    "import os\n",
    "import sys\n",
    "current_dir = os.getcwd()\n",
    "sys.path.append('layers')\n",
    "from config import config\n",
    "\n",
    "# Parameters from config file\n",
    "HIDDEN_LAYERS = config['n_layers'] - 2 \n",
    "epochs = config['num_epochs']\n",
    "dim = config['hidden_dim']\n",
    "n_nets = config['n_nets']\n",
    "\n",
    "path = \"results/abalone/flow/\"\n",
    "res = {}\n",
    "for i in range(p):\n",
    "    res[f\"x{i+1}_inclution_rate\"] = 0\n",
    "    \n",
    "    for n in range(n_nets):\n",
    "        median_info = np.load(path+f\"net{n}_median.npy\", allow_pickle=True).item()\n",
    "        #res[d][f\"x{i+1}_inclution_rate\"] += (median_info[\"expected_depth_input\"][i]>0)\n",
    "        count = 0\n",
    "        for j in median_info[\"include_inputs\"]:\n",
    "            count += j[i]\n",
    "\n",
    "        res[f\"x{i+1}_inclution_rate\"] += (count>0)\n",
    "    res[f\"x{i+1}_inclution_rate\"] /= n_nets\n",
    "\n",
    "res"
   ]
  },
  {
   "cell_type": "code",
   "execution_count": null,
   "metadata": {},
   "outputs": [],
   "source": []
  }
 ],
 "metadata": {
  "kernelspec": {
   "display_name": "master",
   "language": "python",
   "name": "python3"
  },
  "language_info": {
   "codemirror_mode": {
    "name": "ipython",
    "version": 3
   },
   "file_extension": ".py",
   "mimetype": "text/x-python",
   "name": "python",
   "nbconvert_exporter": "python",
   "pygments_lexer": "ipython3",
   "version": "3.10.12"
  }
 },
 "nbformat": 4,
 "nbformat_minor": 2
}
