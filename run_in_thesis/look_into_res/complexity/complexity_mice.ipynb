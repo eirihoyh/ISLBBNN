{
 "cells": [
  {
   "cell_type": "code",
   "execution_count": 1,
   "id": "6518eeb7-63b2-42c4-ac50-91c66759d60d",
   "metadata": {},
   "outputs": [],
   "source": [
    "import copy\n",
    "import numpy as np\n",
    "import pandas as pd"
   ]
  },
  {
   "cell_type": "code",
   "execution_count": 2,
   "id": "9d550610-5c47-412f-92e6-f5dd65f2a9cf",
   "metadata": {},
   "outputs": [
    {
     "data": {
      "text/plain": [
       "{0: [8929.722, 0.0, 527617.6],\n",
       " 1: [24275.523, 0.0, 350915.66],\n",
       " 2: [122211.25, 0.0, 4308190.5],\n",
       " 3: [44828.223, 0.0, 836194.44],\n",
       " 4: [45717.125, 0.0, 791751.3],\n",
       " 5: [471984.12, 6986.329, 1876313.2],\n",
       " 6: [56368.984, 0.0, 4416028.5],\n",
       " 7: [0.0, 0.0, 284522.8]}"
      ]
     },
     "execution_count": 2,
     "metadata": {},
     "output_type": "execute_result"
    }
   ],
   "source": [
    "complexity_non_lin_func_lrt  = np.load(\"complexity/lrt_class/complexity_class_lowerLR.npy\", allow_pickle=True).item()\n",
    "dict_non_lin_lrt = {}\n",
    "for c in complexity_non_lin_func_lrt[0].keys():\n",
    "    lin_lrt = []\n",
    "    for k in complexity_non_lin_func_lrt.keys():\n",
    "        lin_lrt.append(complexity_non_lin_func_lrt[k][c])\n",
    "    dict_non_lin_lrt[c] = [np.median(lin_lrt), np.min(lin_lrt), np.max(lin_lrt)]\n",
    "\n",
    "dict_non_lin_lrt"
   ]
  },
  {
   "cell_type": "code",
   "execution_count": 3,
   "id": "ba6e8c1f-4426-4bb9-bb8b-14c8af75fc3c",
   "metadata": {},
   "outputs": [
    {
     "data": {
      "text/plain": [
       "{0: [216229.47, 0.0, 4830318.0],\n",
       " 1: [525819.3, 0.0, 33994210.0],\n",
       " 2: [799.9302, 0.0, 9843460.0],\n",
       " 3: [0.0, 0.0, 3162810.8],\n",
       " 4: [41195.926, 0.0, 7895494.0],\n",
       " 5: [0.0, 0.0, 148948.56],\n",
       " 6: [0.0, 0.0, 617318.75],\n",
       " 7: [0.0, 0.0, 3033397.5]}"
      ]
     },
     "execution_count": 3,
     "metadata": {},
     "output_type": "execute_result"
    }
   ],
   "source": [
    "complexity_non_lin_func_flow  = np.load(\"complexity/flow_class/complexity_class.npy\", allow_pickle=True).item()\n",
    "dict_non_lin_flow = {}\n",
    "for c in complexity_non_lin_func_flow[0].keys():\n",
    "    lin_flow = []\n",
    "    for k in complexity_non_lin_func_flow.keys():\n",
    "        lin_flow.append(complexity_non_lin_func_flow[k][c])\n",
    "    dict_non_lin_flow[c] = [np.median(lin_flow), np.min(lin_flow), np.max(lin_flow)]\n",
    "\n",
    "dict_non_lin_flow"
   ]
  },
  {
   "cell_type": "code",
   "execution_count": 23,
   "id": "7c915fdc-6cc4-4219-8484-e049d92e9967",
   "metadata": {},
   "outputs": [
    {
     "data": {
      "text/plain": [
       "{0: {0: 0.0, 1: 2.2244756, 2: 0.0, 3: 0.0, 4: 0.0, 5: 0.0, 6: 0.0, 7: 0.0},\n",
       " 1: {0: 36543.73,\n",
       "  1: 75151.555,\n",
       "  2: 0.0,\n",
       "  3: 0.0,\n",
       "  4: 0.0,\n",
       "  5: 0.0,\n",
       "  6: 0.0,\n",
       "  7: 0.0},\n",
       " 2: {0: 0.0, 1: 0.0, 2: 0.0, 3: 0.0, 4: 0.0, 5: 0.0, 6: 0.0, 7: 0.0},\n",
       " 3: {0: 0.0, 1: 0.0, 2: 0.0, 3: 0.0, 4: 0.0, 5: 0.0, 6: 0.0, 7: 0.0},\n",
       " 4: {0: 85312.72,\n",
       "  1: 355042.25,\n",
       "  2: 0.0,\n",
       "  3: 0.0,\n",
       "  4: 176372.1,\n",
       "  5: 0.0,\n",
       "  6: 186945.62,\n",
       "  7: 0.0},\n",
       " 5: {0: 0.0, 1: 0.0, 2: 0.0, 3: 0.0, 4: 0.0, 5: 0.0, 6: 0.0, 7: 0.0},\n",
       " 6: {0: 0.0, 1: 0.0, 2: 0.0, 3: 0.0, 4: 0.0, 5: 0.0, 6: 0.0, 7: 0.0},\n",
       " 7: {0: 18740.012,\n",
       "  1: 12437.961,\n",
       "  2: 0.0,\n",
       "  3: 14820.934,\n",
       "  4: 18709.977,\n",
       "  5: 0.0,\n",
       "  6: 0.0,\n",
       "  7: 0.0},\n",
       " 8: {0: 3007706.0, 1: 0.0, 2: 0.0, 3: 0.0, 4: 0.0, 5: 0.0, 6: 0.0, 7: 0.0},\n",
       " 9: {0: 0.0, 1: 0.0, 2: 0.0, 3: 0.0, 4: 0.0, 5: 0.0, 6: 0.0, 7: 0.0}}"
      ]
     },
     "execution_count": 23,
     "metadata": {},
     "output_type": "execute_result"
    }
   ],
   "source": [
    "complexity_non_lin_func_flow"
   ]
  }
 ],
 "metadata": {
  "kernelspec": {
   "display_name": "skip_con",
   "language": "python",
   "name": "skip_con"
  },
  "language_info": {
   "codemirror_mode": {
    "name": "ipython",
    "version": 3
   },
   "file_extension": ".py",
   "mimetype": "text/x-python",
   "name": "python",
   "nbconvert_exporter": "python",
   "pygments_lexer": "ipython3",
   "version": "3.10.13"
  }
 },
 "nbformat": 4,
 "nbformat_minor": 5
}
