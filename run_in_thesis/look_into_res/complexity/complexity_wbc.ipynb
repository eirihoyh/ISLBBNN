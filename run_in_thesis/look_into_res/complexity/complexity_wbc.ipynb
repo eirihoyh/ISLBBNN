{
 "cells": [
  {
   "cell_type": "markdown",
   "id": "6f5a5806-5755-422a-bd81-ca726ff0721c",
   "metadata": {},
   "source": [
    "# New"
   ]
  },
  {
   "cell_type": "code",
   "execution_count": 1,
   "id": "487ff8e5-e179-4445-afbf-21f91b1badb3",
   "metadata": {},
   "outputs": [],
   "source": [
    "import copy\n",
    "import numpy as np\n",
    "import pandas as pd"
   ]
  },
  {
   "cell_type": "code",
   "execution_count": 2,
   "id": "2d79ad72-745c-4fe2-93d4-6b04e55d188d",
   "metadata": {},
   "outputs": [
    {
     "data": {
      "text/plain": [
       "(0.0, 0.0, 0.0)"
      ]
     },
     "execution_count": 2,
     "metadata": {},
     "output_type": "execute_result"
    }
   ],
   "source": [
    "comp = np.array(list(np.load(\"complexity/lrt/complexity_tot.npy\", allow_pickle=True).item().values()))\n",
    "np.median(comp), np.min(comp), np.max(comp)"
   ]
  },
  {
   "cell_type": "code",
   "execution_count": 3,
   "id": "51498bc5-9187-40b1-9489-6c38fa3f09f8",
   "metadata": {},
   "outputs": [
    {
     "data": {
      "text/plain": [
       "(0.0029811033, 0.0, 5.185866)"
      ]
     },
     "execution_count": 3,
     "metadata": {},
     "output_type": "execute_result"
    }
   ],
   "source": [
    "comp = np.array(list(np.load(\"complexity/flow/complexity_tot.npy\", allow_pickle=True).item().values()))\n",
    "np.median(comp), np.min(comp), np.max(comp)"
   ]
  },
  {
   "cell_type": "code",
   "execution_count": null,
   "id": "edc6e716-7718-4cc2-b2b2-19b9f4d987c7",
   "metadata": {},
   "outputs": [],
   "source": []
  },
  {
   "cell_type": "markdown",
   "id": "0a1cb4c8-b5e2-4c4c-84e9-de81a5fd1a1e",
   "metadata": {},
   "source": [
    "# Old"
   ]
  },
  {
   "cell_type": "code",
   "execution_count": 1,
   "id": "6518eeb7-63b2-42c4-ac50-91c66759d60d",
   "metadata": {},
   "outputs": [],
   "source": [
    "import copy\n",
    "import numpy as np\n",
    "import pandas as pd"
   ]
  },
  {
   "cell_type": "code",
   "execution_count": 2,
   "id": "9d550610-5c47-412f-92e6-f5dd65f2a9cf",
   "metadata": {},
   "outputs": [
    {
     "data": {
      "text/plain": [
       "(4.8319043e-06, 3.0081171e-06, 0.013889727)"
      ]
     },
     "execution_count": 2,
     "metadata": {},
     "output_type": "execute_result"
    }
   ],
   "source": [
    "comp = np.array(list(np.load(\"complexity/lrt/complexity_tot.npy\", allow_pickle=True).item().values()))\n",
    "np.median(comp), np.min(comp), np.max(comp)"
   ]
  },
  {
   "cell_type": "code",
   "execution_count": 3,
   "id": "ba6e8c1f-4426-4bb9-bb8b-14c8af75fc3c",
   "metadata": {},
   "outputs": [
    {
     "data": {
      "text/plain": [
       "(0.020707628, 5.577193e-05, 0.14124854)"
      ]
     },
     "execution_count": 3,
     "metadata": {},
     "output_type": "execute_result"
    }
   ],
   "source": [
    "comp = np.array(list(np.load(\"complexity/flow/complexity_tot.npy\", allow_pickle=True).item().values()))\n",
    "np.median(comp), np.min(comp), np.max(comp)"
   ]
  },
  {
   "cell_type": "code",
   "execution_count": null,
   "id": "7c915fdc-6cc4-4219-8484-e049d92e9967",
   "metadata": {},
   "outputs": [],
   "source": []
  }
 ],
 "metadata": {
  "kernelspec": {
   "display_name": "skip_con",
   "language": "python",
   "name": "skip_con"
  },
  "language_info": {
   "codemirror_mode": {
    "name": "ipython",
    "version": 3
   },
   "file_extension": ".py",
   "mimetype": "text/x-python",
   "name": "python",
   "nbconvert_exporter": "python",
   "pygments_lexer": "ipython3",
   "version": "3.10.13"
  }
 },
 "nbformat": 4,
 "nbformat_minor": 5
}
