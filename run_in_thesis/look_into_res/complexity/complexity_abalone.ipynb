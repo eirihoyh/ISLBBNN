{
 "cells": [
  {
   "cell_type": "markdown",
   "id": "bd7bbc98-e594-4217-a9b5-fa54b8d52f28",
   "metadata": {},
   "source": [
    "# New"
   ]
  },
  {
   "cell_type": "code",
   "execution_count": 1,
   "id": "56301a12-c807-4a7b-b504-caf9d2cd8d69",
   "metadata": {},
   "outputs": [],
   "source": [
    "import copy\n",
    "import numpy as np\n",
    "import pandas as pd"
   ]
  },
  {
   "cell_type": "code",
   "execution_count": 2,
   "id": "abd0d520-193b-4a10-9b01-19d7d8ed3842",
   "metadata": {},
   "outputs": [
    {
     "data": {
      "text/plain": [
       "(161779.62, 68830.266, 209683.86)"
      ]
     },
     "execution_count": 2,
     "metadata": {},
     "output_type": "execute_result"
    }
   ],
   "source": [
    "comp = np.array(list(np.load(\"complexity/lrt/complexity_tot.npy\", allow_pickle=True).item().values()))\n",
    "np.median(comp), np.min(comp), np.max(comp)"
   ]
  },
  {
   "cell_type": "code",
   "execution_count": 3,
   "id": "3a4b60fb-7b74-49d2-abc4-eae141422507",
   "metadata": {},
   "outputs": [
    {
     "data": {
      "text/plain": [
       "(173730.17, 67677.6, 267158.4)"
      ]
     },
     "execution_count": 3,
     "metadata": {},
     "output_type": "execute_result"
    }
   ],
   "source": [
    "comp = np.array(list(np.load(\"complexity/flow/complexity_tot.npy\", allow_pickle=True).item().values()))\n",
    "np.median(comp), np.min(comp), np.max(comp)"
   ]
  },
  {
   "cell_type": "markdown",
   "id": "bc0de2b0-3ba5-4144-9505-f74814b476eb",
   "metadata": {},
   "source": [
    "# Old"
   ]
  },
  {
   "cell_type": "code",
   "execution_count": 1,
   "id": "6518eeb7-63b2-42c4-ac50-91c66759d60d",
   "metadata": {},
   "outputs": [],
   "source": [
    "import copy\n",
    "import numpy as np\n",
    "import pandas as pd"
   ]
  },
  {
   "cell_type": "code",
   "execution_count": 3,
   "id": "9d550610-5c47-412f-92e6-f5dd65f2a9cf",
   "metadata": {},
   "outputs": [
    {
     "data": {
      "text/plain": [
       "(160186.78, 68995.516, 194249.0)"
      ]
     },
     "execution_count": 3,
     "metadata": {},
     "output_type": "execute_result"
    }
   ],
   "source": [
    "comp = np.array(list(np.load(\"complexity/lrt/complexity_tot.npy\", allow_pickle=True).item().values()))\n",
    "np.median(comp), np.min(comp), np.max(comp)"
   ]
  },
  {
   "cell_type": "code",
   "execution_count": 2,
   "id": "ba6e8c1f-4426-4bb9-bb8b-14c8af75fc3c",
   "metadata": {},
   "outputs": [
    {
     "data": {
      "text/plain": [
       "(179242.97, 66592.336, 269476.2)"
      ]
     },
     "execution_count": 2,
     "metadata": {},
     "output_type": "execute_result"
    }
   ],
   "source": [
    "comp = np.array(list(np.load(\"complexity/flow/complexity_tot.npy\", allow_pickle=True).item().values()))\n",
    "np.median(comp), np.min(comp), np.max(comp)"
   ]
  },
  {
   "cell_type": "code",
   "execution_count": null,
   "id": "7c915fdc-6cc4-4219-8484-e049d92e9967",
   "metadata": {},
   "outputs": [],
   "source": []
  }
 ],
 "metadata": {
  "kernelspec": {
   "display_name": "skip_con",
   "language": "python",
   "name": "skip_con"
  },
  "language_info": {
   "codemirror_mode": {
    "name": "ipython",
    "version": 3
   },
   "file_extension": ".py",
   "mimetype": "text/x-python",
   "name": "python",
   "nbconvert_exporter": "python",
   "pygments_lexer": "ipython3",
   "version": "3.10.13"
  }
 },
 "nbformat": 4,
 "nbformat_minor": 5
}
