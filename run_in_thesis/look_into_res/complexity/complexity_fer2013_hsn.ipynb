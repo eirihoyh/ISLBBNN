{
 "cells": [
  {
   "cell_type": "code",
   "execution_count": 11,
   "id": "8f1374a8-a7e2-4960-8160-e91e789a08ee",
   "metadata": {},
   "outputs": [
    {
     "data": {
      "text/plain": [
       "{0: [0.0, 0.0, 0.0], 1: [0.0, 0.0, 0.0], 2: [0.0, 0.0, 0.0]}"
      ]
     },
     "execution_count": 11,
     "metadata": {},
     "output_type": "execute_result"
    }
   ],
   "source": [
    "import copy\n",
    "import numpy as np\n",
    "import pandas as pd\n",
    "\n",
    "complexity_non_lin_func_lrt = np.load(\"complexity/lrt_class/complexity_class.npy\", allow_pickle=True).item()\n",
    "\n",
    "dict_non_lin_lrt = {}\n",
    "for c in complexity_non_lin_func_lrt[0].keys():\n",
    "    lin_lrt = []\n",
    "    for k in complexity_non_lin_func_lrt.keys():\n",
    "        lin_lrt.append(complexity_non_lin_func_lrt[k][c])\n",
    "    dict_non_lin_lrt[c] = [np.median(lin_lrt), np.min(lin_lrt), np.max(lin_lrt)]\n",
    "\n",
    "dict_non_lin_lrt"
   ]
  },
  {
   "cell_type": "code",
   "execution_count": 12,
   "id": "4c1e05bd-9f47-4ec1-9314-461cf836792a",
   "metadata": {},
   "outputs": [
    {
     "data": {
      "text/plain": [
       "{0: [0.0, 0.0, 0.0], 1: [0.0, 0.0, 0.0], 2: [0.0, 0.0, 0.0]}"
      ]
     },
     "execution_count": 12,
     "metadata": {},
     "output_type": "execute_result"
    }
   ],
   "source": [
    "complexity_non_lin_func_flow = np.load(\"complexity/flow_class/complexity_class.npy\", allow_pickle=True).item()\n",
    "\n",
    "dict_non_lin_flow = {}\n",
    "for c in complexity_non_lin_func_flow[0].keys():\n",
    "    lin_flow = []\n",
    "    for k in complexity_non_lin_func_flow.keys():\n",
    "        lin_flow.append(complexity_non_lin_func_flow[k][c])\n",
    "    dict_non_lin_flow[c] = [np.median(lin_flow), np.min(lin_flow), np.max(lin_flow)]\n",
    "\n",
    "dict_non_lin_flow"
   ]
  }
 ],
 "metadata": {
  "kernelspec": {
   "display_name": "Python 3 (ipykernel)",
   "language": "python",
   "name": "python3"
  },
  "language_info": {
   "codemirror_mode": {
    "name": "ipython",
    "version": 3
   },
   "file_extension": ".py",
   "mimetype": "text/x-python",
   "name": "python",
   "nbconvert_exporter": "python",
   "pygments_lexer": "ipython3",
   "version": "3.8.5"
  }
 },
 "nbformat": 4,
 "nbformat_minor": 5
}
