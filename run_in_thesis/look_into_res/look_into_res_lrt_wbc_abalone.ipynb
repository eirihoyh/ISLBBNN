{
 "cells": [
  {
   "cell_type": "markdown",
   "metadata": {},
   "source": [
    "__NOTE:__ The networks are not available in this github page. This notebook is provided to make it easier to see the results ran in the thesis."
   ]
  },
  {
   "cell_type": "markdown",
   "metadata": {},
   "source": [
    "# WBC"
   ]
  },
  {
   "cell_type": "code",
   "execution_count": 7,
   "metadata": {},
   "outputs": [],
   "source": [
    "import copy\n",
    "import numpy as np\n",
    "import torch\n",
    "import torch.optim as optim\n",
    "from sklearn.model_selection import train_test_split\n",
    "from sklearn.datasets import load_breast_cancer\n",
    "from sklearn.preprocessing import MinMaxScaler\n",
    "from config import config\n",
    "import sys\n",
    "import plot_functions as pf\n",
    "import pipeline_functions as pip_func\n",
    "sys.path.append('networks')\n",
    "from lrt_net import BayesianNetwork\n",
    "import torch.nn.functional as F"
   ]
  },
  {
   "cell_type": "code",
   "execution_count": 8,
   "metadata": {},
   "outputs": [
    {
     "name": "stdout",
     "output_type": "stream",
     "text": [
      "569 30\n"
     ]
    }
   ],
   "source": [
    "# define parameters\n",
    "HIDDEN_LAYERS = config['n_layers'] - 2 \n",
    "epochs = config['num_epochs']\n",
    "post_train_epochs = config['post_train_epochs']\n",
    "dim = config['hidden_dim']\n",
    "num_transforms = config['num_transforms']\n",
    "n_nets = config['n_nets']\n",
    "lr = config['lr']\n",
    "class_problem = config[\"class_problem\"]\n",
    "verbose = config['verbose']\n",
    "save_res = config['save_res']\n",
    "patience = config['patience']\n",
    "a_prior = config['a_prior']\n",
    "SAMPLES = 1\n",
    "\n",
    "\n",
    "\n",
    "X_original, y_original = load_breast_cancer(return_X_y=True)\n",
    "n, p = X_original.shape  # need this to get p \n",
    "\n",
    "print(n,p)"
   ]
  },
  {
   "cell_type": "code",
   "execution_count": 9,
   "metadata": {},
   "outputs": [
    {
     "name": "stdout",
     "output_type": "stream",
     "text": [
      "{'Prob I0 from I': 0, 'Prob I1 from I': 0, 'Prob I2 from I': 0, 'Prob I3 from I': 0, 'Prob I4 from I': 0, 'Prob I5 from I': 0, 'Prob I6 from I': 0, 'Prob I7 from I': 0, 'Prob I8 from I': 0, 'Prob I9 from I': 0, 'Prob I10 from I': 0, 'Prob I11 from I': 0, 'Prob I12 from I': 0, 'Prob I13 from I': 0, 'Prob I14 from I': 0, 'Prob I15 from I': 0, 'Prob I16 from I': 0, 'Prob I17 from I': 0, 'Prob I18 from I': 0, 'Prob I19 from I': 0, 'Prob I20 from I': 0, 'Prob I21 from I': 0, 'Prob I22 from I': 0, 'Prob I23 from I': 0, 'Prob I24 from I': 0, 'Prob I25 from I': 0, 'Prob I26 from I': 0, 'Prob I27 from I': 0, 'Prob I28 from I': 0, 'Prob I29 from I': 0, 'Prob I0 from H1': 0, 'Prob I1 from H1': 0, 'Prob I2 from H1': 0, 'Prob I3 from H1': 0, 'Prob I4 from H1': 0, 'Prob I5 from H1': 0, 'Prob I6 from H1': 0, 'Prob I7 from H1': 0, 'Prob I8 from H1': 0, 'Prob I9 from H1': 0, 'Prob I10 from H1': 0, 'Prob I11 from H1': 0, 'Prob I12 from H1': 0, 'Prob I13 from H1': 0, 'Prob I14 from H1': 0, 'Prob I15 from H1': 0, 'Prob I16 from H1': 0, 'Prob I17 from H1': 0, 'Prob I18 from H1': 0, 'Prob I19 from H1': 0, 'Prob I20 from H1': 0, 'Prob I21 from H1': 0, 'Prob I22 from H1': 0, 'Prob I23 from H1': 0, 'Prob I24 from H1': 0, 'Prob I25 from H1': 0, 'Prob I26 from H1': 0, 'Prob I27 from H1': 0, 'Prob I28 from H1': 0, 'Prob I29 from H1': 0, 'Prob I0 from H2': 0, 'Prob I1 from H2': 0, 'Prob I2 from H2': 0, 'Prob I3 from H2': 0, 'Prob I4 from H2': 0, 'Prob I5 from H2': 0, 'Prob I6 from H2': 0, 'Prob I7 from H2': 0, 'Prob I8 from H2': 0, 'Prob I9 from H2': 0, 'Prob I10 from H2': 0, 'Prob I11 from H2': 0, 'Prob I12 from H2': 0, 'Prob I13 from H2': 0, 'Prob I14 from H2': 0, 'Prob I15 from H2': 0, 'Prob I16 from H2': 0, 'Prob I17 from H2': 0, 'Prob I18 from H2': 0, 'Prob I19 from H2': 0, 'Prob I20 from H2': 0, 'Prob I21 from H2': 0, 'Prob I22 from H2': 0, 'Prob I23 from H2': 0, 'Prob I24 from H2': 0, 'Prob I25 from H2': 0, 'Prob I26 from H2': 0, 'Prob I27 from H2': 0, 'Prob I28 from H2': 0, 'Prob I29 from H2': 0}\n",
      "H2\n",
      "{'Prob I0 from I': 0, 'Prob I1 from I': 0, 'Prob I2 from I': 0, 'Prob I3 from I': 0, 'Prob I4 from I': 0, 'Prob I5 from I': 0, 'Prob I6 from I': 0, 'Prob I7 from I': 0, 'Prob I8 from I': 0, 'Prob I9 from I': 0, 'Prob I10 from I': 0, 'Prob I11 from I': 0, 'Prob I12 from I': 0, 'Prob I13 from I': 0, 'Prob I14 from I': 0, 'Prob I15 from I': 0, 'Prob I16 from I': 0, 'Prob I17 from I': 0, 'Prob I18 from I': 0, 'Prob I19 from I': 0, 'Prob I20 from I': 0, 'Prob I21 from I': 0, 'Prob I22 from I': 0, 'Prob I23 from I': 0, 'Prob I24 from I': 0, 'Prob I25 from I': 0, 'Prob I26 from I': 0, 'Prob I27 from I': 0, 'Prob I28 from I': 0, 'Prob I29 from I': 0, 'Prob I0 from H1': 0, 'Prob I1 from H1': 0, 'Prob I2 from H1': 0, 'Prob I3 from H1': 0, 'Prob I4 from H1': 0, 'Prob I5 from H1': 0, 'Prob I6 from H1': 0, 'Prob I7 from H1': 0, 'Prob I8 from H1': 0, 'Prob I9 from H1': 0, 'Prob I10 from H1': 0, 'Prob I11 from H1': 0, 'Prob I12 from H1': 0, 'Prob I13 from H1': 0, 'Prob I14 from H1': 0, 'Prob I15 from H1': 0, 'Prob I16 from H1': 0, 'Prob I17 from H1': 0, 'Prob I18 from H1': 0, 'Prob I19 from H1': 0, 'Prob I20 from H1': 0, 'Prob I21 from H1': 0, 'Prob I22 from H1': 0, 'Prob I23 from H1': 0, 'Prob I24 from H1': 0, 'Prob I25 from H1': 0, 'Prob I26 from H1': 0, 'Prob I27 from H1': 0, 'Prob I28 from H1': 0, 'Prob I29 from H1': 0, 'Prob I0 from H2': 0, 'Prob I1 from H2': 0, 'Prob I2 from H2': 0, 'Prob I3 from H2': 0, 'Prob I4 from H2': 0, 'Prob I5 from H2': 0, 'Prob I6 from H2': 0, 'Prob I7 from H2': 0, 'Prob I8 from H2': 0, 'Prob I9 from H2': 0, 'Prob I10 from H2': 0, 'Prob I11 from H2': 0, 'Prob I12 from H2': 0, 'Prob I13 from H2': 0, 'Prob I14 from H2': 0, 'Prob I15 from H2': 0, 'Prob I16 from H2': 0, 'Prob I17 from H2': 0, 'Prob I18 from H2': 0, 'Prob I19 from H2': 0, 'Prob I20 from H2': 0, 'Prob I21 from H2': 0, 'Prob I22 from H2': 0, 'Prob I23 from H2': 0, 'Prob I24 from H2': 0, 'Prob I25 from H2': 0, 'Prob I26 from H2': 0, 'Prob I27 from H2': 0, 'Prob I28 from H2': 0, 'Prob I29 from H2': 0}\n",
      "H2\n",
      "{'Prob I0 from I': 0, 'Prob I1 from I': 0, 'Prob I2 from I': 0, 'Prob I3 from I': 0, 'Prob I4 from I': 0, 'Prob I5 from I': 0, 'Prob I6 from I': 0, 'Prob I7 from I': 0, 'Prob I8 from I': 0, 'Prob I9 from I': 0, 'Prob I10 from I': 0, 'Prob I11 from I': 0, 'Prob I12 from I': 0, 'Prob I13 from I': 0, 'Prob I14 from I': 0, 'Prob I15 from I': 0, 'Prob I16 from I': 0, 'Prob I17 from I': 0, 'Prob I18 from I': 0, 'Prob I19 from I': 0, 'Prob I20 from I': 0, 'Prob I21 from I': 0, 'Prob I22 from I': 0, 'Prob I23 from I': 0, 'Prob I24 from I': 0, 'Prob I25 from I': 0, 'Prob I26 from I': 0, 'Prob I27 from I': 0, 'Prob I28 from I': 0, 'Prob I29 from I': 0, 'Prob I0 from H1': 0, 'Prob I1 from H1': 0, 'Prob I2 from H1': 0, 'Prob I3 from H1': 0, 'Prob I4 from H1': 0, 'Prob I5 from H1': 0, 'Prob I6 from H1': 0, 'Prob I7 from H1': 0, 'Prob I8 from H1': 0, 'Prob I9 from H1': 0, 'Prob I10 from H1': 0, 'Prob I11 from H1': 0, 'Prob I12 from H1': 0, 'Prob I13 from H1': 0, 'Prob I14 from H1': 0, 'Prob I15 from H1': 0, 'Prob I16 from H1': 0, 'Prob I17 from H1': 0, 'Prob I18 from H1': 0, 'Prob I19 from H1': 0, 'Prob I20 from H1': 0, 'Prob I21 from H1': 0, 'Prob I22 from H1': 0, 'Prob I23 from H1': 0, 'Prob I24 from H1': 0, 'Prob I25 from H1': 0, 'Prob I26 from H1': 0, 'Prob I27 from H1': 0, 'Prob I28 from H1': 0, 'Prob I29 from H1': 0, 'Prob I0 from H2': 0, 'Prob I1 from H2': 0, 'Prob I2 from H2': 0, 'Prob I3 from H2': 0, 'Prob I4 from H2': 0, 'Prob I5 from H2': 0, 'Prob I6 from H2': 0, 'Prob I7 from H2': 0, 'Prob I8 from H2': 0, 'Prob I9 from H2': 0, 'Prob I10 from H2': 0, 'Prob I11 from H2': 0, 'Prob I12 from H2': 0, 'Prob I13 from H2': 0, 'Prob I14 from H2': 0, 'Prob I15 from H2': 0, 'Prob I16 from H2': 0, 'Prob I17 from H2': 0, 'Prob I18 from H2': 0, 'Prob I19 from H2': 0, 'Prob I20 from H2': 0, 'Prob I21 from H2': 0, 'Prob I22 from H2': 0, 'Prob I23 from H2': 0, 'Prob I24 from H2': 0, 'Prob I25 from H2': 0, 'Prob I26 from H2': 0, 'Prob I27 from H2': 0, 'Prob I28 from H2': 0, 'Prob I29 from H2': 0}\n",
      "H2\n",
      "{'Prob I0 from I': 0, 'Prob I1 from I': 0, 'Prob I2 from I': 0, 'Prob I3 from I': 0, 'Prob I4 from I': 0, 'Prob I5 from I': 0, 'Prob I6 from I': 0, 'Prob I7 from I': 0, 'Prob I8 from I': 0, 'Prob I9 from I': 0, 'Prob I10 from I': 0, 'Prob I11 from I': 0, 'Prob I12 from I': 0, 'Prob I13 from I': 0, 'Prob I14 from I': 0, 'Prob I15 from I': 0, 'Prob I16 from I': 0, 'Prob I17 from I': 0, 'Prob I18 from I': 0, 'Prob I19 from I': 0, 'Prob I20 from I': 0, 'Prob I21 from I': 0, 'Prob I22 from I': 0, 'Prob I23 from I': 0, 'Prob I24 from I': 0, 'Prob I25 from I': 0, 'Prob I26 from I': 0, 'Prob I27 from I': 0, 'Prob I28 from I': 0, 'Prob I29 from I': 0, 'Prob I0 from H1': 0, 'Prob I1 from H1': 0, 'Prob I2 from H1': 0, 'Prob I3 from H1': 0, 'Prob I4 from H1': 0, 'Prob I5 from H1': 0, 'Prob I6 from H1': 0, 'Prob I7 from H1': 0, 'Prob I8 from H1': 0, 'Prob I9 from H1': 0, 'Prob I10 from H1': 0, 'Prob I11 from H1': 0, 'Prob I12 from H1': 0, 'Prob I13 from H1': 0, 'Prob I14 from H1': 0, 'Prob I15 from H1': 0, 'Prob I16 from H1': 0, 'Prob I17 from H1': 0, 'Prob I18 from H1': 0, 'Prob I19 from H1': 0, 'Prob I20 from H1': 0, 'Prob I21 from H1': 0, 'Prob I22 from H1': 0, 'Prob I23 from H1': 0, 'Prob I24 from H1': 0, 'Prob I25 from H1': 0, 'Prob I26 from H1': 0, 'Prob I27 from H1': 0, 'Prob I28 from H1': 0, 'Prob I29 from H1': 0, 'Prob I0 from H2': 0, 'Prob I1 from H2': 0, 'Prob I2 from H2': 0, 'Prob I3 from H2': 0, 'Prob I4 from H2': 0, 'Prob I5 from H2': 0, 'Prob I6 from H2': 0, 'Prob I7 from H2': 0, 'Prob I8 from H2': 0, 'Prob I9 from H2': 0, 'Prob I10 from H2': 0, 'Prob I11 from H2': 0, 'Prob I12 from H2': 0, 'Prob I13 from H2': 0, 'Prob I14 from H2': 0, 'Prob I15 from H2': 0, 'Prob I16 from H2': 0, 'Prob I17 from H2': 0, 'Prob I18 from H2': 0, 'Prob I19 from H2': 0, 'Prob I20 from H2': 0, 'Prob I21 from H2': 0, 'Prob I22 from H2': 0, 'Prob I23 from H2': 0, 'Prob I24 from H2': 0, 'Prob I25 from H2': 0, 'Prob I26 from H2': 0, 'Prob I27 from H2': 0, 'Prob I28 from H2': 0, 'Prob I29 from H2': 0}\n",
      "H2\n",
      "{'Prob I0 from I': 0, 'Prob I1 from I': 0, 'Prob I2 from I': 0, 'Prob I3 from I': 0, 'Prob I4 from I': 0, 'Prob I5 from I': 0, 'Prob I6 from I': 0, 'Prob I7 from I': 0, 'Prob I8 from I': 0, 'Prob I9 from I': 0, 'Prob I10 from I': 0, 'Prob I11 from I': 0, 'Prob I12 from I': 0, 'Prob I13 from I': 0, 'Prob I14 from I': 0, 'Prob I15 from I': 0, 'Prob I16 from I': 0, 'Prob I17 from I': 0, 'Prob I18 from I': 0, 'Prob I19 from I': 0, 'Prob I20 from I': 0, 'Prob I21 from I': 0, 'Prob I22 from I': 0, 'Prob I23 from I': 0, 'Prob I24 from I': 0, 'Prob I25 from I': 0, 'Prob I26 from I': 0, 'Prob I27 from I': 0, 'Prob I28 from I': 0, 'Prob I29 from I': 0, 'Prob I0 from H1': 0, 'Prob I1 from H1': 0, 'Prob I2 from H1': 0, 'Prob I3 from H1': 0, 'Prob I4 from H1': 0, 'Prob I5 from H1': 0, 'Prob I6 from H1': 0, 'Prob I7 from H1': 0, 'Prob I8 from H1': 0, 'Prob I9 from H1': 0, 'Prob I10 from H1': 0, 'Prob I11 from H1': 0, 'Prob I12 from H1': 0, 'Prob I13 from H1': 0, 'Prob I14 from H1': 0, 'Prob I15 from H1': 0, 'Prob I16 from H1': 0, 'Prob I17 from H1': 0, 'Prob I18 from H1': 0, 'Prob I19 from H1': 0, 'Prob I20 from H1': 0, 'Prob I21 from H1': 0, 'Prob I22 from H1': 0, 'Prob I23 from H1': 0, 'Prob I24 from H1': 0, 'Prob I25 from H1': 0, 'Prob I26 from H1': 0, 'Prob I27 from H1': 0, 'Prob I28 from H1': 0, 'Prob I29 from H1': 0, 'Prob I0 from H2': 0, 'Prob I1 from H2': 0, 'Prob I2 from H2': 0, 'Prob I3 from H2': 0, 'Prob I4 from H2': 0, 'Prob I5 from H2': 0, 'Prob I6 from H2': 0, 'Prob I7 from H2': 0, 'Prob I8 from H2': 0, 'Prob I9 from H2': 0, 'Prob I10 from H2': 0, 'Prob I11 from H2': 0, 'Prob I12 from H2': 0, 'Prob I13 from H2': 0, 'Prob I14 from H2': 0, 'Prob I15 from H2': 0, 'Prob I16 from H2': 0, 'Prob I17 from H2': 0, 'Prob I18 from H2': 0, 'Prob I19 from H2': 0, 'Prob I20 from H2': 0, 'Prob I21 from H2': 0, 'Prob I22 from H2': 0, 'Prob I23 from H2': 0, 'Prob I24 from H2': 0, 'Prob I25 from H2': 0, 'Prob I26 from H2': 0, 'Prob I27 from H2': 0, 'Prob I28 from H2': 0, 'Prob I29 from H2': 0}\n",
      "H2\n",
      "{'Prob I0 from I': 0, 'Prob I1 from I': 0, 'Prob I2 from I': 0, 'Prob I3 from I': 0, 'Prob I4 from I': 0, 'Prob I5 from I': 0, 'Prob I6 from I': 0, 'Prob I7 from I': 0, 'Prob I8 from I': 0, 'Prob I9 from I': 0, 'Prob I10 from I': 0, 'Prob I11 from I': 0, 'Prob I12 from I': 0, 'Prob I13 from I': 0, 'Prob I14 from I': 0, 'Prob I15 from I': 0, 'Prob I16 from I': 0, 'Prob I17 from I': 0, 'Prob I18 from I': 0, 'Prob I19 from I': 0, 'Prob I20 from I': 0, 'Prob I21 from I': 0, 'Prob I22 from I': 0, 'Prob I23 from I': 0, 'Prob I24 from I': 0, 'Prob I25 from I': 0, 'Prob I26 from I': 0, 'Prob I27 from I': 0, 'Prob I28 from I': 0, 'Prob I29 from I': 0, 'Prob I0 from H1': 0, 'Prob I1 from H1': 0, 'Prob I2 from H1': 0, 'Prob I3 from H1': 0, 'Prob I4 from H1': 0, 'Prob I5 from H1': 0, 'Prob I6 from H1': 0, 'Prob I7 from H1': 0, 'Prob I8 from H1': 0, 'Prob I9 from H1': 0, 'Prob I10 from H1': 0, 'Prob I11 from H1': 0, 'Prob I12 from H1': 0, 'Prob I13 from H1': 0, 'Prob I14 from H1': 0, 'Prob I15 from H1': 0, 'Prob I16 from H1': 0, 'Prob I17 from H1': 0, 'Prob I18 from H1': 0, 'Prob I19 from H1': 0, 'Prob I20 from H1': 0, 'Prob I21 from H1': 0, 'Prob I22 from H1': 0, 'Prob I23 from H1': 0, 'Prob I24 from H1': 0, 'Prob I25 from H1': 0, 'Prob I26 from H1': 0, 'Prob I27 from H1': 0, 'Prob I28 from H1': 0, 'Prob I29 from H1': 0, 'Prob I0 from H2': 0, 'Prob I1 from H2': 0, 'Prob I2 from H2': 0, 'Prob I3 from H2': 0, 'Prob I4 from H2': 0, 'Prob I5 from H2': 0, 'Prob I6 from H2': 0, 'Prob I7 from H2': 0, 'Prob I8 from H2': 0, 'Prob I9 from H2': 0, 'Prob I10 from H2': 0, 'Prob I11 from H2': 0, 'Prob I12 from H2': 0, 'Prob I13 from H2': 0, 'Prob I14 from H2': 0, 'Prob I15 from H2': 0, 'Prob I16 from H2': 0, 'Prob I17 from H2': 0, 'Prob I18 from H2': 0, 'Prob I19 from H2': 0, 'Prob I20 from H2': 0, 'Prob I21 from H2': 0, 'Prob I22 from H2': 0, 'Prob I23 from H2': 0, 'Prob I24 from H2': 0, 'Prob I25 from H2': 0, 'Prob I26 from H2': 0, 'Prob I27 from H2': 0, 'Prob I28 from H2': 0, 'Prob I29 from H2': 0}\n",
      "H2\n",
      "{'Prob I0 from I': 0, 'Prob I1 from I': 0, 'Prob I2 from I': 0, 'Prob I3 from I': 0, 'Prob I4 from I': 0, 'Prob I5 from I': 0, 'Prob I6 from I': 0, 'Prob I7 from I': 0, 'Prob I8 from I': 0, 'Prob I9 from I': 0, 'Prob I10 from I': 0, 'Prob I11 from I': 0, 'Prob I12 from I': 0, 'Prob I13 from I': 0, 'Prob I14 from I': 0, 'Prob I15 from I': 0, 'Prob I16 from I': 0, 'Prob I17 from I': 0, 'Prob I18 from I': 0, 'Prob I19 from I': 0, 'Prob I20 from I': 0, 'Prob I21 from I': 0, 'Prob I22 from I': 0, 'Prob I23 from I': 0, 'Prob I24 from I': 0, 'Prob I25 from I': 0, 'Prob I26 from I': 0, 'Prob I27 from I': 0, 'Prob I28 from I': 0, 'Prob I29 from I': 0, 'Prob I0 from H1': 0, 'Prob I1 from H1': 0, 'Prob I2 from H1': 0, 'Prob I3 from H1': 0, 'Prob I4 from H1': 0, 'Prob I5 from H1': 0, 'Prob I6 from H1': 0, 'Prob I7 from H1': 0, 'Prob I8 from H1': 0, 'Prob I9 from H1': 0, 'Prob I10 from H1': 0, 'Prob I11 from H1': 0, 'Prob I12 from H1': 0, 'Prob I13 from H1': 0, 'Prob I14 from H1': 0, 'Prob I15 from H1': 0, 'Prob I16 from H1': 0, 'Prob I17 from H1': 0, 'Prob I18 from H1': 0, 'Prob I19 from H1': 0, 'Prob I20 from H1': 0, 'Prob I21 from H1': 0, 'Prob I22 from H1': 0, 'Prob I23 from H1': 0, 'Prob I24 from H1': 0, 'Prob I25 from H1': 0, 'Prob I26 from H1': 0, 'Prob I27 from H1': 0, 'Prob I28 from H1': 0, 'Prob I29 from H1': 0, 'Prob I0 from H2': 0, 'Prob I1 from H2': 0, 'Prob I2 from H2': 0, 'Prob I3 from H2': 0, 'Prob I4 from H2': 0, 'Prob I5 from H2': 0, 'Prob I6 from H2': 0, 'Prob I7 from H2': 0, 'Prob I8 from H2': 0, 'Prob I9 from H2': 0, 'Prob I10 from H2': 0, 'Prob I11 from H2': 0, 'Prob I12 from H2': 0, 'Prob I13 from H2': 0, 'Prob I14 from H2': 0, 'Prob I15 from H2': 0, 'Prob I16 from H2': 0, 'Prob I17 from H2': 0, 'Prob I18 from H2': 0, 'Prob I19 from H2': 0, 'Prob I20 from H2': 0, 'Prob I21 from H2': 0, 'Prob I22 from H2': 0, 'Prob I23 from H2': 0, 'Prob I24 from H2': 0, 'Prob I25 from H2': 0, 'Prob I26 from H2': 0, 'Prob I27 from H2': 0, 'Prob I28 from H2': 0, 'Prob I29 from H2': 0}\n",
      "H2\n",
      "{'Prob I0 from I': 0, 'Prob I1 from I': 0, 'Prob I2 from I': 0, 'Prob I3 from I': 0, 'Prob I4 from I': 0, 'Prob I5 from I': 0, 'Prob I6 from I': 0, 'Prob I7 from I': 0, 'Prob I8 from I': 0, 'Prob I9 from I': 0, 'Prob I10 from I': 0, 'Prob I11 from I': 0, 'Prob I12 from I': 0, 'Prob I13 from I': 0, 'Prob I14 from I': 0, 'Prob I15 from I': 0, 'Prob I16 from I': 0, 'Prob I17 from I': 0, 'Prob I18 from I': 0, 'Prob I19 from I': 0, 'Prob I20 from I': 0, 'Prob I21 from I': 0, 'Prob I22 from I': 0, 'Prob I23 from I': 0, 'Prob I24 from I': 0, 'Prob I25 from I': 0, 'Prob I26 from I': 0, 'Prob I27 from I': 0, 'Prob I28 from I': 0, 'Prob I29 from I': 0, 'Prob I0 from H1': 0, 'Prob I1 from H1': 0, 'Prob I2 from H1': 0, 'Prob I3 from H1': 0, 'Prob I4 from H1': 0, 'Prob I5 from H1': 0, 'Prob I6 from H1': 0, 'Prob I7 from H1': 0, 'Prob I8 from H1': 0, 'Prob I9 from H1': 0, 'Prob I10 from H1': 0, 'Prob I11 from H1': 0, 'Prob I12 from H1': 0, 'Prob I13 from H1': 0, 'Prob I14 from H1': 0, 'Prob I15 from H1': 0, 'Prob I16 from H1': 0, 'Prob I17 from H1': 0, 'Prob I18 from H1': 0, 'Prob I19 from H1': 0, 'Prob I20 from H1': 0, 'Prob I21 from H1': 0, 'Prob I22 from H1': 0, 'Prob I23 from H1': 0, 'Prob I24 from H1': 0, 'Prob I25 from H1': 0, 'Prob I26 from H1': 0, 'Prob I27 from H1': 0, 'Prob I28 from H1': 0, 'Prob I29 from H1': 0, 'Prob I0 from H2': 0, 'Prob I1 from H2': 0, 'Prob I2 from H2': 0, 'Prob I3 from H2': 0, 'Prob I4 from H2': 0, 'Prob I5 from H2': 0, 'Prob I6 from H2': 0, 'Prob I7 from H2': 0, 'Prob I8 from H2': 0, 'Prob I9 from H2': 0, 'Prob I10 from H2': 0, 'Prob I11 from H2': 0, 'Prob I12 from H2': 0, 'Prob I13 from H2': 0, 'Prob I14 from H2': 0, 'Prob I15 from H2': 0, 'Prob I16 from H2': 0, 'Prob I17 from H2': 0, 'Prob I18 from H2': 0, 'Prob I19 from H2': 0, 'Prob I20 from H2': 0, 'Prob I21 from H2': 0, 'Prob I22 from H2': 0, 'Prob I23 from H2': 0, 'Prob I24 from H2': 0, 'Prob I25 from H2': 0, 'Prob I26 from H2': 0, 'Prob I27 from H2': 0, 'Prob I28 from H2': 0, 'Prob I29 from H2': 0}\n",
      "H2\n",
      "{'Prob I0 from I': 0, 'Prob I1 from I': 0, 'Prob I2 from I': 0, 'Prob I3 from I': 0, 'Prob I4 from I': 0, 'Prob I5 from I': 0, 'Prob I6 from I': 0, 'Prob I7 from I': 0, 'Prob I8 from I': 0, 'Prob I9 from I': 0, 'Prob I10 from I': 0, 'Prob I11 from I': 0, 'Prob I12 from I': 0, 'Prob I13 from I': 0, 'Prob I14 from I': 0, 'Prob I15 from I': 0, 'Prob I16 from I': 0, 'Prob I17 from I': 0, 'Prob I18 from I': 0, 'Prob I19 from I': 0, 'Prob I20 from I': 0, 'Prob I21 from I': 0, 'Prob I22 from I': 0, 'Prob I23 from I': 0, 'Prob I24 from I': 0, 'Prob I25 from I': 0, 'Prob I26 from I': 0, 'Prob I27 from I': 0, 'Prob I28 from I': 0, 'Prob I29 from I': 0, 'Prob I0 from H1': 0, 'Prob I1 from H1': 0, 'Prob I2 from H1': 0, 'Prob I3 from H1': 0, 'Prob I4 from H1': 0, 'Prob I5 from H1': 0, 'Prob I6 from H1': 0, 'Prob I7 from H1': 0, 'Prob I8 from H1': 0, 'Prob I9 from H1': 0, 'Prob I10 from H1': 0, 'Prob I11 from H1': 0, 'Prob I12 from H1': 0, 'Prob I13 from H1': 0, 'Prob I14 from H1': 0, 'Prob I15 from H1': 0, 'Prob I16 from H1': 0, 'Prob I17 from H1': 0, 'Prob I18 from H1': 0, 'Prob I19 from H1': 0, 'Prob I20 from H1': 0, 'Prob I21 from H1': 0, 'Prob I22 from H1': 0, 'Prob I23 from H1': 0, 'Prob I24 from H1': 0, 'Prob I25 from H1': 0, 'Prob I26 from H1': 0, 'Prob I27 from H1': 0, 'Prob I28 from H1': 0, 'Prob I29 from H1': 0, 'Prob I0 from H2': 0, 'Prob I1 from H2': 0, 'Prob I2 from H2': 0, 'Prob I3 from H2': 0, 'Prob I4 from H2': 0, 'Prob I5 from H2': 0, 'Prob I6 from H2': 0, 'Prob I7 from H2': 0, 'Prob I8 from H2': 0, 'Prob I9 from H2': 0, 'Prob I10 from H2': 0, 'Prob I11 from H2': 0, 'Prob I12 from H2': 0, 'Prob I13 from H2': 0, 'Prob I14 from H2': 0, 'Prob I15 from H2': 0, 'Prob I16 from H2': 0, 'Prob I17 from H2': 0, 'Prob I18 from H2': 0, 'Prob I19 from H2': 0, 'Prob I20 from H2': 0, 'Prob I21 from H2': 0, 'Prob I22 from H2': 0, 'Prob I23 from H2': 0, 'Prob I24 from H2': 0, 'Prob I25 from H2': 0, 'Prob I26 from H2': 0, 'Prob I27 from H2': 0, 'Prob I28 from H2': 0, 'Prob I29 from H2': 0}\n",
      "H2\n",
      "{'Prob I0 from I': 0, 'Prob I1 from I': 0, 'Prob I2 from I': 0, 'Prob I3 from I': 0, 'Prob I4 from I': 0, 'Prob I5 from I': 0, 'Prob I6 from I': 0, 'Prob I7 from I': 0, 'Prob I8 from I': 0, 'Prob I9 from I': 0, 'Prob I10 from I': 0, 'Prob I11 from I': 0, 'Prob I12 from I': 0, 'Prob I13 from I': 0, 'Prob I14 from I': 0, 'Prob I15 from I': 0, 'Prob I16 from I': 0, 'Prob I17 from I': 0, 'Prob I18 from I': 0, 'Prob I19 from I': 0, 'Prob I20 from I': 0, 'Prob I21 from I': 0, 'Prob I22 from I': 0, 'Prob I23 from I': 0, 'Prob I24 from I': 0, 'Prob I25 from I': 0, 'Prob I26 from I': 0, 'Prob I27 from I': 0, 'Prob I28 from I': 0, 'Prob I29 from I': 0, 'Prob I0 from H1': 0, 'Prob I1 from H1': 0, 'Prob I2 from H1': 0, 'Prob I3 from H1': 0, 'Prob I4 from H1': 0, 'Prob I5 from H1': 0, 'Prob I6 from H1': 0, 'Prob I7 from H1': 0, 'Prob I8 from H1': 0, 'Prob I9 from H1': 0, 'Prob I10 from H1': 0, 'Prob I11 from H1': 0, 'Prob I12 from H1': 0, 'Prob I13 from H1': 0, 'Prob I14 from H1': 0, 'Prob I15 from H1': 0, 'Prob I16 from H1': 0, 'Prob I17 from H1': 0, 'Prob I18 from H1': 0, 'Prob I19 from H1': 0, 'Prob I20 from H1': 0, 'Prob I21 from H1': 0, 'Prob I22 from H1': 0, 'Prob I23 from H1': 0, 'Prob I24 from H1': 0, 'Prob I25 from H1': 0, 'Prob I26 from H1': 0, 'Prob I27 from H1': 0, 'Prob I28 from H1': 0, 'Prob I29 from H1': 0, 'Prob I0 from H2': 0, 'Prob I1 from H2': 0, 'Prob I2 from H2': 0, 'Prob I3 from H2': 0, 'Prob I4 from H2': 0, 'Prob I5 from H2': 0, 'Prob I6 from H2': 0, 'Prob I7 from H2': 0, 'Prob I8 from H2': 0, 'Prob I9 from H2': 0, 'Prob I10 from H2': 0, 'Prob I11 from H2': 0, 'Prob I12 from H2': 0, 'Prob I13 from H2': 0, 'Prob I14 from H2': 0, 'Prob I15 from H2': 0, 'Prob I16 from H2': 0, 'Prob I17 from H2': 0, 'Prob I18 from H2': 0, 'Prob I19 from H2': 0, 'Prob I20 from H2': 0, 'Prob I21 from H2': 0, 'Prob I22 from H2': 0, 'Prob I23 from H2': 0, 'Prob I24 from H2': 0, 'Prob I25 from H2': 0, 'Prob I26 from H2': 0, 'Prob I27 from H2': 0, 'Prob I28 from H2': 0, 'Prob I29 from H2': 0}\n",
      "H2\n",
      "{'Prob I0 from I': 0, 'Prob I1 from I': 0, 'Prob I2 from I': 0, 'Prob I3 from I': 0, 'Prob I4 from I': 0, 'Prob I5 from I': 0, 'Prob I6 from I': 0, 'Prob I7 from I': 0, 'Prob I8 from I': 0, 'Prob I9 from I': 0, 'Prob I10 from I': 0, 'Prob I11 from I': 0, 'Prob I12 from I': 0, 'Prob I13 from I': 0, 'Prob I14 from I': 0, 'Prob I15 from I': 0, 'Prob I16 from I': 0, 'Prob I17 from I': 0, 'Prob I18 from I': 0, 'Prob I19 from I': 0, 'Prob I20 from I': 0, 'Prob I21 from I': 0, 'Prob I22 from I': 0, 'Prob I23 from I': 0, 'Prob I24 from I': 0, 'Prob I25 from I': 0, 'Prob I26 from I': 0, 'Prob I27 from I': 0, 'Prob I28 from I': 0, 'Prob I29 from I': 0, 'Prob I0 from H1': 0, 'Prob I1 from H1': 0, 'Prob I2 from H1': 0, 'Prob I3 from H1': 0, 'Prob I4 from H1': 0, 'Prob I5 from H1': 0, 'Prob I6 from H1': 0, 'Prob I7 from H1': 0, 'Prob I8 from H1': 0, 'Prob I9 from H1': 0, 'Prob I10 from H1': 0, 'Prob I11 from H1': 0, 'Prob I12 from H1': 0, 'Prob I13 from H1': 0, 'Prob I14 from H1': 0, 'Prob I15 from H1': 0, 'Prob I16 from H1': 0, 'Prob I17 from H1': 0, 'Prob I18 from H1': 0, 'Prob I19 from H1': 0, 'Prob I20 from H1': 0, 'Prob I21 from H1': 0, 'Prob I22 from H1': 0, 'Prob I23 from H1': 0, 'Prob I24 from H1': 0, 'Prob I25 from H1': 0, 'Prob I26 from H1': 0, 'Prob I27 from H1': 0, 'Prob I28 from H1': 0, 'Prob I29 from H1': 0, 'Prob I0 from H2': 0, 'Prob I1 from H2': 0, 'Prob I2 from H2': 0, 'Prob I3 from H2': 0, 'Prob I4 from H2': 0, 'Prob I5 from H2': 0, 'Prob I6 from H2': 0, 'Prob I7 from H2': 0, 'Prob I8 from H2': 0, 'Prob I9 from H2': 0, 'Prob I10 from H2': 0, 'Prob I11 from H2': 0, 'Prob I12 from H2': 0, 'Prob I13 from H2': 0, 'Prob I14 from H2': 0, 'Prob I15 from H2': 0, 'Prob I16 from H2': 0, 'Prob I17 from H2': 0, 'Prob I18 from H2': 0, 'Prob I19 from H2': 0, 'Prob I20 from H2': 0, 'Prob I21 from H2': 0, 'Prob I22 from H2': 0, 'Prob I23 from H2': 0, 'Prob I24 from H2': 0, 'Prob I25 from H2': 0, 'Prob I26 from H2': 0, 'Prob I27 from H2': 0, 'Prob I28 from H2': 0, 'Prob I29 from H2': 0}\n",
      "H2\n",
      "{'Prob I0 from I': 0, 'Prob I1 from I': 0, 'Prob I2 from I': 0, 'Prob I3 from I': 0, 'Prob I4 from I': 0, 'Prob I5 from I': 0, 'Prob I6 from I': 0, 'Prob I7 from I': 0, 'Prob I8 from I': 0, 'Prob I9 from I': 0, 'Prob I10 from I': 0, 'Prob I11 from I': 0, 'Prob I12 from I': 0, 'Prob I13 from I': 0, 'Prob I14 from I': 0, 'Prob I15 from I': 0, 'Prob I16 from I': 0, 'Prob I17 from I': 0, 'Prob I18 from I': 0, 'Prob I19 from I': 0, 'Prob I20 from I': 0, 'Prob I21 from I': 0, 'Prob I22 from I': 0, 'Prob I23 from I': 0, 'Prob I24 from I': 0, 'Prob I25 from I': 0, 'Prob I26 from I': 0, 'Prob I27 from I': 0, 'Prob I28 from I': 0, 'Prob I29 from I': 0, 'Prob I0 from H1': 0, 'Prob I1 from H1': 0, 'Prob I2 from H1': 0, 'Prob I3 from H1': 0, 'Prob I4 from H1': 0, 'Prob I5 from H1': 0, 'Prob I6 from H1': 0, 'Prob I7 from H1': 0, 'Prob I8 from H1': 0, 'Prob I9 from H1': 0, 'Prob I10 from H1': 0, 'Prob I11 from H1': 0, 'Prob I12 from H1': 0, 'Prob I13 from H1': 0, 'Prob I14 from H1': 0, 'Prob I15 from H1': 0, 'Prob I16 from H1': 0, 'Prob I17 from H1': 0, 'Prob I18 from H1': 0, 'Prob I19 from H1': 0, 'Prob I20 from H1': 0, 'Prob I21 from H1': 0, 'Prob I22 from H1': 0, 'Prob I23 from H1': 0, 'Prob I24 from H1': 0, 'Prob I25 from H1': 0, 'Prob I26 from H1': 0, 'Prob I27 from H1': 0, 'Prob I28 from H1': 0, 'Prob I29 from H1': 0, 'Prob I0 from H2': 0, 'Prob I1 from H2': 0, 'Prob I2 from H2': 0, 'Prob I3 from H2': 0, 'Prob I4 from H2': 0, 'Prob I5 from H2': 0, 'Prob I6 from H2': 0, 'Prob I7 from H2': 0, 'Prob I8 from H2': 0, 'Prob I9 from H2': 0, 'Prob I10 from H2': 0, 'Prob I11 from H2': 0, 'Prob I12 from H2': 0, 'Prob I13 from H2': 0, 'Prob I14 from H2': 0, 'Prob I15 from H2': 0, 'Prob I16 from H2': 0, 'Prob I17 from H2': 0, 'Prob I18 from H2': 0, 'Prob I19 from H2': 0, 'Prob I20 from H2': 0, 'Prob I21 from H2': 0, 'Prob I22 from H2': 0, 'Prob I23 from H2': 0, 'Prob I24 from H2': 0, 'Prob I25 from H2': 0, 'Prob I26 from H2': 0, 'Prob I27 from H2': 0, 'Prob I28 from H2': 0, 'Prob I29 from H2': 0}\n",
      "H2\n",
      "{'Prob I0 from I': 0, 'Prob I1 from I': 0, 'Prob I2 from I': 0, 'Prob I3 from I': 0, 'Prob I4 from I': 0, 'Prob I5 from I': 0, 'Prob I6 from I': 0, 'Prob I7 from I': 0, 'Prob I8 from I': 0, 'Prob I9 from I': 0, 'Prob I10 from I': 0, 'Prob I11 from I': 0, 'Prob I12 from I': 0, 'Prob I13 from I': 0, 'Prob I14 from I': 0, 'Prob I15 from I': 0, 'Prob I16 from I': 0, 'Prob I17 from I': 0, 'Prob I18 from I': 0, 'Prob I19 from I': 0, 'Prob I20 from I': 0, 'Prob I21 from I': 0, 'Prob I22 from I': 0, 'Prob I23 from I': 0, 'Prob I24 from I': 0, 'Prob I25 from I': 0, 'Prob I26 from I': 0, 'Prob I27 from I': 0, 'Prob I28 from I': 0, 'Prob I29 from I': 0, 'Prob I0 from H1': 0, 'Prob I1 from H1': 0, 'Prob I2 from H1': 0, 'Prob I3 from H1': 0, 'Prob I4 from H1': 0, 'Prob I5 from H1': 0, 'Prob I6 from H1': 0, 'Prob I7 from H1': 0, 'Prob I8 from H1': 0, 'Prob I9 from H1': 0, 'Prob I10 from H1': 0, 'Prob I11 from H1': 0, 'Prob I12 from H1': 0, 'Prob I13 from H1': 0, 'Prob I14 from H1': 0, 'Prob I15 from H1': 0, 'Prob I16 from H1': 0, 'Prob I17 from H1': 0, 'Prob I18 from H1': 0, 'Prob I19 from H1': 0, 'Prob I20 from H1': 0, 'Prob I21 from H1': 0, 'Prob I22 from H1': 0, 'Prob I23 from H1': 0, 'Prob I24 from H1': 0, 'Prob I25 from H1': 0, 'Prob I26 from H1': 0, 'Prob I27 from H1': 0, 'Prob I28 from H1': 0, 'Prob I29 from H1': 0, 'Prob I0 from H2': 0, 'Prob I1 from H2': 0, 'Prob I2 from H2': 0, 'Prob I3 from H2': 0, 'Prob I4 from H2': 0, 'Prob I5 from H2': 0, 'Prob I6 from H2': 0, 'Prob I7 from H2': 0, 'Prob I8 from H2': 0, 'Prob I9 from H2': 0, 'Prob I10 from H2': 0, 'Prob I11 from H2': 0, 'Prob I12 from H2': 0, 'Prob I13 from H2': 0, 'Prob I14 from H2': 0, 'Prob I15 from H2': 0, 'Prob I16 from H2': 0, 'Prob I17 from H2': 0, 'Prob I18 from H2': 0, 'Prob I19 from H2': 0, 'Prob I20 from H2': 0, 'Prob I21 from H2': 0, 'Prob I22 from H2': 0, 'Prob I23 from H2': 0, 'Prob I24 from H2': 0, 'Prob I25 from H2': 0, 'Prob I26 from H2': 0, 'Prob I27 from H2': 0, 'Prob I28 from H2': 0, 'Prob I29 from H2': 0}\n",
      "H2\n",
      "{'Prob I0 from I': 0, 'Prob I1 from I': 0, 'Prob I2 from I': 0, 'Prob I3 from I': 0, 'Prob I4 from I': 0, 'Prob I5 from I': 0, 'Prob I6 from I': 0, 'Prob I7 from I': 0, 'Prob I8 from I': 0, 'Prob I9 from I': 0, 'Prob I10 from I': 0, 'Prob I11 from I': 0, 'Prob I12 from I': 0, 'Prob I13 from I': 0, 'Prob I14 from I': 0, 'Prob I15 from I': 0, 'Prob I16 from I': 0, 'Prob I17 from I': 0, 'Prob I18 from I': 0, 'Prob I19 from I': 0, 'Prob I20 from I': 0, 'Prob I21 from I': 0, 'Prob I22 from I': 0, 'Prob I23 from I': 0, 'Prob I24 from I': 0, 'Prob I25 from I': 0, 'Prob I26 from I': 0, 'Prob I27 from I': 0, 'Prob I28 from I': 0, 'Prob I29 from I': 0, 'Prob I0 from H1': 0, 'Prob I1 from H1': 0, 'Prob I2 from H1': 0, 'Prob I3 from H1': 0, 'Prob I4 from H1': 0, 'Prob I5 from H1': 0, 'Prob I6 from H1': 0, 'Prob I7 from H1': 0, 'Prob I8 from H1': 0, 'Prob I9 from H1': 0, 'Prob I10 from H1': 0, 'Prob I11 from H1': 0, 'Prob I12 from H1': 0, 'Prob I13 from H1': 0, 'Prob I14 from H1': 0, 'Prob I15 from H1': 0, 'Prob I16 from H1': 0, 'Prob I17 from H1': 0, 'Prob I18 from H1': 0, 'Prob I19 from H1': 0, 'Prob I20 from H1': 0, 'Prob I21 from H1': 0, 'Prob I22 from H1': 0, 'Prob I23 from H1': 0, 'Prob I24 from H1': 0, 'Prob I25 from H1': 0, 'Prob I26 from H1': 0, 'Prob I27 from H1': 0, 'Prob I28 from H1': 0, 'Prob I29 from H1': 0, 'Prob I0 from H2': 0, 'Prob I1 from H2': 0, 'Prob I2 from H2': 0, 'Prob I3 from H2': 0, 'Prob I4 from H2': 0, 'Prob I5 from H2': 0, 'Prob I6 from H2': 0, 'Prob I7 from H2': 0, 'Prob I8 from H2': 0, 'Prob I9 from H2': 0, 'Prob I10 from H2': 0, 'Prob I11 from H2': 0, 'Prob I12 from H2': 0, 'Prob I13 from H2': 0, 'Prob I14 from H2': 0, 'Prob I15 from H2': 0, 'Prob I16 from H2': 0, 'Prob I17 from H2': 0, 'Prob I18 from H2': 0, 'Prob I19 from H2': 0, 'Prob I20 from H2': 0, 'Prob I21 from H2': 0, 'Prob I22 from H2': 0, 'Prob I23 from H2': 0, 'Prob I24 from H2': 0, 'Prob I25 from H2': 0, 'Prob I26 from H2': 0, 'Prob I27 from H2': 0, 'Prob I28 from H2': 0, 'Prob I29 from H2': 0}\n",
      "H2\n",
      "{'Prob I0 from I': 0, 'Prob I1 from I': 0, 'Prob I2 from I': 0, 'Prob I3 from I': 0, 'Prob I4 from I': 0, 'Prob I5 from I': 0, 'Prob I6 from I': 0, 'Prob I7 from I': 0, 'Prob I8 from I': 0, 'Prob I9 from I': 0, 'Prob I10 from I': 0, 'Prob I11 from I': 0, 'Prob I12 from I': 0, 'Prob I13 from I': 0, 'Prob I14 from I': 0, 'Prob I15 from I': 0, 'Prob I16 from I': 0, 'Prob I17 from I': 0, 'Prob I18 from I': 0, 'Prob I19 from I': 0, 'Prob I20 from I': 0, 'Prob I21 from I': 0, 'Prob I22 from I': 0, 'Prob I23 from I': 0, 'Prob I24 from I': 0, 'Prob I25 from I': 0, 'Prob I26 from I': 0, 'Prob I27 from I': 0, 'Prob I28 from I': 0, 'Prob I29 from I': 0, 'Prob I0 from H1': 0, 'Prob I1 from H1': 0, 'Prob I2 from H1': 0, 'Prob I3 from H1': 0, 'Prob I4 from H1': 0, 'Prob I5 from H1': 0, 'Prob I6 from H1': 0, 'Prob I7 from H1': 0, 'Prob I8 from H1': 0, 'Prob I9 from H1': 0, 'Prob I10 from H1': 0, 'Prob I11 from H1': 0, 'Prob I12 from H1': 0, 'Prob I13 from H1': 0, 'Prob I14 from H1': 0, 'Prob I15 from H1': 0, 'Prob I16 from H1': 0, 'Prob I17 from H1': 0, 'Prob I18 from H1': 0, 'Prob I19 from H1': 0, 'Prob I20 from H1': 0, 'Prob I21 from H1': 0, 'Prob I22 from H1': 0, 'Prob I23 from H1': 0, 'Prob I24 from H1': 0, 'Prob I25 from H1': 0, 'Prob I26 from H1': 0, 'Prob I27 from H1': 0, 'Prob I28 from H1': 0, 'Prob I29 from H1': 0, 'Prob I0 from H2': 0, 'Prob I1 from H2': 0, 'Prob I2 from H2': 0, 'Prob I3 from H2': 0, 'Prob I4 from H2': 0, 'Prob I5 from H2': 0, 'Prob I6 from H2': 0, 'Prob I7 from H2': 0, 'Prob I8 from H2': 0, 'Prob I9 from H2': 0, 'Prob I10 from H2': 0, 'Prob I11 from H2': 0, 'Prob I12 from H2': 0, 'Prob I13 from H2': 0, 'Prob I14 from H2': 0, 'Prob I15 from H2': 0, 'Prob I16 from H2': 0, 'Prob I17 from H2': 0, 'Prob I18 from H2': 0, 'Prob I19 from H2': 0, 'Prob I20 from H2': 0, 'Prob I21 from H2': 0, 'Prob I22 from H2': 0, 'Prob I23 from H2': 0, 'Prob I24 from H2': 0, 'Prob I25 from H2': 0, 'Prob I26 from H2': 0, 'Prob I27 from H2': 0, 'Prob I28 from H2': 0, 'Prob I29 from H2': 0}\n",
      "H2\n",
      "{'Prob I0 from I': 0, 'Prob I1 from I': 0, 'Prob I2 from I': 0, 'Prob I3 from I': 0, 'Prob I4 from I': 0, 'Prob I5 from I': 0, 'Prob I6 from I': 0, 'Prob I7 from I': 0, 'Prob I8 from I': 0, 'Prob I9 from I': 0, 'Prob I10 from I': 0, 'Prob I11 from I': 0, 'Prob I12 from I': 0, 'Prob I13 from I': 0, 'Prob I14 from I': 0, 'Prob I15 from I': 0, 'Prob I16 from I': 0, 'Prob I17 from I': 0, 'Prob I18 from I': 0, 'Prob I19 from I': 0, 'Prob I20 from I': 0, 'Prob I21 from I': 0, 'Prob I22 from I': 0, 'Prob I23 from I': 0, 'Prob I24 from I': 0, 'Prob I25 from I': 0, 'Prob I26 from I': 0, 'Prob I27 from I': 0, 'Prob I28 from I': 0, 'Prob I29 from I': 0, 'Prob I0 from H1': 0, 'Prob I1 from H1': 0, 'Prob I2 from H1': 0, 'Prob I3 from H1': 0, 'Prob I4 from H1': 0, 'Prob I5 from H1': 0, 'Prob I6 from H1': 0, 'Prob I7 from H1': 0, 'Prob I8 from H1': 0, 'Prob I9 from H1': 0, 'Prob I10 from H1': 0, 'Prob I11 from H1': 0, 'Prob I12 from H1': 0, 'Prob I13 from H1': 0, 'Prob I14 from H1': 0, 'Prob I15 from H1': 0, 'Prob I16 from H1': 0, 'Prob I17 from H1': 0, 'Prob I18 from H1': 0, 'Prob I19 from H1': 0, 'Prob I20 from H1': 0, 'Prob I21 from H1': 0, 'Prob I22 from H1': 0, 'Prob I23 from H1': 0, 'Prob I24 from H1': 0, 'Prob I25 from H1': 0, 'Prob I26 from H1': 0, 'Prob I27 from H1': 0, 'Prob I28 from H1': 0, 'Prob I29 from H1': 0, 'Prob I0 from H2': 0, 'Prob I1 from H2': 0, 'Prob I2 from H2': 0, 'Prob I3 from H2': 0, 'Prob I4 from H2': 0, 'Prob I5 from H2': 0, 'Prob I6 from H2': 0, 'Prob I7 from H2': 0, 'Prob I8 from H2': 0, 'Prob I9 from H2': 0, 'Prob I10 from H2': 0, 'Prob I11 from H2': 0, 'Prob I12 from H2': 0, 'Prob I13 from H2': 0, 'Prob I14 from H2': 0, 'Prob I15 from H2': 0, 'Prob I16 from H2': 0, 'Prob I17 from H2': 0, 'Prob I18 from H2': 0, 'Prob I19 from H2': 0, 'Prob I20 from H2': 0, 'Prob I21 from H2': 0, 'Prob I22 from H2': 0, 'Prob I23 from H2': 0, 'Prob I24 from H2': 0, 'Prob I25 from H2': 0, 'Prob I26 from H2': 0, 'Prob I27 from H2': 0, 'Prob I28 from H2': 0, 'Prob I29 from H2': 0}\n",
      "H2\n",
      "{'Prob I0 from I': 0, 'Prob I1 from I': 0, 'Prob I2 from I': 0, 'Prob I3 from I': 0, 'Prob I4 from I': 0, 'Prob I5 from I': 0, 'Prob I6 from I': 0, 'Prob I7 from I': 0, 'Prob I8 from I': 0, 'Prob I9 from I': 0, 'Prob I10 from I': 0, 'Prob I11 from I': 0, 'Prob I12 from I': 0, 'Prob I13 from I': 0, 'Prob I14 from I': 0, 'Prob I15 from I': 0, 'Prob I16 from I': 0, 'Prob I17 from I': 0, 'Prob I18 from I': 0, 'Prob I19 from I': 0, 'Prob I20 from I': 0, 'Prob I21 from I': 0, 'Prob I22 from I': 0, 'Prob I23 from I': 0, 'Prob I24 from I': 0, 'Prob I25 from I': 0, 'Prob I26 from I': 0, 'Prob I27 from I': 0, 'Prob I28 from I': 0, 'Prob I29 from I': 0, 'Prob I0 from H1': 0, 'Prob I1 from H1': 0, 'Prob I2 from H1': 0, 'Prob I3 from H1': 0, 'Prob I4 from H1': 0, 'Prob I5 from H1': 0, 'Prob I6 from H1': 0, 'Prob I7 from H1': 0, 'Prob I8 from H1': 0, 'Prob I9 from H1': 0, 'Prob I10 from H1': 0, 'Prob I11 from H1': 0, 'Prob I12 from H1': 0, 'Prob I13 from H1': 0, 'Prob I14 from H1': 0, 'Prob I15 from H1': 0, 'Prob I16 from H1': 0, 'Prob I17 from H1': 0, 'Prob I18 from H1': 0, 'Prob I19 from H1': 0, 'Prob I20 from H1': 0, 'Prob I21 from H1': 0, 'Prob I22 from H1': 0, 'Prob I23 from H1': 0, 'Prob I24 from H1': 0, 'Prob I25 from H1': 0, 'Prob I26 from H1': 0, 'Prob I27 from H1': 0, 'Prob I28 from H1': 0, 'Prob I29 from H1': 0, 'Prob I0 from H2': 0, 'Prob I1 from H2': 0, 'Prob I2 from H2': 0, 'Prob I3 from H2': 0, 'Prob I4 from H2': 0, 'Prob I5 from H2': 0, 'Prob I6 from H2': 0, 'Prob I7 from H2': 0, 'Prob I8 from H2': 0, 'Prob I9 from H2': 0, 'Prob I10 from H2': 0, 'Prob I11 from H2': 0, 'Prob I12 from H2': 0, 'Prob I13 from H2': 0, 'Prob I14 from H2': 0, 'Prob I15 from H2': 0, 'Prob I16 from H2': 0, 'Prob I17 from H2': 0, 'Prob I18 from H2': 0, 'Prob I19 from H2': 0, 'Prob I20 from H2': 0, 'Prob I21 from H2': 0, 'Prob I22 from H2': 0, 'Prob I23 from H2': 0, 'Prob I24 from H2': 0, 'Prob I25 from H2': 0, 'Prob I26 from H2': 0, 'Prob I27 from H2': 0, 'Prob I28 from H2': 0, 'Prob I29 from H2': 0}\n",
      "H2\n",
      "{'Prob I0 from I': 0, 'Prob I1 from I': 0, 'Prob I2 from I': 0, 'Prob I3 from I': 0, 'Prob I4 from I': 0, 'Prob I5 from I': 0, 'Prob I6 from I': 0, 'Prob I7 from I': 0, 'Prob I8 from I': 0, 'Prob I9 from I': 0, 'Prob I10 from I': 0, 'Prob I11 from I': 0, 'Prob I12 from I': 0, 'Prob I13 from I': 0, 'Prob I14 from I': 0, 'Prob I15 from I': 0, 'Prob I16 from I': 0, 'Prob I17 from I': 0, 'Prob I18 from I': 0, 'Prob I19 from I': 0, 'Prob I20 from I': 0, 'Prob I21 from I': 0, 'Prob I22 from I': 0, 'Prob I23 from I': 0, 'Prob I24 from I': 0, 'Prob I25 from I': 0, 'Prob I26 from I': 0, 'Prob I27 from I': 0, 'Prob I28 from I': 0, 'Prob I29 from I': 0, 'Prob I0 from H1': 0, 'Prob I1 from H1': 0, 'Prob I2 from H1': 0, 'Prob I3 from H1': 0, 'Prob I4 from H1': 0, 'Prob I5 from H1': 0, 'Prob I6 from H1': 0, 'Prob I7 from H1': 0, 'Prob I8 from H1': 0, 'Prob I9 from H1': 0, 'Prob I10 from H1': 0, 'Prob I11 from H1': 0, 'Prob I12 from H1': 0, 'Prob I13 from H1': 0, 'Prob I14 from H1': 0, 'Prob I15 from H1': 0, 'Prob I16 from H1': 0, 'Prob I17 from H1': 0, 'Prob I18 from H1': 0, 'Prob I19 from H1': 0, 'Prob I20 from H1': 0, 'Prob I21 from H1': 0, 'Prob I22 from H1': 0, 'Prob I23 from H1': 0, 'Prob I24 from H1': 0, 'Prob I25 from H1': 0, 'Prob I26 from H1': 0, 'Prob I27 from H1': 0, 'Prob I28 from H1': 0, 'Prob I29 from H1': 0, 'Prob I0 from H2': 0, 'Prob I1 from H2': 0, 'Prob I2 from H2': 0, 'Prob I3 from H2': 0, 'Prob I4 from H2': 0, 'Prob I5 from H2': 0, 'Prob I6 from H2': 0, 'Prob I7 from H2': 0, 'Prob I8 from H2': 0, 'Prob I9 from H2': 0, 'Prob I10 from H2': 0, 'Prob I11 from H2': 0, 'Prob I12 from H2': 0, 'Prob I13 from H2': 0, 'Prob I14 from H2': 0, 'Prob I15 from H2': 0, 'Prob I16 from H2': 0, 'Prob I17 from H2': 0, 'Prob I18 from H2': 0, 'Prob I19 from H2': 0, 'Prob I20 from H2': 0, 'Prob I21 from H2': 0, 'Prob I22 from H2': 0, 'Prob I23 from H2': 0, 'Prob I24 from H2': 0, 'Prob I25 from H2': 0, 'Prob I26 from H2': 0, 'Prob I27 from H2': 0, 'Prob I28 from H2': 0, 'Prob I29 from H2': 0}\n",
      "H2\n",
      "{'Prob I0 from I': 0, 'Prob I1 from I': 0, 'Prob I2 from I': 0, 'Prob I3 from I': 0, 'Prob I4 from I': 0, 'Prob I5 from I': 0, 'Prob I6 from I': 0, 'Prob I7 from I': 0, 'Prob I8 from I': 0, 'Prob I9 from I': 0, 'Prob I10 from I': 0, 'Prob I11 from I': 0, 'Prob I12 from I': 0, 'Prob I13 from I': 0, 'Prob I14 from I': 0, 'Prob I15 from I': 0, 'Prob I16 from I': 0, 'Prob I17 from I': 0, 'Prob I18 from I': 0, 'Prob I19 from I': 0, 'Prob I20 from I': 0, 'Prob I21 from I': 0, 'Prob I22 from I': 0, 'Prob I23 from I': 0, 'Prob I24 from I': 0, 'Prob I25 from I': 0, 'Prob I26 from I': 0, 'Prob I27 from I': 0, 'Prob I28 from I': 0, 'Prob I29 from I': 0, 'Prob I0 from H1': 0, 'Prob I1 from H1': 0, 'Prob I2 from H1': 0, 'Prob I3 from H1': 0, 'Prob I4 from H1': 0, 'Prob I5 from H1': 0, 'Prob I6 from H1': 0, 'Prob I7 from H1': 0, 'Prob I8 from H1': 0, 'Prob I9 from H1': 0, 'Prob I10 from H1': 0, 'Prob I11 from H1': 0, 'Prob I12 from H1': 0, 'Prob I13 from H1': 0, 'Prob I14 from H1': 0, 'Prob I15 from H1': 0, 'Prob I16 from H1': 0, 'Prob I17 from H1': 0, 'Prob I18 from H1': 0, 'Prob I19 from H1': 0, 'Prob I20 from H1': 0, 'Prob I21 from H1': 0, 'Prob I22 from H1': 0, 'Prob I23 from H1': 0, 'Prob I24 from H1': 0, 'Prob I25 from H1': 0, 'Prob I26 from H1': 0, 'Prob I27 from H1': 0, 'Prob I28 from H1': 0, 'Prob I29 from H1': 0, 'Prob I0 from H2': 0, 'Prob I1 from H2': 0, 'Prob I2 from H2': 0, 'Prob I3 from H2': 0, 'Prob I4 from H2': 0, 'Prob I5 from H2': 0, 'Prob I6 from H2': 0, 'Prob I7 from H2': 0, 'Prob I8 from H2': 0, 'Prob I9 from H2': 0, 'Prob I10 from H2': 0, 'Prob I11 from H2': 0, 'Prob I12 from H2': 0, 'Prob I13 from H2': 0, 'Prob I14 from H2': 0, 'Prob I15 from H2': 0, 'Prob I16 from H2': 0, 'Prob I17 from H2': 0, 'Prob I18 from H2': 0, 'Prob I19 from H2': 0, 'Prob I20 from H2': 0, 'Prob I21 from H2': 0, 'Prob I22 from H2': 0, 'Prob I23 from H2': 0, 'Prob I24 from H2': 0, 'Prob I25 from H2': 0, 'Prob I26 from H2': 0, 'Prob I27 from H2': 0, 'Prob I28 from H2': 0, 'Prob I29 from H2': 0}\n",
      "H2\n",
      "{'Prob I0 from I': 0, 'Prob I1 from I': 0, 'Prob I2 from I': 0, 'Prob I3 from I': 0, 'Prob I4 from I': 0, 'Prob I5 from I': 0, 'Prob I6 from I': 0, 'Prob I7 from I': 0, 'Prob I8 from I': 0, 'Prob I9 from I': 0, 'Prob I10 from I': 0, 'Prob I11 from I': 0, 'Prob I12 from I': 0, 'Prob I13 from I': 0, 'Prob I14 from I': 0, 'Prob I15 from I': 0, 'Prob I16 from I': 0, 'Prob I17 from I': 0, 'Prob I18 from I': 0, 'Prob I19 from I': 0, 'Prob I20 from I': 0, 'Prob I21 from I': 0, 'Prob I22 from I': 0, 'Prob I23 from I': 0, 'Prob I24 from I': 0, 'Prob I25 from I': 0, 'Prob I26 from I': 0, 'Prob I27 from I': 0, 'Prob I28 from I': 0, 'Prob I29 from I': 0, 'Prob I0 from H1': 0, 'Prob I1 from H1': 0, 'Prob I2 from H1': 0, 'Prob I3 from H1': 0, 'Prob I4 from H1': 0, 'Prob I5 from H1': 0, 'Prob I6 from H1': 0, 'Prob I7 from H1': 0, 'Prob I8 from H1': 0, 'Prob I9 from H1': 0, 'Prob I10 from H1': 0, 'Prob I11 from H1': 0, 'Prob I12 from H1': 0, 'Prob I13 from H1': 0, 'Prob I14 from H1': 0, 'Prob I15 from H1': 0, 'Prob I16 from H1': 0, 'Prob I17 from H1': 0, 'Prob I18 from H1': 0, 'Prob I19 from H1': 0, 'Prob I20 from H1': 0, 'Prob I21 from H1': 0, 'Prob I22 from H1': 0, 'Prob I23 from H1': 0, 'Prob I24 from H1': 0, 'Prob I25 from H1': 0, 'Prob I26 from H1': 0, 'Prob I27 from H1': 0, 'Prob I28 from H1': 0, 'Prob I29 from H1': 0, 'Prob I0 from H2': 0, 'Prob I1 from H2': 0, 'Prob I2 from H2': 0, 'Prob I3 from H2': 0, 'Prob I4 from H2': 0, 'Prob I5 from H2': 0, 'Prob I6 from H2': 0, 'Prob I7 from H2': 0, 'Prob I8 from H2': 0, 'Prob I9 from H2': 0, 'Prob I10 from H2': 0, 'Prob I11 from H2': 0, 'Prob I12 from H2': 0, 'Prob I13 from H2': 0, 'Prob I14 from H2': 0, 'Prob I15 from H2': 0, 'Prob I16 from H2': 0, 'Prob I17 from H2': 0, 'Prob I18 from H2': 0, 'Prob I19 from H2': 0, 'Prob I20 from H2': 0, 'Prob I21 from H2': 0, 'Prob I22 from H2': 0, 'Prob I23 from H2': 0, 'Prob I24 from H2': 0, 'Prob I25 from H2': 0, 'Prob I26 from H2': 0, 'Prob I27 from H2': 0, 'Prob I28 from H2': 0, 'Prob I29 from H2': 0}\n",
      "H2\n"
     ]
    }
   ],
   "source": [
    "# importlib.reload(pf)\n",
    "for i in range(10):\n",
    "    net = torch.load(f\"trained_nets/wbc/lrt/net{i}\", map_location=torch.device('cpu'))\n",
    "    pf.save_metrics(net, path=f\"results/wbc/lrt/net{i}\")\n",
    "    pf.run_path_graph(net, threshold=0.5, save_path=f\"path_graphs/wbc/lrt/net{i}\", show=False)"
   ]
  },
  {
   "cell_type": "code",
   "execution_count": 4,
   "metadata": {},
   "outputs": [
    {
     "data": {
      "text/plain": [
       "{'median_acc_full': 0.9482456140350877,\n",
       " 'min_acc_full': 0.9280701754385964,\n",
       " 'max_acc_full': 0.9578947368421054,\n",
       " 'median_acc_median': 0.9149122807017543,\n",
       " 'min_acc_median': 0.8947368421052632,\n",
       " 'max_acc_median': 0.9614035087719298,\n",
       " 'median_density': 0.0013440860202535987,\n",
       " 'min_density': 0.0010752688394859433,\n",
       " 'max_density': 0.001612903201021254,\n",
       " 'median_used_weights': 7.5,\n",
       " 'min_used_weights': 6.0,\n",
       " 'max_used_weights': 9.0}"
      ]
     },
     "execution_count": 4,
     "metadata": {},
     "output_type": "execute_result"
    }
   ],
   "source": [
    "import numpy as np\n",
    "\n",
    "res = {}\n",
    "data = np.loadtxt(f\"results/lrt_class_skip_2_hidden_50_dim_20000_epochs_0.005_lr_wbc_full.txt\", delimiter=\",\")\n",
    "data_median = np.loadtxt(f\"results/lrt_class_skip_2_hidden_50_dim_20000_epochs_0.005_lr_wbc_median.txt\", delimiter=\",\")\n",
    "res[\"median_acc_full\"] = np.median(data, 0)[0]\n",
    "res[\"min_acc_full\"] = np.min(data, 0)[0]\n",
    "res[\"max_acc_full\"] = np.max(data, 0)[0]\n",
    "\n",
    "res[\"median_acc_median\"] = np.median(data_median, 0)[0]\n",
    "res[\"min_acc_median\"] = np.min(data_median, 0)[0]\n",
    "res[\"max_acc_median\"] = np.max(data_median, 0)[0]\n",
    "\n",
    "res[\"median_density\"] = np.median(data, 0)[1]\n",
    "res[\"min_density\"] = np.min(data, 0)[1]\n",
    "res[\"max_density\"] = np.max(data, 0)[1]\n",
    "\n",
    "res[\"median_used_weights\"] = np.median(data_median, 0)[1]\n",
    "res[\"min_used_weights\"] = np.min(data_median, 0)[1]\n",
    "res[\"max_used_weights\"] = np.max(data_median, 0)[1]\n",
    "\n",
    "res"
   ]
  },
  {
   "cell_type": "code",
   "execution_count": 10,
   "metadata": {},
   "outputs": [
    {
     "name": "stdout",
     "output_type": "stream",
     "text": [
      "USED WEIGHTS:\n",
      "median: 7.5\n",
      "min: 6\n",
      "max: 9\n",
      "\n"
     ]
    }
   ],
   "source": [
    "import numpy as np\n",
    "import matplotlib.pyplot as plt\n",
    "\n",
    "from scipy import stats\n",
    "\n",
    "import os\n",
    "import sys\n",
    "current_dir = os.getcwd()\n",
    "sys.path.append('layers')\n",
    "from config import config\n",
    "\n",
    "# Parameters from config file\n",
    "HIDDEN_LAYERS = config['n_layers'] - 2 \n",
    "epochs = config['num_epochs']\n",
    "dim = config['hidden_dim']\n",
    "n_nets = config['n_nets']\n",
    "\n",
    "path = \"results/wbc/lrt/\"\n",
    "res = {}\n",
    "\n",
    "\n",
    "res[\"used_weights\"] = []\n",
    "\n",
    "for n in range(n_nets):\n",
    "    median_info = np.load(path+f\"net{n}_median.npy\", allow_pickle=True).item()\n",
    "    res[\"used_weights\"].append(median_info[\"used_weights\"])\n",
    "\n",
    "print(\"USED WEIGHTS:\")\n",
    "m = (res[\"used_weights\"])\n",
    "print(f\"median: {np.median(m)}\")\n",
    "print(f\"min: {np.min(m)}\")\n",
    "print(f\"max: {np.max(m)}\\n\")"
   ]
  },
  {
   "cell_type": "code",
   "execution_count": 11,
   "metadata": {},
   "outputs": [
    {
     "name": "stdout",
     "output_type": "stream",
     "text": [
      "Avg. depth\n",
      "1.0\n",
      "1.0\n",
      "1.375\n",
      "\n",
      "Max depth\n",
      "1.0\n",
      "1\n",
      "2\n",
      "\n"
     ]
    }
   ],
   "source": [
    "import numpy as np\n",
    "import matplotlib.pyplot as plt\n",
    "\n",
    "from scipy import stats\n",
    "\n",
    "import os\n",
    "import sys\n",
    "current_dir = os.getcwd()\n",
    "sys.path.append('layers')\n",
    "from config import config\n",
    "\n",
    "# Parameters from config file\n",
    "HIDDEN_LAYERS = config['n_layers'] - 2 \n",
    "epochs = config['num_epochs']\n",
    "dim = config['hidden_dim']\n",
    "n_nets = config['n_nets']\n",
    "\n",
    "path = \"results/wbc/lrt/\"\n",
    "res = {}\n",
    "res[\"median_depth\"] = []\n",
    "res[\"max_width\"] = []\n",
    "\n",
    "for n in range(n_nets):\n",
    "    median_info = np.load(path+f\"net{n}_median.npy\", allow_pickle=True).item()\n",
    "    res[\"median_depth\"].append(median_info[\"avg_path_length\"])\n",
    "    search = True\n",
    "    i = 0\n",
    "    while search:\n",
    "        search = np.sum(median_info[\"include_inputs\"][i]) == 0\n",
    "        i += 1\n",
    "\n",
    "    res[\"max_width\"].append(HIDDEN_LAYERS-i+2)\n",
    "\n",
    "print(\"Avg. depth\")\n",
    "print(np.median(res[\"median_depth\"]))\n",
    "print(np.min(res[\"median_depth\"]))\n",
    "print(np.max(res[\"median_depth\"]))\n",
    "print(\"\")\n",
    "\n",
    "print(\"Max depth\")\n",
    "print(np.median(res[\"max_width\"]))\n",
    "print(np.min(res[\"max_width\"]))\n",
    "print(np.max(res[\"max_width\"]))\n",
    "print(\"\")"
   ]
  },
  {
   "cell_type": "code",
   "execution_count": 7,
   "metadata": {},
   "outputs": [
    {
     "data": {
      "text/plain": [
       "{'x1_inclution_rate': 0.1,\n",
       " 'x2_inclution_rate': 0.3,\n",
       " 'x3_inclution_rate': 0.3,\n",
       " 'x4_inclution_rate': 0.0,\n",
       " 'x5_inclution_rate': 0.0,\n",
       " 'x6_inclution_rate': 0.0,\n",
       " 'x7_inclution_rate': 0.4,\n",
       " 'x8_inclution_rate': 1.0,\n",
       " 'x9_inclution_rate': 0.0,\n",
       " 'x10_inclution_rate': 0.0,\n",
       " 'x11_inclution_rate': 0.0,\n",
       " 'x12_inclution_rate': 0.0,\n",
       " 'x13_inclution_rate': 0.0,\n",
       " 'x14_inclution_rate': 0.0,\n",
       " 'x15_inclution_rate': 0.0,\n",
       " 'x16_inclution_rate': 0.0,\n",
       " 'x17_inclution_rate': 0.0,\n",
       " 'x18_inclution_rate': 0.0,\n",
       " 'x19_inclution_rate': 0.0,\n",
       " 'x20_inclution_rate': 0.0,\n",
       " 'x21_inclution_rate': 1.0,\n",
       " 'x22_inclution_rate': 0.7,\n",
       " 'x23_inclution_rate': 1.0,\n",
       " 'x24_inclution_rate': 1.0,\n",
       " 'x25_inclution_rate': 0.0,\n",
       " 'x26_inclution_rate': 0.0,\n",
       " 'x27_inclution_rate': 0.2,\n",
       " 'x28_inclution_rate': 1.0,\n",
       " 'x29_inclution_rate': 0.0,\n",
       " 'x30_inclution_rate': 0.0}"
      ]
     },
     "execution_count": 7,
     "metadata": {},
     "output_type": "execute_result"
    }
   ],
   "source": [
    "import numpy as np\n",
    "\n",
    "\n",
    "import os\n",
    "import sys\n",
    "current_dir = os.getcwd()\n",
    "sys.path.append('layers')\n",
    "from config import config\n",
    "\n",
    "# Parameters from config file\n",
    "HIDDEN_LAYERS = config['n_layers'] - 2 \n",
    "epochs = config['num_epochs']\n",
    "dim = config['hidden_dim']\n",
    "n_nets = config['n_nets']\n",
    "\n",
    "path = \"results/wbc/lrt/\"\n",
    "res = {}\n",
    "for i in range(p):\n",
    "    res[f\"x{i+1}_inclution_rate\"] = 0\n",
    "    \n",
    "    for n in range(n_nets):\n",
    "        median_info = np.load(path+f\"net{n}_median.npy\", allow_pickle=True).item()\n",
    "        #res[d][f\"x{i+1}_inclution_rate\"] += (median_info[\"expected_depth_input\"][i]>0)\n",
    "        count = 0\n",
    "        for j in median_info[\"include_inputs\"]:\n",
    "            count += j[i]\n",
    "\n",
    "        res[f\"x{i+1}_inclution_rate\"] += (count>0)\n",
    "    res[f\"x{i+1}_inclution_rate\"] /= n_nets\n",
    "\n",
    "res"
   ]
  },
  {
   "cell_type": "markdown",
   "metadata": {},
   "source": [
    "# Abalone"
   ]
  },
  {
   "cell_type": "code",
   "execution_count": 1,
   "metadata": {},
   "outputs": [],
   "source": [
    "import copy\n",
    "import numpy as np\n",
    "import pandas as pd\n",
    "import torch\n",
    "import torch.optim as optim\n",
    "from sklearn.model_selection import train_test_split\n",
    "from config import config\n",
    "import sys\n",
    "import plot_functions as pf\n",
    "import pipeline_functions as pip_func\n",
    "sys.path.append('networks')\n",
    "from lrt_net import BayesianNetwork\n",
    "import torch.nn.functional as F"
   ]
  },
  {
   "cell_type": "code",
   "execution_count": 2,
   "metadata": {},
   "outputs": [
    {
     "name": "stdout",
     "output_type": "stream",
     "text": [
      "4177 9\n"
     ]
    }
   ],
   "source": [
    "# define parameters\n",
    "HIDDEN_LAYERS = config['n_layers'] - 2 \n",
    "epochs = config['num_epochs']\n",
    "post_train_epochs = config['post_train_epochs']\n",
    "dim = config['hidden_dim']\n",
    "num_transforms = config['num_transforms']\n",
    "n_nets = config['n_nets']\n",
    "lr = config['lr']\n",
    "class_problem = config[\"class_problem\"]\n",
    "verbose = config['verbose']\n",
    "save_res = config['save_res']\n",
    "patience = config['patience']\n",
    "SAMPLES = 1\n",
    "\n",
    "\n",
    "\n",
    "\n",
    "#---------DATA------------\n",
    "df = pd.read_csv(\"abalone.csv\")\n",
    "df = pd.get_dummies(df, drop_first=True)*1\n",
    "#df = df.drop([\"Sex\"])\n",
    "X_original = df.loc[:,df.columns != \"Rings\"].values\n",
    "y_original = df.loc[:,df.columns == \"Rings\"].values.T[0]\n",
    "n, p = X_original.shape  # need this to get p \n",
    "\n",
    "print(n,p)"
   ]
  },
  {
   "cell_type": "code",
   "execution_count": 4,
   "metadata": {},
   "outputs": [
    {
     "name": "stdout",
     "output_type": "stream",
     "text": [
      "{'Prob I0 from I': 0, 'Prob I1 from I': 0, 'Prob I2 from I': 0, 'Prob I3 from I': 0, 'Prob I4 from I': 0, 'Prob I5 from I': 0, 'Prob I6 from I': 0, 'Prob I7 from I': 0, 'Prob I8 from I': 0, 'Prob I0 from H1': 0, 'Prob I1 from H1': 0, 'Prob I2 from H1': 0, 'Prob I3 from H1': 0, 'Prob I4 from H1': 0, 'Prob I5 from H1': 0, 'Prob I6 from H1': 0, 'Prob I7 from H1': 0, 'Prob I8 from H1': 0, 'Prob I0 from H2': 0, 'Prob I1 from H2': 0, 'Prob I2 from H2': 0, 'Prob I3 from H2': 0, 'Prob I4 from H2': 0, 'Prob I5 from H2': 0, 'Prob I6 from H2': 0, 'Prob I7 from H2': 0, 'Prob I8 from H2': 0}\n",
      "H2\n",
      "{'Prob I0 from I': 0, 'Prob I1 from I': 0, 'Prob I2 from I': 0, 'Prob I3 from I': 0, 'Prob I4 from I': 0, 'Prob I5 from I': 0, 'Prob I6 from I': 0, 'Prob I7 from I': 0, 'Prob I8 from I': 0, 'Prob I0 from H1': 0, 'Prob I1 from H1': 0, 'Prob I2 from H1': 0, 'Prob I3 from H1': 0, 'Prob I4 from H1': 0, 'Prob I5 from H1': 0, 'Prob I6 from H1': 0, 'Prob I7 from H1': 0, 'Prob I8 from H1': 0, 'Prob I0 from H2': 0, 'Prob I1 from H2': 0, 'Prob I2 from H2': 0, 'Prob I3 from H2': 0, 'Prob I4 from H2': 0, 'Prob I5 from H2': 0, 'Prob I6 from H2': 0, 'Prob I7 from H2': 0, 'Prob I8 from H2': 0}\n",
      "H2\n",
      "{'Prob I0 from I': 0, 'Prob I1 from I': 0, 'Prob I2 from I': 0, 'Prob I3 from I': 0, 'Prob I4 from I': 0, 'Prob I5 from I': 0, 'Prob I6 from I': 0, 'Prob I7 from I': 0, 'Prob I8 from I': 0, 'Prob I0 from H1': 0, 'Prob I1 from H1': 0, 'Prob I2 from H1': 0, 'Prob I3 from H1': 0, 'Prob I4 from H1': 0, 'Prob I5 from H1': 0, 'Prob I6 from H1': 0, 'Prob I7 from H1': 0, 'Prob I8 from H1': 0, 'Prob I0 from H2': 0, 'Prob I1 from H2': 0, 'Prob I2 from H2': 0, 'Prob I3 from H2': 0, 'Prob I4 from H2': 0, 'Prob I5 from H2': 0, 'Prob I6 from H2': 0, 'Prob I7 from H2': 0, 'Prob I8 from H2': 0}\n",
      "H2\n",
      "{'Prob I0 from I': 0, 'Prob I1 from I': 0, 'Prob I2 from I': 0, 'Prob I3 from I': 0, 'Prob I4 from I': 0, 'Prob I5 from I': 0, 'Prob I6 from I': 0, 'Prob I7 from I': 0, 'Prob I8 from I': 0, 'Prob I0 from H1': 0, 'Prob I1 from H1': 0, 'Prob I2 from H1': 0, 'Prob I3 from H1': 0, 'Prob I4 from H1': 0, 'Prob I5 from H1': 0, 'Prob I6 from H1': 0, 'Prob I7 from H1': 0, 'Prob I8 from H1': 0, 'Prob I0 from H2': 0, 'Prob I1 from H2': 0, 'Prob I2 from H2': 0, 'Prob I3 from H2': 0, 'Prob I4 from H2': 0, 'Prob I5 from H2': 0, 'Prob I6 from H2': 0, 'Prob I7 from H2': 0, 'Prob I8 from H2': 0}\n",
      "H2\n",
      "{'Prob I0 from I': 0, 'Prob I1 from I': 0, 'Prob I2 from I': 0, 'Prob I3 from I': 0, 'Prob I4 from I': 0, 'Prob I5 from I': 0, 'Prob I6 from I': 0, 'Prob I7 from I': 0, 'Prob I8 from I': 0, 'Prob I0 from H1': 0, 'Prob I1 from H1': 0, 'Prob I2 from H1': 0, 'Prob I3 from H1': 0, 'Prob I4 from H1': 0, 'Prob I5 from H1': 0, 'Prob I6 from H1': 0, 'Prob I7 from H1': 0, 'Prob I8 from H1': 0, 'Prob I0 from H2': 0, 'Prob I1 from H2': 0, 'Prob I2 from H2': 0, 'Prob I3 from H2': 0, 'Prob I4 from H2': 0, 'Prob I5 from H2': 0, 'Prob I6 from H2': 0, 'Prob I7 from H2': 0, 'Prob I8 from H2': 0}\n",
      "H2\n",
      "{'Prob I0 from I': 0, 'Prob I1 from I': 0, 'Prob I2 from I': 0, 'Prob I3 from I': 0, 'Prob I4 from I': 0, 'Prob I5 from I': 0, 'Prob I6 from I': 0, 'Prob I7 from I': 0, 'Prob I8 from I': 0, 'Prob I0 from H1': 0, 'Prob I1 from H1': 0, 'Prob I2 from H1': 0, 'Prob I3 from H1': 0, 'Prob I4 from H1': 0, 'Prob I5 from H1': 0, 'Prob I6 from H1': 0, 'Prob I7 from H1': 0, 'Prob I8 from H1': 0, 'Prob I0 from H2': 0, 'Prob I1 from H2': 0, 'Prob I2 from H2': 0, 'Prob I3 from H2': 0, 'Prob I4 from H2': 0, 'Prob I5 from H2': 0, 'Prob I6 from H2': 0, 'Prob I7 from H2': 0, 'Prob I8 from H2': 0}\n",
      "H2\n",
      "{'Prob I0 from I': 0, 'Prob I1 from I': 0, 'Prob I2 from I': 0, 'Prob I3 from I': 0, 'Prob I4 from I': 0, 'Prob I5 from I': 0, 'Prob I6 from I': 0, 'Prob I7 from I': 0, 'Prob I8 from I': 0, 'Prob I0 from H1': 0, 'Prob I1 from H1': 0, 'Prob I2 from H1': 0, 'Prob I3 from H1': 0, 'Prob I4 from H1': 0, 'Prob I5 from H1': 0, 'Prob I6 from H1': 0, 'Prob I7 from H1': 0, 'Prob I8 from H1': 0, 'Prob I0 from H2': 0, 'Prob I1 from H2': 0, 'Prob I2 from H2': 0, 'Prob I3 from H2': 0, 'Prob I4 from H2': 0, 'Prob I5 from H2': 0, 'Prob I6 from H2': 0, 'Prob I7 from H2': 0, 'Prob I8 from H2': 0}\n",
      "H2\n",
      "{'Prob I0 from I': 0, 'Prob I1 from I': 0, 'Prob I2 from I': 0, 'Prob I3 from I': 0, 'Prob I4 from I': 0, 'Prob I5 from I': 0, 'Prob I6 from I': 0, 'Prob I7 from I': 0, 'Prob I8 from I': 0, 'Prob I0 from H1': 0, 'Prob I1 from H1': 0, 'Prob I2 from H1': 0, 'Prob I3 from H1': 0, 'Prob I4 from H1': 0, 'Prob I5 from H1': 0, 'Prob I6 from H1': 0, 'Prob I7 from H1': 0, 'Prob I8 from H1': 0, 'Prob I0 from H2': 0, 'Prob I1 from H2': 0, 'Prob I2 from H2': 0, 'Prob I3 from H2': 0, 'Prob I4 from H2': 0, 'Prob I5 from H2': 0, 'Prob I6 from H2': 0, 'Prob I7 from H2': 0, 'Prob I8 from H2': 0}\n",
      "H2\n",
      "{'Prob I0 from I': 0, 'Prob I1 from I': 0, 'Prob I2 from I': 0, 'Prob I3 from I': 0, 'Prob I4 from I': 0, 'Prob I5 from I': 0, 'Prob I6 from I': 0, 'Prob I7 from I': 0, 'Prob I8 from I': 0, 'Prob I0 from H1': 0, 'Prob I1 from H1': 0, 'Prob I2 from H1': 0, 'Prob I3 from H1': 0, 'Prob I4 from H1': 0, 'Prob I5 from H1': 0, 'Prob I6 from H1': 0, 'Prob I7 from H1': 0, 'Prob I8 from H1': 0, 'Prob I0 from H2': 0, 'Prob I1 from H2': 0, 'Prob I2 from H2': 0, 'Prob I3 from H2': 0, 'Prob I4 from H2': 0, 'Prob I5 from H2': 0, 'Prob I6 from H2': 0, 'Prob I7 from H2': 0, 'Prob I8 from H2': 0}\n",
      "H2\n",
      "{'Prob I0 from I': 0, 'Prob I1 from I': 0, 'Prob I2 from I': 0, 'Prob I3 from I': 0, 'Prob I4 from I': 0, 'Prob I5 from I': 0, 'Prob I6 from I': 0, 'Prob I7 from I': 0, 'Prob I8 from I': 0, 'Prob I0 from H1': 0, 'Prob I1 from H1': 0, 'Prob I2 from H1': 0, 'Prob I3 from H1': 0, 'Prob I4 from H1': 0, 'Prob I5 from H1': 0, 'Prob I6 from H1': 0, 'Prob I7 from H1': 0, 'Prob I8 from H1': 0, 'Prob I0 from H2': 0, 'Prob I1 from H2': 0, 'Prob I2 from H2': 0, 'Prob I3 from H2': 0, 'Prob I4 from H2': 0, 'Prob I5 from H2': 0, 'Prob I6 from H2': 0, 'Prob I7 from H2': 0, 'Prob I8 from H2': 0}\n",
      "H2\n",
      "{'Prob I0 from I': 0, 'Prob I1 from I': 0, 'Prob I2 from I': 0, 'Prob I3 from I': 0, 'Prob I4 from I': 0, 'Prob I5 from I': 0, 'Prob I6 from I': 0, 'Prob I7 from I': 0, 'Prob I8 from I': 0, 'Prob I0 from H1': 0, 'Prob I1 from H1': 0, 'Prob I2 from H1': 0, 'Prob I3 from H1': 0, 'Prob I4 from H1': 0, 'Prob I5 from H1': 0, 'Prob I6 from H1': 0, 'Prob I7 from H1': 0, 'Prob I8 from H1': 0, 'Prob I0 from H2': 0, 'Prob I1 from H2': 0, 'Prob I2 from H2': 0, 'Prob I3 from H2': 0, 'Prob I4 from H2': 0, 'Prob I5 from H2': 0, 'Prob I6 from H2': 0, 'Prob I7 from H2': 0, 'Prob I8 from H2': 0}\n",
      "H2\n",
      "{'Prob I0 from I': 0, 'Prob I1 from I': 0, 'Prob I2 from I': 0, 'Prob I3 from I': 0, 'Prob I4 from I': 0, 'Prob I5 from I': 0, 'Prob I6 from I': 0, 'Prob I7 from I': 0, 'Prob I8 from I': 0, 'Prob I0 from H1': 0, 'Prob I1 from H1': 0, 'Prob I2 from H1': 0, 'Prob I3 from H1': 0, 'Prob I4 from H1': 0, 'Prob I5 from H1': 0, 'Prob I6 from H1': 0, 'Prob I7 from H1': 0, 'Prob I8 from H1': 0, 'Prob I0 from H2': 0, 'Prob I1 from H2': 0, 'Prob I2 from H2': 0, 'Prob I3 from H2': 0, 'Prob I4 from H2': 0, 'Prob I5 from H2': 0, 'Prob I6 from H2': 0, 'Prob I7 from H2': 0, 'Prob I8 from H2': 0}\n",
      "H2\n",
      "{'Prob I0 from I': 0, 'Prob I1 from I': 0, 'Prob I2 from I': 0, 'Prob I3 from I': 0, 'Prob I4 from I': 0, 'Prob I5 from I': 0, 'Prob I6 from I': 0, 'Prob I7 from I': 0, 'Prob I8 from I': 0, 'Prob I0 from H1': 0, 'Prob I1 from H1': 0, 'Prob I2 from H1': 0, 'Prob I3 from H1': 0, 'Prob I4 from H1': 0, 'Prob I5 from H1': 0, 'Prob I6 from H1': 0, 'Prob I7 from H1': 0, 'Prob I8 from H1': 0, 'Prob I0 from H2': 0, 'Prob I1 from H2': 0, 'Prob I2 from H2': 0, 'Prob I3 from H2': 0, 'Prob I4 from H2': 0, 'Prob I5 from H2': 0, 'Prob I6 from H2': 0, 'Prob I7 from H2': 0, 'Prob I8 from H2': 0}\n",
      "H2\n",
      "{'Prob I0 from I': 0, 'Prob I1 from I': 0, 'Prob I2 from I': 0, 'Prob I3 from I': 0, 'Prob I4 from I': 0, 'Prob I5 from I': 0, 'Prob I6 from I': 0, 'Prob I7 from I': 0, 'Prob I8 from I': 0, 'Prob I0 from H1': 0, 'Prob I1 from H1': 0, 'Prob I2 from H1': 0, 'Prob I3 from H1': 0, 'Prob I4 from H1': 0, 'Prob I5 from H1': 0, 'Prob I6 from H1': 0, 'Prob I7 from H1': 0, 'Prob I8 from H1': 0, 'Prob I0 from H2': 0, 'Prob I1 from H2': 0, 'Prob I2 from H2': 0, 'Prob I3 from H2': 0, 'Prob I4 from H2': 0, 'Prob I5 from H2': 0, 'Prob I6 from H2': 0, 'Prob I7 from H2': 0, 'Prob I8 from H2': 0}\n",
      "H2\n",
      "{'Prob I0 from I': 0, 'Prob I1 from I': 0, 'Prob I2 from I': 0, 'Prob I3 from I': 0, 'Prob I4 from I': 0, 'Prob I5 from I': 0, 'Prob I6 from I': 0, 'Prob I7 from I': 0, 'Prob I8 from I': 0, 'Prob I0 from H1': 0, 'Prob I1 from H1': 0, 'Prob I2 from H1': 0, 'Prob I3 from H1': 0, 'Prob I4 from H1': 0, 'Prob I5 from H1': 0, 'Prob I6 from H1': 0, 'Prob I7 from H1': 0, 'Prob I8 from H1': 0, 'Prob I0 from H2': 0, 'Prob I1 from H2': 0, 'Prob I2 from H2': 0, 'Prob I3 from H2': 0, 'Prob I4 from H2': 0, 'Prob I5 from H2': 0, 'Prob I6 from H2': 0, 'Prob I7 from H2': 0, 'Prob I8 from H2': 0}\n",
      "H2\n",
      "{'Prob I0 from I': 0, 'Prob I1 from I': 0, 'Prob I2 from I': 0, 'Prob I3 from I': 0, 'Prob I4 from I': 0, 'Prob I5 from I': 0, 'Prob I6 from I': 0, 'Prob I7 from I': 0, 'Prob I8 from I': 0, 'Prob I0 from H1': 0, 'Prob I1 from H1': 0, 'Prob I2 from H1': 0, 'Prob I3 from H1': 0, 'Prob I4 from H1': 0, 'Prob I5 from H1': 0, 'Prob I6 from H1': 0, 'Prob I7 from H1': 0, 'Prob I8 from H1': 0, 'Prob I0 from H2': 0, 'Prob I1 from H2': 0, 'Prob I2 from H2': 0, 'Prob I3 from H2': 0, 'Prob I4 from H2': 0, 'Prob I5 from H2': 0, 'Prob I6 from H2': 0, 'Prob I7 from H2': 0, 'Prob I8 from H2': 0}\n",
      "H2\n",
      "{'Prob I0 from I': 0, 'Prob I1 from I': 0, 'Prob I2 from I': 0, 'Prob I3 from I': 0, 'Prob I4 from I': 0, 'Prob I5 from I': 0, 'Prob I6 from I': 0, 'Prob I7 from I': 0, 'Prob I8 from I': 0, 'Prob I0 from H1': 0, 'Prob I1 from H1': 0, 'Prob I2 from H1': 0, 'Prob I3 from H1': 0, 'Prob I4 from H1': 0, 'Prob I5 from H1': 0, 'Prob I6 from H1': 0, 'Prob I7 from H1': 0, 'Prob I8 from H1': 0, 'Prob I0 from H2': 0, 'Prob I1 from H2': 0, 'Prob I2 from H2': 0, 'Prob I3 from H2': 0, 'Prob I4 from H2': 0, 'Prob I5 from H2': 0, 'Prob I6 from H2': 0, 'Prob I7 from H2': 0, 'Prob I8 from H2': 0}\n",
      "H2\n",
      "{'Prob I0 from I': 0, 'Prob I1 from I': 0, 'Prob I2 from I': 0, 'Prob I3 from I': 0, 'Prob I4 from I': 0, 'Prob I5 from I': 0, 'Prob I6 from I': 0, 'Prob I7 from I': 0, 'Prob I8 from I': 0, 'Prob I0 from H1': 0, 'Prob I1 from H1': 0, 'Prob I2 from H1': 0, 'Prob I3 from H1': 0, 'Prob I4 from H1': 0, 'Prob I5 from H1': 0, 'Prob I6 from H1': 0, 'Prob I7 from H1': 0, 'Prob I8 from H1': 0, 'Prob I0 from H2': 0, 'Prob I1 from H2': 0, 'Prob I2 from H2': 0, 'Prob I3 from H2': 0, 'Prob I4 from H2': 0, 'Prob I5 from H2': 0, 'Prob I6 from H2': 0, 'Prob I7 from H2': 0, 'Prob I8 from H2': 0}\n",
      "H2\n",
      "{'Prob I0 from I': 0, 'Prob I1 from I': 0, 'Prob I2 from I': 0, 'Prob I3 from I': 0, 'Prob I4 from I': 0, 'Prob I5 from I': 0, 'Prob I6 from I': 0, 'Prob I7 from I': 0, 'Prob I8 from I': 0, 'Prob I0 from H1': 0, 'Prob I1 from H1': 0, 'Prob I2 from H1': 0, 'Prob I3 from H1': 0, 'Prob I4 from H1': 0, 'Prob I5 from H1': 0, 'Prob I6 from H1': 0, 'Prob I7 from H1': 0, 'Prob I8 from H1': 0, 'Prob I0 from H2': 0, 'Prob I1 from H2': 0, 'Prob I2 from H2': 0, 'Prob I3 from H2': 0, 'Prob I4 from H2': 0, 'Prob I5 from H2': 0, 'Prob I6 from H2': 0, 'Prob I7 from H2': 0, 'Prob I8 from H2': 0}\n",
      "H2\n",
      "{'Prob I0 from I': 0, 'Prob I1 from I': 0, 'Prob I2 from I': 0, 'Prob I3 from I': 0, 'Prob I4 from I': 0, 'Prob I5 from I': 0, 'Prob I6 from I': 0, 'Prob I7 from I': 0, 'Prob I8 from I': 0, 'Prob I0 from H1': 0, 'Prob I1 from H1': 0, 'Prob I2 from H1': 0, 'Prob I3 from H1': 0, 'Prob I4 from H1': 0, 'Prob I5 from H1': 0, 'Prob I6 from H1': 0, 'Prob I7 from H1': 0, 'Prob I8 from H1': 0, 'Prob I0 from H2': 0, 'Prob I1 from H2': 0, 'Prob I2 from H2': 0, 'Prob I3 from H2': 0, 'Prob I4 from H2': 0, 'Prob I5 from H2': 0, 'Prob I6 from H2': 0, 'Prob I7 from H2': 0, 'Prob I8 from H2': 0}\n",
      "H2\n"
     ]
    }
   ],
   "source": [
    "# importlib.reload(pf)\n",
    "for i in range(10):\n",
    "    net = torch.load(f\"trained_nets/abalone/lrt/net{i}\", map_location=torch.device('cpu'))\n",
    "    pf.save_metrics(net, path=f\"results/abalone/lrt/net{i}\")\n",
    "    pf.run_path_graph(net, threshold=0.5, save_path=f\"path_graphs/abalone/lrt/net{i}\", show=False)"
   ]
  },
  {
   "cell_type": "code",
   "execution_count": 34,
   "metadata": {},
   "outputs": [
    {
     "data": {
      "text/plain": [
       "{'median_rmse_full': 2.115133285522461,\n",
       " 'min_rmse_full': 2.0700676441192627,\n",
       " 'max_rmse_full': 2.170462131500244,\n",
       " 'median_rmse_median': 2.109241008758545,\n",
       " 'min_rmse_median': 2.067035436630249,\n",
       " 'max_rmse_median': 2.1697261333465576,\n",
       " 'median_density': 0.0007989225850906223,\n",
       " 'min_density': 0.000525006209500134,\n",
       " 'max_density': 0.0028304685838520527,\n",
       " 'median_used_weights': 35.0,\n",
       " 'min_used_weights': 23.0,\n",
       " 'max_used_weights': 124.0,\n",
       " 'median_r2_full': 0.6021074056625366,\n",
       " 'min_r2_full': 0.5809487104415894,\n",
       " 'max_r2_full': 0.618885338306427,\n",
       " 'median_r2_median': 0.6043158769607544,\n",
       " 'min_r2_median': 0.5807948112487793,\n",
       " 'max_r2_median': 0.6199920177459717,\n",
       " 'median_corr_full': 0.7759556546884868,\n",
       " 'min_corr_full': 0.7621999150102218,\n",
       " 'max_corr_full': 0.7866926580987184,\n",
       " 'median_corr_median': 0.7773772189646041,\n",
       " 'min_corr_median': 0.7620989510875732,\n",
       " 'max_corr_median': 0.7873957186484898}"
      ]
     },
     "execution_count": 34,
     "metadata": {},
     "output_type": "execute_result"
    }
   ],
   "source": [
    "import numpy as np\n",
    "\n",
    "res = {}\n",
    "data = np.loadtxt(f\"results/lrt_reg_skip_2_hidden_200_dim_2000_epochs_0.01_lr_abalone_full.txt\", delimiter=\",\")\n",
    "data_median = np.loadtxt(f\"results/lrt_reg_skip_2_hidden_200_dim_2000_epochs_0.01_lr_abalone_median.txt\", delimiter=\",\")\n",
    "res[\"median_rmse_full\"] = np.median(data, 0)[0]\n",
    "res[\"min_rmse_full\"] = np.min(data, 0)[0]\n",
    "res[\"max_rmse_full\"] = np.max(data, 0)[0]\n",
    "\n",
    "res[\"median_rmse_median\"] = np.median(data_median, 0)[0]\n",
    "res[\"min_rmse_median\"] = np.min(data_median, 0)[0]\n",
    "res[\"max_rmse_median\"] = np.max(data_median, 0)[0]\n",
    "\n",
    "res[\"median_density\"] = np.median(data, 0)[1]\n",
    "res[\"min_density\"] = np.min(data, 0)[1]\n",
    "res[\"max_density\"] = np.max(data, 0)[1]\n",
    "\n",
    "res[\"median_used_weights\"] = np.median(data_median, 0)[1]\n",
    "res[\"min_used_weights\"] = np.min(data_median, 0)[1]\n",
    "res[\"max_used_weights\"] = np.max(data_median, 0)[1]\n",
    "\n",
    "res[\"median_r2_full\"] = np.median(data, 0)[2]\n",
    "res[\"min_r2_full\"] = np.min(data, 0)[2]\n",
    "res[\"max_r2_full\"] = np.max(data, 0)[2]\n",
    "\n",
    "res[\"median_r2_median\"] = np.median(data_median, 0)[2]\n",
    "res[\"min_r2_median\"] = np.min(data_median, 0)[2]\n",
    "res[\"max_r2_median\"] = np.max(data_median, 0)[2]\n",
    "\n",
    "res[\"median_corr_full\"] = np.median(np.sqrt(data), 0)[2]\n",
    "res[\"min_corr_full\"] = np.min(np.sqrt(data), 0)[2]\n",
    "res[\"max_corr_full\"] = np.max(np.sqrt(data), 0)[2]\n",
    "\n",
    "res[\"median_corr_median\"] = np.median(np.sqrt(data_median), 0)[2]\n",
    "res[\"min_corr_median\"] = np.min(np.sqrt(data_median), 0)[2]\n",
    "res[\"max_corr_median\"] = np.max(np.sqrt(data_median), 0)[2]\n",
    "\n",
    "res"
   ]
  },
  {
   "cell_type": "code",
   "execution_count": 5,
   "metadata": {},
   "outputs": [
    {
     "name": "stdout",
     "output_type": "stream",
     "text": [
      "USED WEIGHTS:\n",
      "median: 35.0\n",
      "min: 23\n",
      "max: 124\n",
      "\n"
     ]
    }
   ],
   "source": [
    "import numpy as np\n",
    "import matplotlib.pyplot as plt\n",
    "\n",
    "from scipy import stats\n",
    "\n",
    "import os\n",
    "import sys\n",
    "current_dir = os.getcwd()\n",
    "sys.path.append('layers')\n",
    "from config import config\n",
    "\n",
    "# Parameters from config file\n",
    "HIDDEN_LAYERS = config['n_layers'] - 2 \n",
    "epochs = config['num_epochs']\n",
    "dim = config['hidden_dim']\n",
    "n_nets = config['n_nets']\n",
    "\n",
    "path = \"results/abalone/lrt/\"\n",
    "res = {}\n",
    "\n",
    "\n",
    "res[\"used_weights\"] = []\n",
    "\n",
    "for n in range(n_nets):\n",
    "    median_info = np.load(path+f\"net{n}_median.npy\", allow_pickle=True).item()\n",
    "    res[\"used_weights\"].append(median_info[\"used_weights\"])\n",
    "\n",
    "print(\"USED WEIGHTS:\")\n",
    "m = (res[\"used_weights\"])\n",
    "print(f\"median: {np.median(m)}\")\n",
    "print(f\"min: {np.min(m)}\")\n",
    "print(f\"max: {np.max(m)}\\n\")"
   ]
  },
  {
   "cell_type": "code",
   "execution_count": 6,
   "metadata": {},
   "outputs": [
    {
     "name": "stdout",
     "output_type": "stream",
     "text": [
      "Avg. depth\n",
      "2.506756756756757\n",
      "1.8823529411764706\n",
      "2.7435897435897436\n",
      "\n",
      "Max depth\n",
      "3.0\n",
      "3\n",
      "3\n",
      "\n"
     ]
    }
   ],
   "source": [
    "import numpy as np\n",
    "import matplotlib.pyplot as plt\n",
    "\n",
    "from scipy import stats\n",
    "\n",
    "import os\n",
    "import sys\n",
    "current_dir = os.getcwd()\n",
    "sys.path.append('layers')\n",
    "from config import config\n",
    "\n",
    "# Parameters from config file\n",
    "HIDDEN_LAYERS = config['n_layers'] - 2 \n",
    "epochs = config['num_epochs']\n",
    "dim = config['hidden_dim']\n",
    "n_nets = config['n_nets']\n",
    "\n",
    "path = \"results/abalone/lrt/\"\n",
    "res = {}\n",
    "res[\"median_depth\"] = []\n",
    "res[\"max_width\"] = []\n",
    "\n",
    "for n in range(n_nets):\n",
    "    median_info = np.load(path+f\"net{n}_median.npy\", allow_pickle=True).item()\n",
    "    res[\"median_depth\"].append(median_info[\"avg_path_length\"])\n",
    "    search = True\n",
    "    i = 0\n",
    "    while search:\n",
    "        search = np.sum(median_info[\"include_inputs\"][i]) == 0\n",
    "        i += 1\n",
    "\n",
    "    res[\"max_width\"].append(HIDDEN_LAYERS-i+2)\n",
    "\n",
    "print(\"Avg. depth\")\n",
    "print(np.median(res[\"median_depth\"]))\n",
    "print(np.min(res[\"median_depth\"]))\n",
    "print(np.max(res[\"median_depth\"]))\n",
    "print(\"\")\n",
    "\n",
    "print(\"Max depth\")\n",
    "print(np.median(res[\"max_width\"]))\n",
    "print(np.min(res[\"max_width\"]))\n",
    "print(np.max(res[\"max_width\"]))\n",
    "print(\"\")"
   ]
  },
  {
   "cell_type": "code",
   "execution_count": 39,
   "metadata": {},
   "outputs": [
    {
     "data": {
      "text/plain": [
       "{'x1_inclution_rate': 0.9,\n",
       " 'x2_inclution_rate': 0.7,\n",
       " 'x3_inclution_rate': 0.2,\n",
       " 'x4_inclution_rate': 1.0,\n",
       " 'x5_inclution_rate': 1.0,\n",
       " 'x6_inclution_rate': 0.4,\n",
       " 'x7_inclution_rate': 1.0,\n",
       " 'x8_inclution_rate': 1.0,\n",
       " 'x9_inclution_rate': 0.2}"
      ]
     },
     "execution_count": 39,
     "metadata": {},
     "output_type": "execute_result"
    }
   ],
   "source": [
    "import numpy as np\n",
    "\n",
    "\n",
    "import os\n",
    "import sys\n",
    "current_dir = os.getcwd()\n",
    "sys.path.append('layers')\n",
    "from config import config\n",
    "\n",
    "# Parameters from config file\n",
    "HIDDEN_LAYERS = config['n_layers'] - 2 \n",
    "epochs = config['num_epochs']\n",
    "dim = config['hidden_dim']\n",
    "n_nets = config['n_nets']\n",
    "\n",
    "path = \"results/abalone/lrt/\"\n",
    "res = {}\n",
    "for i in range(p):\n",
    "    res[f\"x{i+1}_inclution_rate\"] = 0\n",
    "    \n",
    "    for n in range(n_nets):\n",
    "        median_info = np.load(path+f\"net{n}_median.npy\", allow_pickle=True).item()\n",
    "        #res[d][f\"x{i+1}_inclution_rate\"] += (median_info[\"expected_depth_input\"][i]>0)\n",
    "        count = 0\n",
    "        for j in median_info[\"include_inputs\"]:\n",
    "            count += j[i]\n",
    "\n",
    "        res[f\"x{i+1}_inclution_rate\"] += (count>0)\n",
    "    res[f\"x{i+1}_inclution_rate\"] /= n_nets\n",
    "\n",
    "res"
   ]
  },
  {
   "cell_type": "code",
   "execution_count": 40,
   "metadata": {},
   "outputs": [
    {
     "data": {
      "text/plain": [
       "Index(['Length', 'Diameter', 'Height', 'Whole weight', 'Shucked weight',\n",
       "       'Viscera weight', 'Shell weight', 'Sex_I', 'Sex_M'],\n",
       "      dtype='object')"
      ]
     },
     "execution_count": 40,
     "metadata": {},
     "output_type": "execute_result"
    }
   ],
   "source": [
    "df.loc[:,df.columns != \"Rings\"].columns"
   ]
  }
 ],
 "metadata": {
  "kernelspec": {
   "display_name": "master",
   "language": "python",
   "name": "python3"
  },
  "language_info": {
   "codemirror_mode": {
    "name": "ipython",
    "version": 3
   },
   "file_extension": ".py",
   "mimetype": "text/x-python",
   "name": "python",
   "nbconvert_exporter": "python",
   "pygments_lexer": "ipython3",
   "version": "3.10.12"
  }
 },
 "nbformat": 4,
 "nbformat_minor": 2
}
